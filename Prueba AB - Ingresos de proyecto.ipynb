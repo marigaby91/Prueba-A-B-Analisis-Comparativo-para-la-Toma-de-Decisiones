{
 "cells": [
  {
   "cell_type": "markdown",
   "metadata": {
    "toc": true
   },
   "source": [
    "<h1>Table of Contents<span class=\"tocSkip\"></span></h1>\n",
    "<div class=\"toc\"><ul class=\"toc-item\"><li><span><a href=\"#Hola-Maria!\" data-toc-modified-id=\"Hola-Maria!-1\"><span class=\"toc-item-num\">1&nbsp;&nbsp;</span>Hola Maria!</a></span></li><li><span><a href=\"#Comentario-General\" data-toc-modified-id=\"Comentario-General-2\"><span class=\"toc-item-num\">2&nbsp;&nbsp;</span>Comentario General</a></span></li><li><span><a href=\"#Comentario-General-#2\" data-toc-modified-id=\"Comentario-General-#2-3\"><span class=\"toc-item-num\">3&nbsp;&nbsp;</span>Comentario General #2</a></span></li><li><span><a href=\"#Comentario-General-#3\" data-toc-modified-id=\"Comentario-General-#3-4\"><span class=\"toc-item-num\">4&nbsp;&nbsp;</span>Comentario General #3</a></span></li><li><span><a href=\"#Comentario-General-#4\" data-toc-modified-id=\"Comentario-General-#4-5\"><span class=\"toc-item-num\">5&nbsp;&nbsp;</span>Comentario General #4</a></span></li><li><span><a href=\"#Comentario-General-#5\" data-toc-modified-id=\"Comentario-General-#5-6\"><span class=\"toc-item-num\">6&nbsp;&nbsp;</span>Comentario General #5</a></span></li><li><span><a href=\"#Introduccion\" data-toc-modified-id=\"Introduccion-7\"><span class=\"toc-item-num\">7&nbsp;&nbsp;</span>Introduccion</a></span></li><li><span><a href=\"#Analis-de-datos\" data-toc-modified-id=\"Analis-de-datos-8\"><span class=\"toc-item-num\">8&nbsp;&nbsp;</span>Analis de datos</a></span><ul class=\"toc-item\"><li><span><a href=\"#Carga-de-datasets-e-importacion-de-librerias\" data-toc-modified-id=\"Carga-de-datasets-e-importacion-de-librerias-8.1\"><span class=\"toc-item-num\">8.1&nbsp;&nbsp;</span>Carga de datasets e importacion de librerias</a></span></li><li><span><a href=\"#Estudio-de-datos\" data-toc-modified-id=\"Estudio-de-datos-8.2\"><span class=\"toc-item-num\">8.2&nbsp;&nbsp;</span>Estudio de datos</a></span></li></ul></li><li><span><a href=\"#Priorizar-hipótesis\" data-toc-modified-id=\"Priorizar-hipótesis-9\"><span class=\"toc-item-num\">9&nbsp;&nbsp;</span>Priorizar hipótesis</a></span><ul class=\"toc-item\"><li><span><a href=\"#ICE\" data-toc-modified-id=\"ICE-9.1\"><span class=\"toc-item-num\">9.1&nbsp;&nbsp;</span>ICE</a></span></li><li><span><a href=\"#RICE\" data-toc-modified-id=\"RICE-9.2\"><span class=\"toc-item-num\">9.2&nbsp;&nbsp;</span>RICE</a></span></li><li><span><a href=\"#Comparacion\" data-toc-modified-id=\"Comparacion-9.3\"><span class=\"toc-item-num\">9.3&nbsp;&nbsp;</span>Comparacion</a></span></li></ul></li><li><span><a href=\"#Análisis-de-test-A/B\" data-toc-modified-id=\"Análisis-de-test-A/B-10\"><span class=\"toc-item-num\">10&nbsp;&nbsp;</span>Análisis de test A/B</a></span><ul class=\"toc-item\"><li><span><a href=\"#Ingreso-acumulado-por-producto\" data-toc-modified-id=\"Ingreso-acumulado-por-producto-10.1\"><span class=\"toc-item-num\">10.1&nbsp;&nbsp;</span>Ingreso acumulado por producto</a></span></li><li><span><a href=\"#Tamaño-de-pedido-promedio-acumulado-por-grupo\" data-toc-modified-id=\"Tamaño-de-pedido-promedio-acumulado-por-grupo-10.2\"><span class=\"toc-item-num\">10.2&nbsp;&nbsp;</span>Tamaño de pedido promedio acumulado por grupo</a></span></li><li><span><a href=\"#Diferencia-relativa-en-el-tamaño-de-pedido-promedio-acumulado-para-el-grupo-B-en-comparación-con-el-grupo-A\" data-toc-modified-id=\"Diferencia-relativa-en-el-tamaño-de-pedido-promedio-acumulado-para-el-grupo-B-en-comparación-con-el-grupo-A-10.3\"><span class=\"toc-item-num\">10.3&nbsp;&nbsp;</span>Diferencia relativa en el tamaño de pedido promedio acumulado para el grupo B en comparación con el grupo A</a></span></li><li><span><a href=\"#Tasa-de-conversión-de-cada-grupo-como-la-relación-entre-los-pedidos-y-el-número-de-visitas-de-cada-día\" data-toc-modified-id=\"Tasa-de-conversión-de-cada-grupo-como-la-relación-entre-los-pedidos-y-el-número-de-visitas-de-cada-día-10.4\"><span class=\"toc-item-num\">10.4&nbsp;&nbsp;</span>Tasa de conversión de cada grupo como la relación entre los pedidos y el número de visitas de cada día</a></span></li><li><span><a href=\"#Gráfico-de-dispersión-del-número-de-pedidos-por-usuario.\" data-toc-modified-id=\"Gráfico-de-dispersión-del-número-de-pedidos-por-usuario.-10.5\"><span class=\"toc-item-num\">10.5&nbsp;&nbsp;</span>Gráfico de dispersión del número de pedidos por usuario.</a></span></li><li><span><a href=\"#Percentiles-95-y-99-para-el-número-de-pedidos-por-usuario\" data-toc-modified-id=\"Percentiles-95-y-99-para-el-número-de-pedidos-por-usuario-10.6\"><span class=\"toc-item-num\">10.6&nbsp;&nbsp;</span>Percentiles 95 y 99 para el número de pedidos por usuario</a></span></li><li><span><a href=\"#Gráfico-de-dispersión-de-los-precios-de-los-pedidos.\" data-toc-modified-id=\"Gráfico-de-dispersión-de-los-precios-de-los-pedidos.-10.7\"><span class=\"toc-item-num\">10.7&nbsp;&nbsp;</span>Gráfico de dispersión de los precios de los pedidos.</a></span></li><li><span><a href=\"#Percentiles-95-y-99-de-los-precios-de-los-pedidos.\" data-toc-modified-id=\"Percentiles-95-y-99-de-los-precios-de-los-pedidos.-10.8\"><span class=\"toc-item-num\">10.8&nbsp;&nbsp;</span>Percentiles 95 y 99 de los precios de los pedidos.</a></span></li><li><span><a href=\"#Significancia-estadística-de-la-diferencia-en-la-conversión-entre-los-grupos-utilizando-los-datos-en-bruto\" data-toc-modified-id=\"Significancia-estadística-de-la-diferencia-en-la-conversión-entre-los-grupos-utilizando-los-datos-en-bruto-10.9\"><span class=\"toc-item-num\">10.9&nbsp;&nbsp;</span>Significancia estadística de la diferencia en la conversión entre los grupos utilizando los datos en bruto</a></span></li><li><span><a href=\"#Significancia-estadística-de-la-diferencia-en-el-tamaño-promedio-de-pedido-entre-los-grupos-utilizando-los-datos-en-bruto.\" data-toc-modified-id=\"Significancia-estadística-de-la-diferencia-en-el-tamaño-promedio-de-pedido-entre-los-grupos-utilizando-los-datos-en-bruto.-10.10\"><span class=\"toc-item-num\">10.10&nbsp;&nbsp;</span>Significancia estadística de la diferencia en el tamaño promedio de pedido entre los grupos utilizando los datos en bruto.</a></span></li><li><span><a href=\"#Significancia-estadística-de-la-diferencia-en-la-conversión-entre-los-grupos-utilizando-los-datos-filtrados\" data-toc-modified-id=\"Significancia-estadística-de-la-diferencia-en-la-conversión-entre-los-grupos-utilizando-los-datos-filtrados-10.11\"><span class=\"toc-item-num\">10.11&nbsp;&nbsp;</span>Significancia estadística de la diferencia en la conversión entre los grupos utilizando los datos filtrados</a></span></li><li><span><a href=\"#Significancia-estadística-de-la-diferencia-en-el-tamaño-promedio-de-pedido-entre-los-grupos-utilizando-los-datos-filtrados.\" data-toc-modified-id=\"Significancia-estadística-de-la-diferencia-en-el-tamaño-promedio-de-pedido-entre-los-grupos-utilizando-los-datos-filtrados.-10.12\"><span class=\"toc-item-num\">10.12&nbsp;&nbsp;</span>Significancia estadística de la diferencia en el tamaño promedio de pedido entre los grupos utilizando los datos filtrados.</a></span></li></ul></li><li><span><a href=\"#Toma-de-decisiones\" data-toc-modified-id=\"Toma-de-decisiones-11\"><span class=\"toc-item-num\">11&nbsp;&nbsp;</span>Toma de decisiones</a></span></li></ul></div>"
   ]
  },
  {
   "cell_type": "markdown",
   "metadata": {},
   "source": [
    "# Introduccion"
   ]
  },
  {
   "cell_type": "markdown",
   "metadata": {},
   "source": [
    "El siguiente proyecto busca realizar un analisis de diferentes hipotesis con el de aumentar lo ingresos del proyecto. "
   ]
  },
  {
   "cell_type": "markdown",
   "metadata": {},
   "source": [
    "# Analis de datos"
   ]
  },
  {
   "cell_type": "markdown",
   "metadata": {},
   "source": [
    "## Carga de datasets e importacion de librerias"
   ]
  },
  {
   "cell_type": "code",
   "execution_count": 1,
   "metadata": {},
   "outputs": [],
   "source": [
    "import pandas as pd\n",
    "import numpy as np\n",
    "from scipy import stats as st\n",
    "from matplotlib import pyplot as plt\n",
    "import seaborn as sns\n",
    "from scipy.stats import ttest_ind"
   ]
  },
  {
   "cell_type": "code",
   "execution_count": 2,
   "metadata": {},
   "outputs": [],
   "source": [
    "hypothesis= pd.read_csv('/datasets/hypotheses_us.csv', sep=';')\n",
    "orders= pd.read_csv('/datasets/orders_us.csv')\n",
    "visit=pd.read_csv('/datasets/visits_us.csv')"
   ]
  },
  {
   "cell_type": "markdown",
   "metadata": {},
   "source": [
    "## Estudio de datos"
   ]
  },
  {
   "cell_type": "code",
   "execution_count": 3,
   "metadata": {
    "scrolled": true
   },
   "outputs": [
    {
     "data": {
      "text/html": [
       "<div>\n",
       "<style scoped>\n",
       "    .dataframe tbody tr th:only-of-type {\n",
       "        vertical-align: middle;\n",
       "    }\n",
       "\n",
       "    .dataframe tbody tr th {\n",
       "        vertical-align: top;\n",
       "    }\n",
       "\n",
       "    .dataframe thead th {\n",
       "        text-align: right;\n",
       "    }\n",
       "</style>\n",
       "<table border=\"1\" class=\"dataframe\">\n",
       "  <thead>\n",
       "    <tr style=\"text-align: right;\">\n",
       "      <th></th>\n",
       "      <th>Reach</th>\n",
       "      <th>Impact</th>\n",
       "      <th>Confidence</th>\n",
       "      <th>Effort</th>\n",
       "    </tr>\n",
       "  </thead>\n",
       "  <tbody>\n",
       "    <tr>\n",
       "      <th>count</th>\n",
       "      <td>9.000000</td>\n",
       "      <td>9.000000</td>\n",
       "      <td>9.000000</td>\n",
       "      <td>9.000000</td>\n",
       "    </tr>\n",
       "    <tr>\n",
       "      <th>mean</th>\n",
       "      <td>4.777778</td>\n",
       "      <td>4.777778</td>\n",
       "      <td>5.555556</td>\n",
       "      <td>4.888889</td>\n",
       "    </tr>\n",
       "    <tr>\n",
       "      <th>std</th>\n",
       "      <td>3.153481</td>\n",
       "      <td>3.192874</td>\n",
       "      <td>3.045944</td>\n",
       "      <td>2.803767</td>\n",
       "    </tr>\n",
       "    <tr>\n",
       "      <th>min</th>\n",
       "      <td>1.000000</td>\n",
       "      <td>1.000000</td>\n",
       "      <td>1.000000</td>\n",
       "      <td>1.000000</td>\n",
       "    </tr>\n",
       "    <tr>\n",
       "      <th>25%</th>\n",
       "      <td>3.000000</td>\n",
       "      <td>3.000000</td>\n",
       "      <td>3.000000</td>\n",
       "      <td>3.000000</td>\n",
       "    </tr>\n",
       "    <tr>\n",
       "      <th>50%</th>\n",
       "      <td>3.000000</td>\n",
       "      <td>3.000000</td>\n",
       "      <td>7.000000</td>\n",
       "      <td>5.000000</td>\n",
       "    </tr>\n",
       "    <tr>\n",
       "      <th>75%</th>\n",
       "      <td>8.000000</td>\n",
       "      <td>7.000000</td>\n",
       "      <td>8.000000</td>\n",
       "      <td>6.000000</td>\n",
       "    </tr>\n",
       "    <tr>\n",
       "      <th>max</th>\n",
       "      <td>10.000000</td>\n",
       "      <td>10.000000</td>\n",
       "      <td>9.000000</td>\n",
       "      <td>10.000000</td>\n",
       "    </tr>\n",
       "  </tbody>\n",
       "</table>\n",
       "</div>"
      ],
      "text/plain": [
       "           Reach     Impact  Confidence     Effort\n",
       "count   9.000000   9.000000    9.000000   9.000000\n",
       "mean    4.777778   4.777778    5.555556   4.888889\n",
       "std     3.153481   3.192874    3.045944   2.803767\n",
       "min     1.000000   1.000000    1.000000   1.000000\n",
       "25%     3.000000   3.000000    3.000000   3.000000\n",
       "50%     3.000000   3.000000    7.000000   5.000000\n",
       "75%     8.000000   7.000000    8.000000   6.000000\n",
       "max    10.000000  10.000000    9.000000  10.000000"
      ]
     },
     "execution_count": 3,
     "metadata": {},
     "output_type": "execute_result"
    }
   ],
   "source": [
    "hypothesis.describe()"
   ]
  },
  {
   "cell_type": "code",
   "execution_count": 4,
   "metadata": {},
   "outputs": [
    {
     "data": {
      "text/html": [
       "<div>\n",
       "<style scoped>\n",
       "    .dataframe tbody tr th:only-of-type {\n",
       "        vertical-align: middle;\n",
       "    }\n",
       "\n",
       "    .dataframe tbody tr th {\n",
       "        vertical-align: top;\n",
       "    }\n",
       "\n",
       "    .dataframe thead th {\n",
       "        text-align: right;\n",
       "    }\n",
       "</style>\n",
       "<table border=\"1\" class=\"dataframe\">\n",
       "  <thead>\n",
       "    <tr style=\"text-align: right;\">\n",
       "      <th></th>\n",
       "      <th>transactionId</th>\n",
       "      <th>visitorId</th>\n",
       "      <th>revenue</th>\n",
       "    </tr>\n",
       "  </thead>\n",
       "  <tbody>\n",
       "    <tr>\n",
       "      <th>count</th>\n",
       "      <td>1.197000e+03</td>\n",
       "      <td>1.197000e+03</td>\n",
       "      <td>1197.000000</td>\n",
       "    </tr>\n",
       "    <tr>\n",
       "      <th>mean</th>\n",
       "      <td>2.155621e+09</td>\n",
       "      <td>2.165960e+09</td>\n",
       "      <td>131.491646</td>\n",
       "    </tr>\n",
       "    <tr>\n",
       "      <th>std</th>\n",
       "      <td>1.229085e+09</td>\n",
       "      <td>1.236014e+09</td>\n",
       "      <td>603.004729</td>\n",
       "    </tr>\n",
       "    <tr>\n",
       "      <th>min</th>\n",
       "      <td>1.062393e+06</td>\n",
       "      <td>5.114589e+06</td>\n",
       "      <td>5.000000</td>\n",
       "    </tr>\n",
       "    <tr>\n",
       "      <th>25%</th>\n",
       "      <td>1.166776e+09</td>\n",
       "      <td>1.111826e+09</td>\n",
       "      <td>20.800000</td>\n",
       "    </tr>\n",
       "    <tr>\n",
       "      <th>50%</th>\n",
       "      <td>2.145194e+09</td>\n",
       "      <td>2.217985e+09</td>\n",
       "      <td>50.200000</td>\n",
       "    </tr>\n",
       "    <tr>\n",
       "      <th>75%</th>\n",
       "      <td>3.237740e+09</td>\n",
       "      <td>3.177606e+09</td>\n",
       "      <td>130.400000</td>\n",
       "    </tr>\n",
       "    <tr>\n",
       "      <th>max</th>\n",
       "      <td>4.293856e+09</td>\n",
       "      <td>4.283872e+09</td>\n",
       "      <td>19920.400000</td>\n",
       "    </tr>\n",
       "  </tbody>\n",
       "</table>\n",
       "</div>"
      ],
      "text/plain": [
       "       transactionId     visitorId       revenue\n",
       "count   1.197000e+03  1.197000e+03   1197.000000\n",
       "mean    2.155621e+09  2.165960e+09    131.491646\n",
       "std     1.229085e+09  1.236014e+09    603.004729\n",
       "min     1.062393e+06  5.114589e+06      5.000000\n",
       "25%     1.166776e+09  1.111826e+09     20.800000\n",
       "50%     2.145194e+09  2.217985e+09     50.200000\n",
       "75%     3.237740e+09  3.177606e+09    130.400000\n",
       "max     4.293856e+09  4.283872e+09  19920.400000"
      ]
     },
     "execution_count": 4,
     "metadata": {},
     "output_type": "execute_result"
    }
   ],
   "source": [
    "orders.describe()"
   ]
  },
  {
   "cell_type": "code",
   "execution_count": 5,
   "metadata": {},
   "outputs": [
    {
     "data": {
      "text/html": [
       "<div>\n",
       "<style scoped>\n",
       "    .dataframe tbody tr th:only-of-type {\n",
       "        vertical-align: middle;\n",
       "    }\n",
       "\n",
       "    .dataframe tbody tr th {\n",
       "        vertical-align: top;\n",
       "    }\n",
       "\n",
       "    .dataframe thead th {\n",
       "        text-align: right;\n",
       "    }\n",
       "</style>\n",
       "<table border=\"1\" class=\"dataframe\">\n",
       "  <thead>\n",
       "    <tr style=\"text-align: right;\">\n",
       "      <th></th>\n",
       "      <th>visits</th>\n",
       "    </tr>\n",
       "  </thead>\n",
       "  <tbody>\n",
       "    <tr>\n",
       "      <th>count</th>\n",
       "      <td>62.000000</td>\n",
       "    </tr>\n",
       "    <tr>\n",
       "      <th>mean</th>\n",
       "      <td>607.290323</td>\n",
       "    </tr>\n",
       "    <tr>\n",
       "      <th>std</th>\n",
       "      <td>114.400560</td>\n",
       "    </tr>\n",
       "    <tr>\n",
       "      <th>min</th>\n",
       "      <td>361.000000</td>\n",
       "    </tr>\n",
       "    <tr>\n",
       "      <th>25%</th>\n",
       "      <td>534.000000</td>\n",
       "    </tr>\n",
       "    <tr>\n",
       "      <th>50%</th>\n",
       "      <td>624.500000</td>\n",
       "    </tr>\n",
       "    <tr>\n",
       "      <th>75%</th>\n",
       "      <td>710.500000</td>\n",
       "    </tr>\n",
       "    <tr>\n",
       "      <th>max</th>\n",
       "      <td>770.000000</td>\n",
       "    </tr>\n",
       "  </tbody>\n",
       "</table>\n",
       "</div>"
      ],
      "text/plain": [
       "           visits\n",
       "count   62.000000\n",
       "mean   607.290323\n",
       "std    114.400560\n",
       "min    361.000000\n",
       "25%    534.000000\n",
       "50%    624.500000\n",
       "75%    710.500000\n",
       "max    770.000000"
      ]
     },
     "execution_count": 5,
     "metadata": {},
     "output_type": "execute_result"
    }
   ],
   "source": [
    "visit.describe()"
   ]
  },
  {
   "cell_type": "code",
   "execution_count": 6,
   "metadata": {},
   "outputs": [
    {
     "data": {
      "text/plain": [
       "Hypothesis    object\n",
       "Reach          int64\n",
       "Impact         int64\n",
       "Confidence     int64\n",
       "Effort         int64\n",
       "dtype: object"
      ]
     },
     "execution_count": 6,
     "metadata": {},
     "output_type": "execute_result"
    }
   ],
   "source": [
    "hypothesis.dtypes"
   ]
  },
  {
   "cell_type": "code",
   "execution_count": 7,
   "metadata": {},
   "outputs": [],
   "source": [
    "hypothesis.columns=['hypothesis','reach','impact','confidence','effort']"
   ]
  },
  {
   "cell_type": "code",
   "execution_count": 8,
   "metadata": {},
   "outputs": [
    {
     "data": {
      "text/plain": [
       "date      object\n",
       "group     object\n",
       "visits     int64\n",
       "dtype: object"
      ]
     },
     "execution_count": 8,
     "metadata": {},
     "output_type": "execute_result"
    }
   ],
   "source": [
    "visit.dtypes"
   ]
  },
  {
   "cell_type": "code",
   "execution_count": 9,
   "metadata": {},
   "outputs": [
    {
     "data": {
      "text/plain": [
       "transactionId      int64\n",
       "visitorId          int64\n",
       "date              object\n",
       "revenue          float64\n",
       "group             object\n",
       "dtype: object"
      ]
     },
     "execution_count": 9,
     "metadata": {},
     "output_type": "execute_result"
    }
   ],
   "source": [
    "orders.dtypes"
   ]
  },
  {
   "cell_type": "code",
   "execution_count": 10,
   "metadata": {},
   "outputs": [],
   "source": [
    "orders.columns=['transaction_id','visitor_id','date','revenue','group']"
   ]
  },
  {
   "cell_type": "code",
   "execution_count": 11,
   "metadata": {},
   "outputs": [
    {
     "name": "stdout",
     "output_type": "stream",
     "text": [
      "0\n",
      "0\n",
      "0\n"
     ]
    }
   ],
   "source": [
    "print(hypothesis.duplicated().sum())\n",
    "print(orders.duplicated().sum())\n",
    "print(visit.duplicated().sum())"
   ]
  },
  {
   "cell_type": "code",
   "execution_count": 12,
   "metadata": {},
   "outputs": [
    {
     "data": {
      "text/html": [
       "<div>\n",
       "<style scoped>\n",
       "    .dataframe tbody tr th:only-of-type {\n",
       "        vertical-align: middle;\n",
       "    }\n",
       "\n",
       "    .dataframe tbody tr th {\n",
       "        vertical-align: top;\n",
       "    }\n",
       "\n",
       "    .dataframe thead th {\n",
       "        text-align: right;\n",
       "    }\n",
       "</style>\n",
       "<table border=\"1\" class=\"dataframe\">\n",
       "  <thead>\n",
       "    <tr style=\"text-align: right;\">\n",
       "      <th></th>\n",
       "      <th>hypothesis</th>\n",
       "      <th>reach</th>\n",
       "      <th>impact</th>\n",
       "      <th>confidence</th>\n",
       "      <th>effort</th>\n",
       "    </tr>\n",
       "  </thead>\n",
       "  <tbody>\n",
       "    <tr>\n",
       "      <th>0</th>\n",
       "      <td>Add two new channels for attracting traffic. T...</td>\n",
       "      <td>3</td>\n",
       "      <td>10</td>\n",
       "      <td>8</td>\n",
       "      <td>6</td>\n",
       "    </tr>\n",
       "    <tr>\n",
       "      <th>1</th>\n",
       "      <td>Launch your own delivery service. This will sh...</td>\n",
       "      <td>2</td>\n",
       "      <td>5</td>\n",
       "      <td>4</td>\n",
       "      <td>10</td>\n",
       "    </tr>\n",
       "    <tr>\n",
       "      <th>2</th>\n",
       "      <td>Add product recommendation blocks to the store...</td>\n",
       "      <td>8</td>\n",
       "      <td>3</td>\n",
       "      <td>7</td>\n",
       "      <td>3</td>\n",
       "    </tr>\n",
       "    <tr>\n",
       "      <th>3</th>\n",
       "      <td>Change the category structure. This will incre...</td>\n",
       "      <td>8</td>\n",
       "      <td>3</td>\n",
       "      <td>3</td>\n",
       "      <td>8</td>\n",
       "    </tr>\n",
       "    <tr>\n",
       "      <th>4</th>\n",
       "      <td>Change the background color on the main page. ...</td>\n",
       "      <td>3</td>\n",
       "      <td>1</td>\n",
       "      <td>1</td>\n",
       "      <td>1</td>\n",
       "    </tr>\n",
       "  </tbody>\n",
       "</table>\n",
       "</div>"
      ],
      "text/plain": [
       "                                          hypothesis  reach  impact  \\\n",
       "0  Add two new channels for attracting traffic. T...      3      10   \n",
       "1  Launch your own delivery service. This will sh...      2       5   \n",
       "2  Add product recommendation blocks to the store...      8       3   \n",
       "3  Change the category structure. This will incre...      8       3   \n",
       "4  Change the background color on the main page. ...      3       1   \n",
       "\n",
       "   confidence  effort  \n",
       "0           8       6  \n",
       "1           4      10  \n",
       "2           7       3  \n",
       "3           3       8  \n",
       "4           1       1  "
      ]
     },
     "execution_count": 12,
     "metadata": {},
     "output_type": "execute_result"
    }
   ],
   "source": [
    "hypothesis.head()"
   ]
  },
  {
   "cell_type": "code",
   "execution_count": 13,
   "metadata": {},
   "outputs": [
    {
     "name": "stdout",
     "output_type": "stream",
     "text": [
      "transaction_id    0\n",
      "visitor_id        0\n",
      "date              0\n",
      "revenue           0\n",
      "group             0\n",
      "dtype: int64\n"
     ]
    }
   ],
   "source": [
    "print(orders.isna().sum())"
   ]
  },
  {
   "cell_type": "code",
   "execution_count": 14,
   "metadata": {},
   "outputs": [
    {
     "name": "stdout",
     "output_type": "stream",
     "text": [
      "date      0\n",
      "group     0\n",
      "visits    0\n",
      "dtype: int64\n"
     ]
    }
   ],
   "source": [
    "print(visit.isna().sum())"
   ]
  },
  {
   "cell_type": "markdown",
   "metadata": {},
   "source": [
    "# Priorizar hipótesis"
   ]
  },
  {
   "cell_type": "markdown",
   "metadata": {},
   "source": [
    "## ICE"
   ]
  },
  {
   "cell_type": "code",
   "execution_count": 15,
   "metadata": {},
   "outputs": [],
   "source": [
    "hypothesis['ice_score']= (hypothesis['impact']*hypothesis['confidence'])/hypothesis['effort']"
   ]
  },
  {
   "cell_type": "code",
   "execution_count": 16,
   "metadata": {},
   "outputs": [
    {
     "name": "stdout",
     "output_type": "stream",
     "text": [
      "                                          hypothesis  ice_score\n",
      "8  Launch a promotion that gives users discounts ...  16.200000\n",
      "0  Add two new channels for attracting traffic. T...  13.333333\n",
      "7  Add a subscription form to all the main pages....  11.200000\n",
      "6  Show banners with current offers and sales on ...   8.000000\n",
      "2  Add product recommendation blocks to the store...   7.000000\n",
      "1  Launch your own delivery service. This will sh...   2.000000\n",
      "5  Add a customer review page. This will increase...   1.333333\n",
      "3  Change the category structure. This will incre...   1.125000\n",
      "4  Change the background color on the main page. ...   1.000000\n"
     ]
    }
   ],
   "source": [
    "print(hypothesis[['hypothesis','ice_score']].sort_values(by='ice_score',ascending=False))"
   ]
  },
  {
   "cell_type": "markdown",
   "metadata": {},
   "source": [
    "## RICE"
   ]
  },
  {
   "cell_type": "code",
   "execution_count": 17,
   "metadata": {},
   "outputs": [
    {
     "name": "stdout",
     "output_type": "stream",
     "text": [
      "                                          hypothesis  rice_score\n",
      "7  Add a subscription form to all the main pages....       112.0\n",
      "2  Add product recommendation blocks to the store...        56.0\n",
      "0  Add two new channels for attracting traffic. T...        40.0\n",
      "6  Show banners with current offers and sales on ...        40.0\n",
      "8  Launch a promotion that gives users discounts ...        16.2\n",
      "3  Change the category structure. This will incre...         9.0\n",
      "1  Launch your own delivery service. This will sh...         4.0\n",
      "5  Add a customer review page. This will increase...         4.0\n",
      "4  Change the background color on the main page. ...         3.0\n"
     ]
    }
   ],
   "source": [
    "hypothesis['rice_score']= (hypothesis['reach']*hypothesis['impact']*hypothesis['confidence'])/hypothesis['effort']\n",
    "print(hypothesis[['hypothesis','rice_score']].sort_values(by='rice_score',ascending=False))"
   ]
  },
  {
   "cell_type": "markdown",
   "metadata": {},
   "source": [
    "## Comparacion"
   ]
  },
  {
   "cell_type": "markdown",
   "metadata": {},
   "source": [
    "Cambia la posicion de las hipotesis que se encuentran de primero, usando un enfoque ice la hipotesis con el mayor score es la numero 8, la cual esta relaciona con descuentos para los usuarios, pero si usamos un enfoque rice seria la numero 9 que seria descuentos por suscriptiores. Lo que ambas tienen en comun es que la hipotesis con un menos valor en ambos enfoques es cambiar el color de fondo de la pagina principla, por lo cual podemos decir que esta no es muy viable. "
   ]
  },
  {
   "cell_type": "markdown",
   "metadata": {},
   "source": [
    "# Análisis de test A/B"
   ]
  },
  {
   "cell_type": "markdown",
   "metadata": {},
   "source": [
    "## Ingreso acumulado por producto"
   ]
  },
  {
   "cell_type": "code",
   "execution_count": 18,
   "metadata": {},
   "outputs": [],
   "source": [
    "groups_by_user = orders.groupby(\"visitor_id\")[\"group\"].nunique().reset_index()\n",
    "\n",
    "user_to_remove= groups_by_user.query(\"group > 1\")"
   ]
  },
  {
   "cell_type": "code",
   "execution_count": 19,
   "metadata": {},
   "outputs": [
    {
     "data": {
      "text/html": [
       "<div>\n",
       "<style scoped>\n",
       "    .dataframe tbody tr th:only-of-type {\n",
       "        vertical-align: middle;\n",
       "    }\n",
       "\n",
       "    .dataframe tbody tr th {\n",
       "        vertical-align: top;\n",
       "    }\n",
       "\n",
       "    .dataframe thead th {\n",
       "        text-align: right;\n",
       "    }\n",
       "</style>\n",
       "<table border=\"1\" class=\"dataframe\">\n",
       "  <thead>\n",
       "    <tr style=\"text-align: right;\">\n",
       "      <th></th>\n",
       "      <th>transaction_id</th>\n",
       "      <th>visitor_id</th>\n",
       "      <th>date</th>\n",
       "      <th>revenue</th>\n",
       "      <th>group</th>\n",
       "    </tr>\n",
       "  </thead>\n",
       "  <tbody>\n",
       "    <tr>\n",
       "      <th>0</th>\n",
       "      <td>3667963787</td>\n",
       "      <td>3312258926</td>\n",
       "      <td>2019-08-15</td>\n",
       "      <td>30.4</td>\n",
       "      <td>B</td>\n",
       "    </tr>\n",
       "    <tr>\n",
       "      <th>1</th>\n",
       "      <td>2804400009</td>\n",
       "      <td>3642806036</td>\n",
       "      <td>2019-08-15</td>\n",
       "      <td>15.2</td>\n",
       "      <td>B</td>\n",
       "    </tr>\n",
       "    <tr>\n",
       "      <th>3</th>\n",
       "      <td>3797467345</td>\n",
       "      <td>1196621759</td>\n",
       "      <td>2019-08-15</td>\n",
       "      <td>155.1</td>\n",
       "      <td>B</td>\n",
       "    </tr>\n",
       "    <tr>\n",
       "      <th>4</th>\n",
       "      <td>2282983706</td>\n",
       "      <td>2322279887</td>\n",
       "      <td>2019-08-15</td>\n",
       "      <td>40.5</td>\n",
       "      <td>B</td>\n",
       "    </tr>\n",
       "    <tr>\n",
       "      <th>5</th>\n",
       "      <td>182168103</td>\n",
       "      <td>935554773</td>\n",
       "      <td>2019-08-15</td>\n",
       "      <td>35.0</td>\n",
       "      <td>B</td>\n",
       "    </tr>\n",
       "    <tr>\n",
       "      <th>...</th>\n",
       "      <td>...</td>\n",
       "      <td>...</td>\n",
       "      <td>...</td>\n",
       "      <td>...</td>\n",
       "      <td>...</td>\n",
       "    </tr>\n",
       "    <tr>\n",
       "      <th>1191</th>\n",
       "      <td>3592955527</td>\n",
       "      <td>608641596</td>\n",
       "      <td>2019-08-14</td>\n",
       "      <td>255.7</td>\n",
       "      <td>B</td>\n",
       "    </tr>\n",
       "    <tr>\n",
       "      <th>1192</th>\n",
       "      <td>2662137336</td>\n",
       "      <td>3733762160</td>\n",
       "      <td>2019-08-14</td>\n",
       "      <td>100.8</td>\n",
       "      <td>B</td>\n",
       "    </tr>\n",
       "    <tr>\n",
       "      <th>1193</th>\n",
       "      <td>2203539145</td>\n",
       "      <td>370388673</td>\n",
       "      <td>2019-08-14</td>\n",
       "      <td>50.1</td>\n",
       "      <td>A</td>\n",
       "    </tr>\n",
       "    <tr>\n",
       "      <th>1194</th>\n",
       "      <td>1807773912</td>\n",
       "      <td>573423106</td>\n",
       "      <td>2019-08-14</td>\n",
       "      <td>165.3</td>\n",
       "      <td>A</td>\n",
       "    </tr>\n",
       "    <tr>\n",
       "      <th>1196</th>\n",
       "      <td>3936777065</td>\n",
       "      <td>2108080724</td>\n",
       "      <td>2019-08-15</td>\n",
       "      <td>3120.1</td>\n",
       "      <td>B</td>\n",
       "    </tr>\n",
       "  </tbody>\n",
       "</table>\n",
       "<p>1016 rows × 5 columns</p>\n",
       "</div>"
      ],
      "text/plain": [
       "      transaction_id  visitor_id        date  revenue group\n",
       "0         3667963787  3312258926  2019-08-15     30.4     B\n",
       "1         2804400009  3642806036  2019-08-15     15.2     B\n",
       "3         3797467345  1196621759  2019-08-15    155.1     B\n",
       "4         2282983706  2322279887  2019-08-15     40.5     B\n",
       "5          182168103   935554773  2019-08-15     35.0     B\n",
       "...              ...         ...         ...      ...   ...\n",
       "1191      3592955527   608641596  2019-08-14    255.7     B\n",
       "1192      2662137336  3733762160  2019-08-14    100.8     B\n",
       "1193      2203539145   370388673  2019-08-14     50.1     A\n",
       "1194      1807773912   573423106  2019-08-14    165.3     A\n",
       "1196      3936777065  2108080724  2019-08-15   3120.1     B\n",
       "\n",
       "[1016 rows x 5 columns]"
      ]
     },
     "execution_count": 19,
     "metadata": {},
     "output_type": "execute_result"
    }
   ],
   "source": [
    "orders_filter=orders[~orders['visitor_id'].isin(user_to_remove['visitor_id'])]\n",
    "orders_filter"
   ]
  },
  {
   "cell_type": "code",
   "execution_count": 20,
   "metadata": {},
   "outputs": [],
   "source": [
    "order_total= orders_filter.groupby([\"date\", \"group\"])[\"revenue\"].sum().reset_index()\n",
    "order_total[\"accumulated_sale\"] = order_total.groupby([\"group\"])[\"revenue\"].transform(pd.Series.cumsum)"
   ]
  },
  {
   "cell_type": "code",
   "execution_count": 21,
   "metadata": {},
   "outputs": [
    {
     "data": {
      "text/plain": [
       "<AxesSubplot:xlabel='date'>"
      ]
     },
     "execution_count": 21,
     "metadata": {},
     "output_type": "execute_result"
    },
    {
     "data": {
      "image/png": "[encoded data removed]",
      "text/plain": [
       "<Figure size 640x480 with 1 Axes>"
      ]
     },
     "metadata": {},
     "output_type": "display_data"
    }
   ],
   "source": [
    "order_total.pivot_table(\n",
    "    index='date',\n",
    "    columns='group',\n",
    "    values='accumulated_sale',\n",
    "    aggfunc='sum'\n",
    ").plot(kind='bar')"
   ]
  },
  {
   "cell_type": "markdown",
   "metadata": {},
   "source": [
    "Conlusiones: Se puede notar que en el grupo B es donde se estan generando la mayor cantidad de ventas, pero esto puede estar relacionada a la cantidad de visitantes en el grupo. Tenemos la mayor incremento el dia 19 de agosto. "
   ]
  },
  {
   "cell_type": "markdown",
   "metadata": {},
   "source": [
    "## Tamaño de pedido promedio acumulado por grupo"
   ]
  },
  {
   "cell_type": "code",
   "execution_count": 22,
   "metadata": {},
   "outputs": [],
   "source": [
    "order_mean= orders_filter.groupby([\"date\", \"group\"])[\"revenue\"].mean().reset_index()\n",
    "order_mean[\"accumulated_mean\"] = order_total.groupby([\"group\"])[\"revenue\"].transform(pd.Series.cumsum)"
   ]
  },
  {
   "cell_type": "code",
   "execution_count": 23,
   "metadata": {},
   "outputs": [
    {
     "data": {
      "text/plain": [
       "<AxesSubplot:xlabel='date'>"
      ]
     },
     "execution_count": 23,
     "metadata": {},
     "output_type": "execute_result"
    },
    {
     "data": {
      "image/png": "[encoded data removed]",
      "text/plain": [
       "<Figure size 640x480 with 1 Axes>"
      ]
     },
     "metadata": {},
     "output_type": "display_data"
    }
   ],
   "source": [
    "order_mean.pivot_table(\n",
    "    index='date',\n",
    "    columns='group',\n",
    "    values='accumulated_mean',\n",
    "    aggfunc='mean'\n",
    ").plot(kind='bar')"
   ]
  },
  {
   "cell_type": "markdown",
   "metadata": {},
   "source": [
    "Conclusiones: Tenemos el mismo comportamiento en las ventas promedio por grupo. "
   ]
  },
  {
   "cell_type": "markdown",
   "metadata": {},
   "source": [
    "## Diferencia relativa en el tamaño de pedido promedio acumulado para el grupo B en comparación con el grupo A"
   ]
  },
  {
   "cell_type": "code",
   "execution_count": 24,
   "metadata": {},
   "outputs": [
    {
     "data": {
      "text/plain": [
       "<AxesSubplot:xlabel='date'>"
      ]
     },
     "execution_count": 24,
     "metadata": {},
     "output_type": "execute_result"
    },
    {
     "data": {
      "image/png": "[encoded data removed]",
      "text/plain": [
       "<Figure size 640x480 with 1 Axes>"
      ]
     },
     "metadata": {},
     "output_type": "display_data"
    }
   ],
   "source": [
    "orders_pivot=orders_filter.pivot_table( index='date',\n",
    "    columns='group',\n",
    "    values='revenue',\n",
    "    aggfunc='mean'\n",
    ")\n",
    "\n",
    "orders_pivot['comparison']= (orders_pivot['A']-orders_pivot['B'])/ orders_pivot['B']\n",
    "\n",
    "orders_pivot['comparison'].plot(kind='line')\n"
   ]
  },
  {
   "cell_type": "markdown",
   "metadata": {},
   "source": [
    "##  Tasa de conversión de cada grupo como la relación entre los pedidos y el número de visitas de cada día"
   ]
  },
  {
   "cell_type": "code",
   "execution_count": 25,
   "metadata": {},
   "outputs": [],
   "source": [
    "daily_orders_by_group= (\n",
    "    orders_filter\n",
    "    .groupby(['date','group'])['transaction_id']\n",
    "    .count()\n",
    "    .reset_index()\n",
    "    .rename(columns={'transaction_id':'purchases'})\n",
    ")"
   ]
  },
  {
   "cell_type": "code",
   "execution_count": 26,
   "metadata": {},
   "outputs": [],
   "source": [
    "daily_conversion=pd.merge(visit,daily_orders_by_group, on=['date','group'])"
   ]
  },
  {
   "cell_type": "code",
   "execution_count": 27,
   "metadata": {},
   "outputs": [],
   "source": [
    "daily_conversion['conversion']= daily_conversion['purchases']/daily_conversion['visits']"
   ]
  },
  {
   "cell_type": "code",
   "execution_count": 28,
   "metadata": {},
   "outputs": [
    {
     "data": {
      "text/plain": [
       "<AxesSubplot:xlabel='date'>"
      ]
     },
     "execution_count": 28,
     "metadata": {},
     "output_type": "execute_result"
    },
    {
     "data": {
      "image/png": "[encoded data removed]",
      "text/plain": [
       "<Figure size 640x480 with 1 Axes>"
      ]
     },
     "metadata": {},
     "output_type": "display_data"
    }
   ],
   "source": [
    "daily_conversion.pivot_table(\n",
    "    index='date',\n",
    "    columns='group',\n",
    "    values='conversion',\n",
    "    aggfunc='mean'\n",
    ").plot(kind='line')"
   ]
  },
  {
   "cell_type": "markdown",
   "metadata": {},
   "source": [
    "Conclusiones: \n",
    "- Se puede notar que la curva del grupo B tiene dos picos de conversion mucho mas altos que el grupo A dando a entender que para esas fechas muchas de las visitas terminaron en ventas. \n",
    "- El grupo A tambien tine un pico alto para el dia 21 pero despues de esta fecha el conversion rate dismuye drasticamente. \n",
    "- Al principio del mes se puede notar una mayor conversion para el grupo B que para el grupo A."
   ]
  },
  {
   "cell_type": "markdown",
   "metadata": {},
   "source": [
    "## Gráfico de dispersión del número de pedidos por usuario."
   ]
  },
  {
   "cell_type": "code",
   "execution_count": 29,
   "metadata": {},
   "outputs": [
    {
     "data": {
      "text/plain": [
       "visitor_id\n",
       "5114589       1\n",
       "6958315       1\n",
       "8300375       2\n",
       "11685486      1\n",
       "39475350      1\n",
       "             ..\n",
       "4266935830    2\n",
       "4278982564    1\n",
       "4279090005    1\n",
       "4281247801    1\n",
       "4283872382    1\n",
       "Name: transaction_id, Length: 1031, dtype: int64"
      ]
     },
     "execution_count": 29,
     "metadata": {},
     "output_type": "execute_result"
    }
   ],
   "source": [
    "visitor_filter=orders.groupby(['visitor_id'])['transaction_id'].nunique()\n",
    "visitor_filter"
   ]
  },
  {
   "cell_type": "code",
   "execution_count": 30,
   "metadata": {},
   "outputs": [
    {
     "data": {
      "text/plain": [
       "<matplotlib.collections.PathCollection at 0x7f8be488cdc0>"
      ]
     },
     "execution_count": 30,
     "metadata": {},
     "output_type": "execute_result"
    },
    {
     "data": {
      "image/png": "[encoded data removed]",
      "text/plain": [
       "<Figure size 600x400 with 1 Axes>"
      ]
     },
     "metadata": {},
     "output_type": "display_data"
    }
   ],
   "source": [
    "plt.figure(figsize=(6,4))\n",
    "x = np.linspace(0,len(visitor_filter),len(visitor_filter))\n",
    "plt.scatter(x,visitor_filter.values)"
   ]
  },
  {
   "cell_type": "markdown",
   "metadata": {},
   "source": [
    "Conclusion: Se puede notar que la mayoria de los usuarios realiza un pedido. "
   ]
  },
  {
   "cell_type": "markdown",
   "metadata": {},
   "source": [
    "## Percentiles 95 y 99 para el número de pedidos por usuario"
   ]
  },
  {
   "cell_type": "code",
   "execution_count": 31,
   "metadata": {},
   "outputs": [],
   "source": [
    "order_by_user=orders_filter.groupby('visitor_id')['transaction_id'].count().reset_index()"
   ]
  },
  {
   "cell_type": "code",
   "execution_count": 32,
   "metadata": {},
   "outputs": [
    {
     "data": {
      "text/plain": [
       "0.95    1.0\n",
       "0.99    2.0\n",
       "Name: transaction_id, dtype: float64"
      ]
     },
     "execution_count": 32,
     "metadata": {},
     "output_type": "execute_result"
    }
   ],
   "source": [
    "order_by_user['transaction_id'].quantile(q=[0.95,0.99])"
   ]
  },
  {
   "cell_type": "markdown",
   "metadata": {},
   "source": [
    "Conclusion: Debido a que la diferencia es muy pequeña, no se podria determinar una anomalia. "
   ]
  },
  {
   "cell_type": "markdown",
   "metadata": {},
   "source": [
    "##  Gráfico de dispersión de los precios de los pedidos."
   ]
  },
  {
   "cell_type": "code",
   "execution_count": 33,
   "metadata": {},
   "outputs": [
    {
     "data": {
      "text/plain": [
       "(0.0, 2500.0)"
      ]
     },
     "execution_count": 33,
     "metadata": {},
     "output_type": "execute_result"
    },
    {
     "data": {
      "image/png": "[encoded data removed]",
      "text/plain": [
       "<Figure size 600x400 with 1 Axes>"
      ]
     },
     "metadata": {},
     "output_type": "display_data"
    }
   ],
   "source": [
    "plt.figure(figsize=(6,4))\n",
    "x = np.linspace(0,len(orders),len(orders))\n",
    "plt.scatter(x,orders['revenue'])   \n",
    "plt.xlim(0,1300)\n",
    "plt.ylim(0,2500)"
   ]
  },
  {
   "cell_type": "markdown",
   "metadata": {},
   "source": [
    "Conclusion: La mayoria de los usuario gasta menos de 500. "
   ]
  },
  {
   "cell_type": "markdown",
   "metadata": {},
   "source": [
    "## Percentiles 95 y 99 de los precios de los pedidos."
   ]
  },
  {
   "cell_type": "code",
   "execution_count": 34,
   "metadata": {},
   "outputs": [],
   "source": [
    "order_by_price=orders_filter.groupby('transaction_id')['revenue'].mean().reset_index()"
   ]
  },
  {
   "cell_type": "code",
   "execution_count": 35,
   "metadata": {},
   "outputs": [
    {
     "data": {
      "text/plain": [
       "0.95    414.275\n",
       "0.99    830.300\n",
       "Name: revenue, dtype: float64"
      ]
     },
     "execution_count": 35,
     "metadata": {},
     "output_type": "execute_result"
    }
   ],
   "source": [
    "order_by_price['revenue'].quantile(q=[0.95,0.99])"
   ]
  },
  {
   "cell_type": "markdown",
   "metadata": {},
   "source": [
    "Conclusion: Se puede notar una gran diferencia entre 95 y 99, se podria dar una anomalia en los valores menores de 400."
   ]
  },
  {
   "cell_type": "markdown",
   "metadata": {},
   "source": [
    "## Significancia estadística de la diferencia en la conversión entre los grupos utilizando los datos en bruto"
   ]
  },
  {
   "cell_type": "code",
   "execution_count": 36,
   "metadata": {},
   "outputs": [
    {
     "data": {
      "text/plain": [
       "Ttest_indResult(statistic=-1.6925038513866528, pvalue=0.09573715593918651)"
      ]
     },
     "execution_count": 36,
     "metadata": {},
     "output_type": "execute_result"
    }
   ],
   "source": [
    "ttest_ind(\n",
    "    daily_conversion.query(\"group =='A'\")['conversion'],\n",
    "    daily_conversion.query(\"group =='B'\")['conversion']\n",
    ")"
   ]
  },
  {
   "cell_type": "markdown",
   "metadata": {},
   "source": [
    "Conclusion: El pvalue es muy pequeño por lo cual no hay una diferencia en las conversiones. "
   ]
  },
  {
   "cell_type": "markdown",
   "metadata": {},
   "source": [
    "## Significancia estadística de la diferencia en el tamaño promedio de pedido entre los grupos utilizando los datos en bruto."
   ]
  },
  {
   "cell_type": "code",
   "execution_count": 37,
   "metadata": {},
   "outputs": [
    {
     "data": {
      "text/plain": [
       "Ttest_indResult(statistic=-0.7757103729093081, pvalue=0.4381008889949942)"
      ]
     },
     "execution_count": 37,
     "metadata": {},
     "output_type": "execute_result"
    }
   ],
   "source": [
    "ttest_ind(\n",
    "    orders_filter.query(\"group =='A'\")['revenue'],\n",
    "    orders_filter.query(\"group =='B'\")['revenue']\n",
    ")"
   ]
  },
  {
   "cell_type": "markdown",
   "metadata": {},
   "source": [
    "Conclusion: el pvalue es muy pequeño por lo cual no hay una diferencias considerable en el tamaño promedio de los pedidos. "
   ]
  },
  {
   "cell_type": "markdown",
   "metadata": {},
   "source": [
    "## Significancia estadística de la diferencia en la conversión entre los grupos utilizando los datos filtrados"
   ]
  },
  {
   "cell_type": "code",
   "execution_count": 38,
   "metadata": {},
   "outputs": [
    {
     "data": {
      "text/plain": [
       "0.95    0.047150\n",
       "0.99    0.053668\n",
       "Name: conversion, dtype: float64"
      ]
     },
     "execution_count": 38,
     "metadata": {},
     "output_type": "execute_result"
    }
   ],
   "source": [
    "daily_conversion['conversion'].quantile(q=[0.95,0.99])"
   ]
  },
  {
   "cell_type": "code",
   "execution_count": 39,
   "metadata": {},
   "outputs": [
    {
     "data": {
      "text/plain": [
       "Ttest_indResult(statistic=-1.4030940097803688, pvalue=0.16582970115223025)"
      ]
     },
     "execution_count": 39,
     "metadata": {},
     "output_type": "execute_result"
    }
   ],
   "source": [
    "outlier=0.059070\n",
    "ttest_ind(\n",
    "    daily_conversion.query(\"(group =='A') & (conversion < @outlier)\")['conversion'],\n",
    "    daily_conversion.query(\"(group =='B') & (conversion < @outlier)\")['conversion']\n",
    ")"
   ]
  },
  {
   "cell_type": "markdown",
   "metadata": {},
   "source": [
    "Conclusion: Al agregar filtros el valor aumenta pero no representa una gran diferencia. "
   ]
  },
  {
   "cell_type": "markdown",
   "metadata": {},
   "source": [
    "## Significancia estadística de la diferencia en el tamaño promedio de pedido entre los grupos utilizando los datos filtrados."
   ]
  },
  {
   "cell_type": "code",
   "execution_count": 40,
   "metadata": {},
   "outputs": [
    {
     "data": {
      "text/plain": [
       "0.95    414.275\n",
       "0.99    830.300\n",
       "Name: revenue, dtype: float64"
      ]
     },
     "execution_count": 40,
     "metadata": {},
     "output_type": "execute_result"
    }
   ],
   "source": [
    "orders_filter['revenue'].quantile(q=[0.95,0.99])"
   ]
  },
  {
   "cell_type": "code",
   "execution_count": 41,
   "metadata": {},
   "outputs": [
    {
     "data": {
      "text/plain": [
       "Ttest_indResult(statistic=0.37967633542290175, pvalue=0.7042659023650244)"
      ]
     },
     "execution_count": 41,
     "metadata": {},
     "output_type": "execute_result"
    }
   ],
   "source": [
    "outlier_=900.904\n",
    "ttest_ind(\n",
    "    orders_filter.query(\"(group =='A') & (revenue < @outlier_)\")['revenue'],\n",
    "    orders_filter.query(\"(group =='B') & (revenue < @outlier_)\")['revenue']\n",
    ")"
   ]
  },
  {
   "cell_type": "markdown",
   "metadata": {},
   "source": [
    "Conclusion: Al agregar filtros el valor aumenta pero no representa una gran diferencia. "
   ]
  },
  {
   "cell_type": "markdown",
   "metadata": {},
   "source": [
    "# Toma de decisiones"
   ]
  },
  {
   "cell_type": "markdown",
   "metadata": {},
   "source": [
    "En mi opinion deberiamos continuar con las pruebas debido a que el muestreo es pequeño y no se puede confirmar que alguno de los grupos sea el lider"
   ]
  }
 ],
 "metadata": {
  "ExecuteTimeLog": [
   {
    "duration": 4,
    "start_time": "2024-05-21T23:36:26.364Z"
   },
   {
    "duration": 11,
    "start_time": "2024-05-21T23:43:32.685Z"
   },
   {
    "duration": 5343,
    "start_time": "2024-05-22T00:08:25.016Z"
   },
   {
    "duration": 17,
    "start_time": "2024-05-22T00:09:27.970Z"
   },
   {
    "duration": 29,
    "start_time": "2024-05-22T00:11:17.137Z"
   },
   {
    "duration": 26,
    "start_time": "2024-05-22T00:12:22.711Z"
   },
   {
    "duration": 16,
    "start_time": "2024-05-22T00:13:01.406Z"
   },
   {
    "duration": 11,
    "start_time": "2024-05-22T00:13:07.772Z"
   },
   {
    "duration": 36,
    "start_time": "2024-05-22T00:13:31.891Z"
   },
   {
    "duration": 17,
    "start_time": "2024-05-22T00:14:38.750Z"
   },
   {
    "duration": 209,
    "start_time": "2024-05-22T00:15:19.126Z"
   },
   {
    "duration": 23,
    "start_time": "2024-05-22T00:15:30.772Z"
   },
   {
    "duration": 22,
    "start_time": "2024-05-22T00:15:49.023Z"
   },
   {
    "duration": 9,
    "start_time": "2024-05-22T00:15:50.879Z"
   },
   {
    "duration": 26,
    "start_time": "2024-05-22T00:15:52.049Z"
   },
   {
    "duration": 19,
    "start_time": "2024-05-22T00:15:52.676Z"
   },
   {
    "duration": 22,
    "start_time": "2024-05-22T00:15:53.798Z"
   },
   {
    "duration": 22,
    "start_time": "2024-05-22T00:15:59.302Z"
   },
   {
    "duration": 21,
    "start_time": "2024-05-22T00:20:23.616Z"
   },
   {
    "duration": 11,
    "start_time": "2024-05-22T00:20:25.106Z"
   },
   {
    "duration": 29,
    "start_time": "2024-05-22T00:20:46.168Z"
   },
   {
    "duration": 34,
    "start_time": "2024-05-22T00:23:40.515Z"
   },
   {
    "duration": 22,
    "start_time": "2024-05-22T00:23:52.132Z"
   },
   {
    "duration": 7,
    "start_time": "2024-05-22T00:24:13.964Z"
   },
   {
    "duration": 5,
    "start_time": "2024-05-22T00:25:09.943Z"
   },
   {
    "duration": 7,
    "start_time": "2024-05-22T00:25:32.572Z"
   },
   {
    "duration": 8,
    "start_time": "2024-05-22T00:26:00.207Z"
   },
   {
    "duration": 4,
    "start_time": "2024-05-22T00:27:01.564Z"
   },
   {
    "duration": 7,
    "start_time": "2024-05-22T00:27:31.461Z"
   },
   {
    "duration": 10,
    "start_time": "2024-05-22T00:27:48.686Z"
   },
   {
    "duration": 8,
    "start_time": "2024-05-22T00:28:05.546Z"
   },
   {
    "duration": 8,
    "start_time": "2024-05-22T00:28:14.176Z"
   },
   {
    "duration": 6,
    "start_time": "2024-05-22T00:28:18.681Z"
   },
   {
    "duration": 326,
    "start_time": "2024-05-22T01:15:18.900Z"
   },
   {
    "duration": 23,
    "start_time": "2024-05-22T01:15:23.307Z"
   },
   {
    "duration": 28,
    "start_time": "2024-05-22T01:15:25.104Z"
   },
   {
    "duration": 25,
    "start_time": "2024-05-22T01:15:25.642Z"
   },
   {
    "duration": 16,
    "start_time": "2024-05-22T01:15:26.292Z"
   },
   {
    "duration": 8,
    "start_time": "2024-05-22T01:15:27.129Z"
   },
   {
    "duration": 5,
    "start_time": "2024-05-22T01:15:28.339Z"
   },
   {
    "duration": 4,
    "start_time": "2024-05-22T01:15:33.814Z"
   },
   {
    "duration": 7,
    "start_time": "2024-05-22T01:15:34.573Z"
   },
   {
    "duration": 6,
    "start_time": "2024-05-22T01:15:35.077Z"
   },
   {
    "duration": 4,
    "start_time": "2024-05-22T01:15:35.773Z"
   },
   {
    "duration": 11,
    "start_time": "2024-05-22T01:15:36.491Z"
   },
   {
    "duration": 7,
    "start_time": "2024-05-22T01:15:36.909Z"
   },
   {
    "duration": 1333,
    "start_time": "2024-05-22T01:15:56.842Z"
   },
   {
    "duration": 19,
    "start_time": "2024-05-22T01:15:58.179Z"
   },
   {
    "duration": 44,
    "start_time": "2024-05-22T01:15:58.201Z"
   },
   {
    "duration": 25,
    "start_time": "2024-05-22T01:15:58.249Z"
   },
   {
    "duration": 16,
    "start_time": "2024-05-22T01:15:58.277Z"
   },
   {
    "duration": 10,
    "start_time": "2024-05-22T01:15:58.328Z"
   },
   {
    "duration": 5,
    "start_time": "2024-05-22T01:15:58.341Z"
   },
   {
    "duration": 8,
    "start_time": "2024-05-22T01:15:58.349Z"
   },
   {
    "duration": 11,
    "start_time": "2024-05-22T01:15:58.360Z"
   },
   {
    "duration": 50,
    "start_time": "2024-05-22T01:15:58.376Z"
   },
   {
    "duration": 14,
    "start_time": "2024-05-22T01:15:58.429Z"
   },
   {
    "duration": 7,
    "start_time": "2024-05-22T01:15:58.447Z"
   },
   {
    "duration": 7,
    "start_time": "2024-05-22T01:15:58.457Z"
   },
   {
    "duration": 9,
    "start_time": "2024-05-22T01:15:58.467Z"
   },
   {
    "duration": 14,
    "start_time": "2024-05-22T01:18:15.605Z"
   },
   {
    "duration": 195,
    "start_time": "2024-05-22T01:19:55.791Z"
   },
   {
    "duration": 6,
    "start_time": "2024-05-22T01:20:08.310Z"
   },
   {
    "duration": 7,
    "start_time": "2024-05-22T01:21:20.197Z"
   },
   {
    "duration": 300,
    "start_time": "2024-05-22T01:23:42.846Z"
   },
   {
    "duration": 912,
    "start_time": "2024-05-22T01:23:53.439Z"
   },
   {
    "duration": 9,
    "start_time": "2024-05-22T01:24:04.929Z"
   },
   {
    "duration": 12,
    "start_time": "2024-05-22T01:25:19.778Z"
   },
   {
    "duration": 10,
    "start_time": "2024-05-22T01:25:53.287Z"
   },
   {
    "duration": 5,
    "start_time": "2024-05-23T00:42:19.325Z"
   },
   {
    "duration": 337,
    "start_time": "2024-05-23T00:47:47.977Z"
   },
   {
    "duration": 5319,
    "start_time": "2024-05-23T00:47:56.502Z"
   },
   {
    "duration": 29,
    "start_time": "2024-05-23T00:48:01.826Z"
   },
   {
    "duration": 38,
    "start_time": "2024-05-23T00:48:01.859Z"
   },
   {
    "duration": 29,
    "start_time": "2024-05-23T00:48:01.916Z"
   },
   {
    "duration": 18,
    "start_time": "2024-05-23T00:48:01.948Z"
   },
   {
    "duration": 10,
    "start_time": "2024-05-23T00:48:01.968Z"
   },
   {
    "duration": 5,
    "start_time": "2024-05-23T00:48:02.014Z"
   },
   {
    "duration": 8,
    "start_time": "2024-05-23T00:48:02.023Z"
   },
   {
    "duration": 9,
    "start_time": "2024-05-23T00:48:02.035Z"
   },
   {
    "duration": 4,
    "start_time": "2024-05-23T00:48:02.050Z"
   },
   {
    "duration": 60,
    "start_time": "2024-05-23T00:48:02.058Z"
   },
   {
    "duration": 7,
    "start_time": "2024-05-23T00:48:02.121Z"
   },
   {
    "duration": 9,
    "start_time": "2024-05-23T00:48:02.132Z"
   },
   {
    "duration": 9,
    "start_time": "2024-05-23T00:48:02.144Z"
   },
   {
    "duration": 6,
    "start_time": "2024-05-23T00:48:02.156Z"
   },
   {
    "duration": 59,
    "start_time": "2024-05-23T00:48:02.165Z"
   },
   {
    "duration": 13,
    "start_time": "2024-05-23T00:48:02.228Z"
   },
   {
    "duration": 447,
    "start_time": "2024-05-23T00:48:02.244Z"
   },
   {
    "duration": 184,
    "start_time": "2024-05-23T00:48:10.007Z"
   },
   {
    "duration": 167,
    "start_time": "2024-05-23T00:52:41.318Z"
   },
   {
    "duration": 10,
    "start_time": "2024-05-23T00:59:22.045Z"
   },
   {
    "duration": 5,
    "start_time": "2024-05-23T00:59:45.876Z"
   },
   {
    "duration": 9,
    "start_time": "2024-05-23T00:59:53.756Z"
   },
   {
    "duration": 27,
    "start_time": "2024-05-23T01:18:22.069Z"
   },
   {
    "duration": 26,
    "start_time": "2024-05-23T01:18:26.716Z"
   },
   {
    "duration": 29,
    "start_time": "2024-05-23T01:19:47.785Z"
   },
   {
    "duration": 26,
    "start_time": "2024-05-23T01:20:27.429Z"
   },
   {
    "duration": 9,
    "start_time": "2024-05-23T01:21:11.010Z"
   },
   {
    "duration": 10,
    "start_time": "2024-05-23T01:25:15.454Z"
   },
   {
    "duration": 11,
    "start_time": "2024-05-23T01:25:39.682Z"
   },
   {
    "duration": 8,
    "start_time": "2024-05-23T01:25:56.944Z"
   },
   {
    "duration": 863,
    "start_time": "2024-05-23T01:26:49.227Z"
   },
   {
    "duration": 19,
    "start_time": "2024-05-23T01:27:05.523Z"
   },
   {
    "duration": 5,
    "start_time": "2024-05-23T01:27:10.783Z"
   },
   {
    "duration": 7,
    "start_time": "2024-05-23T01:28:50.987Z"
   },
   {
    "duration": 6,
    "start_time": "2024-05-23T01:28:51.639Z"
   },
   {
    "duration": 32,
    "start_time": "2024-05-23T01:31:43.667Z"
   },
   {
    "duration": 274,
    "start_time": "2024-05-23T01:32:06.447Z"
   },
   {
    "duration": 338,
    "start_time": "2024-05-23T01:32:40.928Z"
   },
   {
    "duration": 30,
    "start_time": "2024-05-23T01:34:31.306Z"
   },
   {
    "duration": 263,
    "start_time": "2024-05-23T01:34:41.892Z"
   },
   {
    "duration": 4,
    "start_time": "2024-05-23T01:38:49.904Z"
   },
   {
    "duration": 214,
    "start_time": "2024-05-23T01:40:32.128Z"
   },
   {
    "duration": 238,
    "start_time": "2024-05-23T01:41:06.564Z"
   },
   {
    "duration": 824,
    "start_time": "2024-05-23T01:41:26.117Z"
   },
   {
    "duration": 8,
    "start_time": "2024-05-23T01:41:59.813Z"
   },
   {
    "duration": 239,
    "start_time": "2024-05-23T01:42:05.983Z"
   },
   {
    "duration": 215,
    "start_time": "2024-05-23T01:42:24.285Z"
   },
   {
    "duration": 14,
    "start_time": "2024-05-23T01:49:40.706Z"
   },
   {
    "duration": 1288,
    "start_time": "2024-05-23T01:49:50.750Z"
   },
   {
    "duration": 20,
    "start_time": "2024-05-23T01:49:52.041Z"
   },
   {
    "duration": 29,
    "start_time": "2024-05-23T01:49:52.063Z"
   },
   {
    "duration": 23,
    "start_time": "2024-05-23T01:49:52.112Z"
   },
   {
    "duration": 14,
    "start_time": "2024-05-23T01:49:52.138Z"
   },
   {
    "duration": 8,
    "start_time": "2024-05-23T01:49:52.155Z"
   },
   {
    "duration": 46,
    "start_time": "2024-05-23T01:49:52.167Z"
   },
   {
    "duration": 7,
    "start_time": "2024-05-23T01:49:52.216Z"
   },
   {
    "duration": 7,
    "start_time": "2024-05-23T01:49:52.226Z"
   },
   {
    "duration": 4,
    "start_time": "2024-05-23T01:49:52.241Z"
   },
   {
    "duration": 12,
    "start_time": "2024-05-23T01:49:52.248Z"
   },
   {
    "duration": 58,
    "start_time": "2024-05-23T01:49:52.263Z"
   },
   {
    "duration": 9,
    "start_time": "2024-05-23T01:49:52.324Z"
   },
   {
    "duration": 9,
    "start_time": "2024-05-23T01:49:52.336Z"
   },
   {
    "duration": 10,
    "start_time": "2024-05-23T01:49:52.348Z"
   },
   {
    "duration": 59,
    "start_time": "2024-05-23T01:49:52.363Z"
   },
   {
    "duration": 11,
    "start_time": "2024-05-23T01:49:52.426Z"
   },
   {
    "duration": 194,
    "start_time": "2024-05-23T01:49:52.441Z"
   },
   {
    "duration": 176,
    "start_time": "2024-05-23T01:49:52.638Z"
   },
   {
    "duration": 10,
    "start_time": "2024-05-23T01:49:52.818Z"
   },
   {
    "duration": 8,
    "start_time": "2024-05-23T01:49:52.831Z"
   },
   {
    "duration": 510,
    "start_time": "2024-05-23T01:49:52.843Z"
   },
   {
    "duration": 0,
    "start_time": "2024-05-23T01:49:53.356Z"
   },
   {
    "duration": 0,
    "start_time": "2024-05-23T01:49:53.358Z"
   },
   {
    "duration": 5,
    "start_time": "2024-05-23T01:50:15.580Z"
   },
   {
    "duration": 259,
    "start_time": "2024-05-23T01:50:16.834Z"
   },
   {
    "duration": 219,
    "start_time": "2024-05-23T01:50:18.635Z"
   },
   {
    "duration": 1313,
    "start_time": "2024-05-23T01:50:24.727Z"
   },
   {
    "duration": 16,
    "start_time": "2024-05-23T01:50:26.044Z"
   },
   {
    "duration": 29,
    "start_time": "2024-05-23T01:50:26.063Z"
   },
   {
    "duration": 23,
    "start_time": "2024-05-23T01:50:26.114Z"
   },
   {
    "duration": 15,
    "start_time": "2024-05-23T01:50:26.139Z"
   },
   {
    "duration": 9,
    "start_time": "2024-05-23T01:50:26.157Z"
   },
   {
    "duration": 43,
    "start_time": "2024-05-23T01:50:26.169Z"
   },
   {
    "duration": 7,
    "start_time": "2024-05-23T01:50:26.214Z"
   },
   {
    "duration": 8,
    "start_time": "2024-05-23T01:50:26.225Z"
   },
   {
    "duration": 5,
    "start_time": "2024-05-23T01:50:26.239Z"
   },
   {
    "duration": 11,
    "start_time": "2024-05-23T01:50:26.249Z"
   },
   {
    "duration": 59,
    "start_time": "2024-05-23T01:50:26.263Z"
   },
   {
    "duration": 8,
    "start_time": "2024-05-23T01:50:26.324Z"
   },
   {
    "duration": 7,
    "start_time": "2024-05-23T01:50:26.335Z"
   },
   {
    "duration": 6,
    "start_time": "2024-05-23T01:50:26.346Z"
   },
   {
    "duration": 8,
    "start_time": "2024-05-23T01:50:26.355Z"
   },
   {
    "duration": 13,
    "start_time": "2024-05-23T01:50:26.412Z"
   },
   {
    "duration": 188,
    "start_time": "2024-05-23T01:50:26.429Z"
   },
   {
    "duration": 188,
    "start_time": "2024-05-23T01:50:26.620Z"
   },
   {
    "duration": 10,
    "start_time": "2024-05-23T01:50:26.814Z"
   },
   {
    "duration": 8,
    "start_time": "2024-05-23T01:50:26.827Z"
   },
   {
    "duration": 6,
    "start_time": "2024-05-23T01:50:26.838Z"
   },
   {
    "duration": 354,
    "start_time": "2024-05-23T01:50:26.847Z"
   },
   {
    "duration": 231,
    "start_time": "2024-05-23T01:50:27.204Z"
   },
   {
    "duration": 5103,
    "start_time": "2024-05-24T00:08:19.580Z"
   },
   {
    "duration": 33,
    "start_time": "2024-05-24T00:08:24.687Z"
   },
   {
    "duration": 33,
    "start_time": "2024-05-24T00:08:24.723Z"
   },
   {
    "duration": 52,
    "start_time": "2024-05-24T00:08:24.762Z"
   },
   {
    "duration": 21,
    "start_time": "2024-05-24T00:08:24.818Z"
   },
   {
    "duration": 13,
    "start_time": "2024-05-24T00:08:24.842Z"
   },
   {
    "duration": 6,
    "start_time": "2024-05-24T00:08:24.859Z"
   },
   {
    "duration": 54,
    "start_time": "2024-05-24T00:08:24.868Z"
   },
   {
    "duration": 17,
    "start_time": "2024-05-24T00:08:24.928Z"
   },
   {
    "duration": 9,
    "start_time": "2024-05-24T00:08:24.960Z"
   },
   {
    "duration": 45,
    "start_time": "2024-05-24T00:08:24.973Z"
   },
   {
    "duration": 12,
    "start_time": "2024-05-24T00:08:25.022Z"
   },
   {
    "duration": 11,
    "start_time": "2024-05-24T00:08:25.037Z"
   },
   {
    "duration": 9,
    "start_time": "2024-05-24T00:08:25.051Z"
   },
   {
    "duration": 50,
    "start_time": "2024-05-24T00:08:25.063Z"
   },
   {
    "duration": 11,
    "start_time": "2024-05-24T00:08:25.116Z"
   },
   {
    "duration": 14,
    "start_time": "2024-05-24T00:08:25.130Z"
   },
   {
    "duration": 237,
    "start_time": "2024-05-24T00:08:25.148Z"
   },
   {
    "duration": 171,
    "start_time": "2024-05-24T00:08:25.388Z"
   },
   {
    "duration": 10,
    "start_time": "2024-05-24T00:08:25.562Z"
   },
   {
    "duration": 9,
    "start_time": "2024-05-24T00:08:25.576Z"
   },
   {
    "duration": 5,
    "start_time": "2024-05-24T00:08:25.612Z"
   },
   {
    "duration": 353,
    "start_time": "2024-05-24T00:08:25.620Z"
   },
   {
    "duration": 299,
    "start_time": "2024-05-24T00:08:25.976Z"
   },
   {
    "duration": 8,
    "start_time": "2024-05-24T00:10:27.827Z"
   },
   {
    "duration": 10,
    "start_time": "2024-05-24T00:11:50.910Z"
   },
   {
    "duration": 920,
    "start_time": "2024-05-24T00:18:58.523Z"
   },
   {
    "duration": 65,
    "start_time": "2024-05-24T00:23:10.238Z"
   },
   {
    "duration": 206,
    "start_time": "2024-05-24T00:23:18.781Z"
   },
   {
    "duration": 207,
    "start_time": "2024-05-24T00:27:57.748Z"
   },
   {
    "duration": 300,
    "start_time": "2024-05-24T00:28:43.879Z"
   },
   {
    "duration": 214,
    "start_time": "2024-05-24T00:29:39.348Z"
   },
   {
    "duration": 232,
    "start_time": "2024-05-24T00:31:01.096Z"
   },
   {
    "duration": 203,
    "start_time": "2024-05-24T00:31:47.492Z"
   },
   {
    "duration": 186,
    "start_time": "2024-05-24T00:31:53.748Z"
   },
   {
    "duration": 182,
    "start_time": "2024-05-24T00:32:08.432Z"
   },
   {
    "duration": 205,
    "start_time": "2024-05-24T00:33:04.571Z"
   },
   {
    "duration": 189,
    "start_time": "2024-05-24T00:33:50.111Z"
   },
   {
    "duration": 197,
    "start_time": "2024-05-24T00:35:10.506Z"
   },
   {
    "duration": 221,
    "start_time": "2024-05-24T00:35:29.028Z"
   },
   {
    "duration": 203,
    "start_time": "2024-05-24T00:35:53.156Z"
   },
   {
    "duration": 195,
    "start_time": "2024-05-24T00:36:01.941Z"
   },
   {
    "duration": 4,
    "start_time": "2024-05-24T00:39:13.084Z"
   },
   {
    "duration": 7,
    "start_time": "2024-05-24T01:12:09.462Z"
   },
   {
    "duration": 17,
    "start_time": "2024-05-24T01:12:22.781Z"
   },
   {
    "duration": 1438,
    "start_time": "2024-05-24T01:16:24.136Z"
   },
   {
    "duration": 20,
    "start_time": "2024-05-24T01:16:25.579Z"
   },
   {
    "duration": 34,
    "start_time": "2024-05-24T01:16:25.613Z"
   },
   {
    "duration": 27,
    "start_time": "2024-05-24T01:16:25.651Z"
   },
   {
    "duration": 16,
    "start_time": "2024-05-24T01:16:25.715Z"
   },
   {
    "duration": 8,
    "start_time": "2024-05-24T01:16:25.734Z"
   },
   {
    "duration": 5,
    "start_time": "2024-05-24T01:16:25.746Z"
   },
   {
    "duration": 9,
    "start_time": "2024-05-24T01:16:25.755Z"
   },
   {
    "duration": 49,
    "start_time": "2024-05-24T01:16:25.768Z"
   },
   {
    "duration": 4,
    "start_time": "2024-05-24T01:16:25.822Z"
   },
   {
    "duration": 13,
    "start_time": "2024-05-24T01:16:25.831Z"
   },
   {
    "duration": 15,
    "start_time": "2024-05-24T01:16:25.847Z"
   },
   {
    "duration": 52,
    "start_time": "2024-05-24T01:16:25.865Z"
   },
   {
    "duration": 8,
    "start_time": "2024-05-24T01:16:25.927Z"
   },
   {
    "duration": 10,
    "start_time": "2024-05-24T01:16:25.938Z"
   },
   {
    "duration": 11,
    "start_time": "2024-05-24T01:16:25.951Z"
   },
   {
    "duration": 56,
    "start_time": "2024-05-24T01:16:25.965Z"
   },
   {
    "duration": 243,
    "start_time": "2024-05-24T01:16:26.025Z"
   },
   {
    "duration": 195,
    "start_time": "2024-05-24T01:16:26.271Z"
   },
   {
    "duration": 13,
    "start_time": "2024-05-24T01:16:26.470Z"
   },
   {
    "duration": 26,
    "start_time": "2024-05-24T01:16:26.489Z"
   },
   {
    "duration": 8,
    "start_time": "2024-05-24T01:16:26.519Z"
   },
   {
    "duration": 368,
    "start_time": "2024-05-24T01:16:26.533Z"
   },
   {
    "duration": 219,
    "start_time": "2024-05-24T01:16:26.904Z"
   },
   {
    "duration": 8,
    "start_time": "2024-05-24T01:16:27.127Z"
   },
   {
    "duration": 11,
    "start_time": "2024-05-24T01:16:27.140Z"
   },
   {
    "duration": 236,
    "start_time": "2024-05-24T01:16:27.158Z"
   },
   {
    "duration": 16,
    "start_time": "2024-05-24T01:16:27.398Z"
   },
   {
    "duration": 8,
    "start_time": "2024-05-24T01:16:27.417Z"
   },
   {
    "duration": 13,
    "start_time": "2024-05-24T01:18:24.588Z"
   },
   {
    "duration": 13,
    "start_time": "2024-05-24T01:28:06.839Z"
   },
   {
    "duration": 1856,
    "start_time": "2024-05-24T01:30:19.691Z"
   },
   {
    "duration": 20,
    "start_time": "2024-05-24T01:30:30.740Z"
   },
   {
    "duration": 1334,
    "start_time": "2024-05-24T01:33:01.293Z"
   },
   {
    "duration": 29,
    "start_time": "2024-05-24T01:33:33.864Z"
   },
   {
    "duration": 15,
    "start_time": "2024-05-24T01:33:46.549Z"
   },
   {
    "duration": 9,
    "start_time": "2024-05-24T01:34:49.837Z"
   },
   {
    "duration": 296,
    "start_time": "2024-05-24T01:35:34.196Z"
   },
   {
    "duration": 14,
    "start_time": "2024-05-24T01:35:49.900Z"
   },
   {
    "duration": 14,
    "start_time": "2024-05-24T01:36:04.853Z"
   },
   {
    "duration": 14,
    "start_time": "2024-05-24T01:38:23.306Z"
   },
   {
    "duration": 13,
    "start_time": "2024-05-24T01:38:38.214Z"
   },
   {
    "duration": 14,
    "start_time": "2024-05-24T01:39:11.040Z"
   },
   {
    "duration": 1279,
    "start_time": "2024-05-24T01:39:18.568Z"
   },
   {
    "duration": 17,
    "start_time": "2024-05-24T01:39:19.850Z"
   },
   {
    "duration": 43,
    "start_time": "2024-05-24T01:39:19.870Z"
   },
   {
    "duration": 23,
    "start_time": "2024-05-24T01:39:19.917Z"
   },
   {
    "duration": 17,
    "start_time": "2024-05-24T01:39:19.942Z"
   },
   {
    "duration": 10,
    "start_time": "2024-05-24T01:39:19.963Z"
   },
   {
    "duration": 37,
    "start_time": "2024-05-24T01:39:19.976Z"
   },
   {
    "duration": 8,
    "start_time": "2024-05-24T01:39:20.016Z"
   },
   {
    "duration": 8,
    "start_time": "2024-05-24T01:39:20.027Z"
   },
   {
    "duration": 3,
    "start_time": "2024-05-24T01:39:20.041Z"
   },
   {
    "duration": 11,
    "start_time": "2024-05-24T01:39:20.048Z"
   },
   {
    "duration": 11,
    "start_time": "2024-05-24T01:39:20.114Z"
   },
   {
    "duration": 7,
    "start_time": "2024-05-24T01:39:20.128Z"
   },
   {
    "duration": 7,
    "start_time": "2024-05-24T01:39:20.139Z"
   },
   {
    "duration": 9,
    "start_time": "2024-05-24T01:39:20.149Z"
   },
   {
    "duration": 56,
    "start_time": "2024-05-24T01:39:20.161Z"
   },
   {
    "duration": 11,
    "start_time": "2024-05-24T01:39:20.220Z"
   },
   {
    "duration": 197,
    "start_time": "2024-05-24T01:39:20.233Z"
   },
   {
    "duration": 181,
    "start_time": "2024-05-24T01:39:20.433Z"
   },
   {
    "duration": 10,
    "start_time": "2024-05-24T01:39:20.617Z"
   },
   {
    "duration": 9,
    "start_time": "2024-05-24T01:39:20.629Z"
   },
   {
    "duration": 6,
    "start_time": "2024-05-24T01:39:20.641Z"
   },
   {
    "duration": 394,
    "start_time": "2024-05-24T01:39:20.652Z"
   },
   {
    "duration": 194,
    "start_time": "2024-05-24T01:39:21.049Z"
   },
   {
    "duration": 7,
    "start_time": "2024-05-24T01:39:21.246Z"
   },
   {
    "duration": 9,
    "start_time": "2024-05-24T01:39:21.256Z"
   },
   {
    "duration": 217,
    "start_time": "2024-05-24T01:39:21.268Z"
   },
   {
    "duration": 20,
    "start_time": "2024-05-24T01:39:21.492Z"
   },
   {
    "duration": 11,
    "start_time": "2024-05-24T01:39:21.515Z"
   },
   {
    "duration": 14,
    "start_time": "2024-05-24T01:39:21.529Z"
   },
   {
    "duration": 15,
    "start_time": "2024-05-24T01:39:21.545Z"
   },
   {
    "duration": 50,
    "start_time": "2024-05-24T01:39:21.563Z"
   },
   {
    "duration": 14,
    "start_time": "2024-05-24T01:39:21.616Z"
   },
   {
    "duration": 9,
    "start_time": "2024-05-24T01:39:21.633Z"
   },
   {
    "duration": 16,
    "start_time": "2024-05-24T01:39:21.646Z"
   },
   {
    "duration": 15,
    "start_time": "2024-05-24T01:40:06.162Z"
   },
   {
    "duration": 14,
    "start_time": "2024-05-24T01:40:51.836Z"
   },
   {
    "duration": 15,
    "start_time": "2024-05-24T01:42:26.457Z"
   },
   {
    "duration": 3,
    "start_time": "2024-05-24T01:45:37.603Z"
   },
   {
    "duration": 6,
    "start_time": "2024-05-24T01:51:49.090Z"
   },
   {
    "duration": 6,
    "start_time": "2024-05-24T01:52:05.539Z"
   },
   {
    "duration": 6,
    "start_time": "2024-05-24T01:59:37.361Z"
   },
   {
    "duration": 5231,
    "start_time": "2024-05-24T22:44:45.428Z"
   },
   {
    "duration": 31,
    "start_time": "2024-05-24T22:44:50.664Z"
   },
   {
    "duration": 50,
    "start_time": "2024-05-24T22:44:50.699Z"
   },
   {
    "duration": 29,
    "start_time": "2024-05-24T22:44:50.756Z"
   },
   {
    "duration": 15,
    "start_time": "2024-05-24T22:44:50.790Z"
   },
   {
    "duration": 29,
    "start_time": "2024-05-24T22:44:50.808Z"
   },
   {
    "duration": 5,
    "start_time": "2024-05-24T22:44:50.841Z"
   },
   {
    "duration": 10,
    "start_time": "2024-05-24T22:44:50.850Z"
   },
   {
    "duration": 9,
    "start_time": "2024-05-24T22:44:50.863Z"
   },
   {
    "duration": 4,
    "start_time": "2024-05-24T22:44:50.880Z"
   },
   {
    "duration": 13,
    "start_time": "2024-05-24T22:44:50.932Z"
   },
   {
    "duration": 10,
    "start_time": "2024-05-24T22:44:50.948Z"
   },
   {
    "duration": 8,
    "start_time": "2024-05-24T22:44:50.961Z"
   },
   {
    "duration": 6,
    "start_time": "2024-05-24T22:44:50.973Z"
   },
   {
    "duration": 52,
    "start_time": "2024-05-24T22:44:50.982Z"
   },
   {
    "duration": 10,
    "start_time": "2024-05-24T22:44:51.038Z"
   },
   {
    "duration": 13,
    "start_time": "2024-05-24T22:44:51.050Z"
   },
   {
    "duration": 236,
    "start_time": "2024-05-24T22:44:51.066Z"
   },
   {
    "duration": 208,
    "start_time": "2024-05-24T22:44:51.306Z"
   },
   {
    "duration": 14,
    "start_time": "2024-05-24T22:44:51.518Z"
   },
   {
    "duration": 11,
    "start_time": "2024-05-24T22:44:51.535Z"
   },
   {
    "duration": 10,
    "start_time": "2024-05-24T22:44:51.550Z"
   },
   {
    "duration": 7,
    "start_time": "2024-05-24T22:44:51.564Z"
   },
   {
    "duration": 376,
    "start_time": "2024-05-24T22:44:51.575Z"
   },
   {
    "duration": 223,
    "start_time": "2024-05-24T22:44:51.955Z"
   },
   {
    "duration": 8,
    "start_time": "2024-05-24T22:44:52.181Z"
   },
   {
    "duration": 14,
    "start_time": "2024-05-24T22:44:52.191Z"
   },
   {
    "duration": 227,
    "start_time": "2024-05-24T22:44:52.239Z"
   },
   {
    "duration": 9,
    "start_time": "2024-05-24T22:44:52.472Z"
   },
   {
    "duration": 12,
    "start_time": "2024-05-24T22:44:52.486Z"
   },
   {
    "duration": 35,
    "start_time": "2024-05-24T22:44:52.501Z"
   },
   {
    "duration": 14,
    "start_time": "2024-05-24T22:44:52.543Z"
   },
   {
    "duration": 10,
    "start_time": "2024-05-24T22:44:52.562Z"
   },
   {
    "duration": 14,
    "start_time": "2024-05-24T22:44:52.576Z"
   },
   {
    "duration": 48,
    "start_time": "2024-05-24T22:44:52.593Z"
   },
   {
    "duration": 16,
    "start_time": "2024-05-24T22:44:52.646Z"
   },
   {
    "duration": 11,
    "start_time": "2024-05-24T22:57:35.183Z"
   },
   {
    "duration": 14,
    "start_time": "2024-05-24T22:57:48.768Z"
   },
   {
    "duration": 22,
    "start_time": "2024-05-24T22:58:42.221Z"
   },
   {
    "duration": 29,
    "start_time": "2024-05-24T22:58:52.158Z"
   },
   {
    "duration": 34,
    "start_time": "2024-05-24T22:59:10.346Z"
   },
   {
    "duration": 1294,
    "start_time": "2024-05-24T23:14:43.762Z"
   },
   {
    "duration": 17,
    "start_time": "2024-05-24T23:14:45.059Z"
   },
   {
    "duration": 30,
    "start_time": "2024-05-24T23:14:45.079Z"
   },
   {
    "duration": 23,
    "start_time": "2024-05-24T23:14:45.134Z"
   },
   {
    "duration": 15,
    "start_time": "2024-05-24T23:14:45.160Z"
   },
   {
    "duration": 7,
    "start_time": "2024-05-24T23:14:45.178Z"
   },
   {
    "duration": 43,
    "start_time": "2024-05-24T23:14:45.188Z"
   },
   {
    "duration": 8,
    "start_time": "2024-05-24T23:14:45.234Z"
   },
   {
    "duration": 8,
    "start_time": "2024-05-24T23:14:45.246Z"
   },
   {
    "duration": 4,
    "start_time": "2024-05-24T23:14:45.260Z"
   },
   {
    "duration": 13,
    "start_time": "2024-05-24T23:14:45.268Z"
   },
   {
    "duration": 11,
    "start_time": "2024-05-24T23:14:45.330Z"
   },
   {
    "duration": 7,
    "start_time": "2024-05-24T23:14:45.344Z"
   },
   {
    "duration": 7,
    "start_time": "2024-05-24T23:14:45.354Z"
   },
   {
    "duration": 7,
    "start_time": "2024-05-24T23:14:45.364Z"
   },
   {
    "duration": 57,
    "start_time": "2024-05-24T23:14:45.374Z"
   },
   {
    "duration": 12,
    "start_time": "2024-05-24T23:14:45.434Z"
   },
   {
    "duration": 207,
    "start_time": "2024-05-24T23:14:45.449Z"
   },
   {
    "duration": 177,
    "start_time": "2024-05-24T23:14:45.659Z"
   },
   {
    "duration": 10,
    "start_time": "2024-05-24T23:14:45.839Z"
   },
   {
    "duration": 15,
    "start_time": "2024-05-24T23:14:45.852Z"
   },
   {
    "duration": 492,
    "start_time": "2024-05-24T23:14:45.869Z"
   },
   {
    "duration": 0,
    "start_time": "2024-05-24T23:14:46.365Z"
   },
   {
    "duration": 0,
    "start_time": "2024-05-24T23:14:46.367Z"
   },
   {
    "duration": 0,
    "start_time": "2024-05-24T23:14:46.370Z"
   },
   {
    "duration": 0,
    "start_time": "2024-05-24T23:14:46.373Z"
   },
   {
    "duration": 0,
    "start_time": "2024-05-24T23:14:46.375Z"
   },
   {
    "duration": 0,
    "start_time": "2024-05-24T23:14:46.377Z"
   },
   {
    "duration": 0,
    "start_time": "2024-05-24T23:14:46.380Z"
   },
   {
    "duration": 0,
    "start_time": "2024-05-24T23:14:46.385Z"
   },
   {
    "duration": 0,
    "start_time": "2024-05-24T23:14:46.389Z"
   },
   {
    "duration": 0,
    "start_time": "2024-05-24T23:14:46.391Z"
   },
   {
    "duration": 0,
    "start_time": "2024-05-24T23:14:46.393Z"
   },
   {
    "duration": 0,
    "start_time": "2024-05-24T23:14:46.430Z"
   },
   {
    "duration": 0,
    "start_time": "2024-05-24T23:14:46.433Z"
   },
   {
    "duration": 0,
    "start_time": "2024-05-24T23:14:46.435Z"
   },
   {
    "duration": 1,
    "start_time": "2024-05-24T23:14:46.436Z"
   },
   {
    "duration": 0,
    "start_time": "2024-05-24T23:14:46.439Z"
   },
   {
    "duration": 160,
    "start_time": "2024-05-24T23:15:37.764Z"
   },
   {
    "duration": 5265,
    "start_time": "2024-05-25T19:08:14.786Z"
   },
   {
    "duration": 32,
    "start_time": "2024-05-25T19:08:20.055Z"
   },
   {
    "duration": 40,
    "start_time": "2024-05-25T19:08:20.090Z"
   },
   {
    "duration": 25,
    "start_time": "2024-05-25T19:08:20.133Z"
   },
   {
    "duration": 19,
    "start_time": "2024-05-25T19:08:20.162Z"
   },
   {
    "duration": 9,
    "start_time": "2024-05-25T19:08:20.185Z"
   },
   {
    "duration": 5,
    "start_time": "2024-05-25T19:08:20.232Z"
   },
   {
    "duration": 8,
    "start_time": "2024-05-25T19:08:20.241Z"
   },
   {
    "duration": 11,
    "start_time": "2024-05-25T19:08:20.253Z"
   },
   {
    "duration": 5,
    "start_time": "2024-05-25T19:08:20.268Z"
   },
   {
    "duration": 60,
    "start_time": "2024-05-25T19:08:20.277Z"
   },
   {
    "duration": 12,
    "start_time": "2024-05-25T19:08:20.341Z"
   },
   {
    "duration": 8,
    "start_time": "2024-05-25T19:08:20.358Z"
   },
   {
    "duration": 13,
    "start_time": "2024-05-25T19:08:20.375Z"
   },
   {
    "duration": 8,
    "start_time": "2024-05-25T19:08:20.432Z"
   },
   {
    "duration": 11,
    "start_time": "2024-05-25T19:08:20.443Z"
   },
   {
    "duration": 13,
    "start_time": "2024-05-25T19:08:20.458Z"
   },
   {
    "duration": 239,
    "start_time": "2024-05-25T19:08:20.474Z"
   },
   {
    "duration": 225,
    "start_time": "2024-05-25T19:08:20.717Z"
   },
   {
    "duration": 9,
    "start_time": "2024-05-25T19:08:20.947Z"
   },
   {
    "duration": 19,
    "start_time": "2024-05-25T19:08:20.962Z"
   },
   {
    "duration": 450,
    "start_time": "2024-05-25T19:08:20.984Z"
   },
   {
    "duration": 0,
    "start_time": "2024-05-25T19:08:21.437Z"
   },
   {
    "duration": 0,
    "start_time": "2024-05-25T19:08:21.440Z"
   },
   {
    "duration": 0,
    "start_time": "2024-05-25T19:08:21.443Z"
   },
   {
    "duration": 0,
    "start_time": "2024-05-25T19:08:21.447Z"
   },
   {
    "duration": 0,
    "start_time": "2024-05-25T19:08:21.450Z"
   },
   {
    "duration": 0,
    "start_time": "2024-05-25T19:08:21.453Z"
   },
   {
    "duration": 0,
    "start_time": "2024-05-25T19:08:21.456Z"
   },
   {
    "duration": 0,
    "start_time": "2024-05-25T19:08:21.458Z"
   },
   {
    "duration": 0,
    "start_time": "2024-05-25T19:08:21.461Z"
   },
   {
    "duration": 0,
    "start_time": "2024-05-25T19:08:21.464Z"
   },
   {
    "duration": 0,
    "start_time": "2024-05-25T19:08:21.467Z"
   },
   {
    "duration": 0,
    "start_time": "2024-05-25T19:08:21.471Z"
   },
   {
    "duration": 0,
    "start_time": "2024-05-25T19:08:21.473Z"
   },
   {
    "duration": 0,
    "start_time": "2024-05-25T19:08:21.531Z"
   },
   {
    "duration": 0,
    "start_time": "2024-05-25T19:08:21.533Z"
   },
   {
    "duration": 0,
    "start_time": "2024-05-25T19:08:21.535Z"
   },
   {
    "duration": 4932,
    "start_time": "2024-05-27T20:02:43.776Z"
   },
   {
    "duration": 29,
    "start_time": "2024-05-27T20:02:48.712Z"
   },
   {
    "duration": 30,
    "start_time": "2024-05-27T20:02:48.744Z"
   },
   {
    "duration": 39,
    "start_time": "2024-05-27T20:02:48.778Z"
   },
   {
    "duration": 14,
    "start_time": "2024-05-27T20:02:48.820Z"
   },
   {
    "duration": 7,
    "start_time": "2024-05-27T20:02:48.838Z"
   },
   {
    "duration": 4,
    "start_time": "2024-05-27T20:02:48.849Z"
   },
   {
    "duration": 52,
    "start_time": "2024-05-27T20:02:48.856Z"
   },
   {
    "duration": 6,
    "start_time": "2024-05-27T20:02:48.912Z"
   },
   {
    "duration": 4,
    "start_time": "2024-05-27T20:02:48.924Z"
   },
   {
    "duration": 13,
    "start_time": "2024-05-27T20:02:48.931Z"
   },
   {
    "duration": 12,
    "start_time": "2024-05-27T20:02:48.946Z"
   },
   {
    "duration": 8,
    "start_time": "2024-05-27T20:02:49.008Z"
   },
   {
    "duration": 7,
    "start_time": "2024-05-27T20:02:49.019Z"
   },
   {
    "duration": 7,
    "start_time": "2024-05-27T20:02:49.029Z"
   },
   {
    "duration": 9,
    "start_time": "2024-05-27T20:02:49.039Z"
   },
   {
    "duration": 63,
    "start_time": "2024-05-27T20:02:49.051Z"
   },
   {
    "duration": 1121,
    "start_time": "2024-05-27T20:02:49.117Z"
   },
   {
    "duration": 184,
    "start_time": "2024-05-27T20:02:50.241Z"
   },
   {
    "duration": 11,
    "start_time": "2024-05-27T20:02:50.428Z"
   },
   {
    "duration": 19,
    "start_time": "2024-05-27T20:02:50.442Z"
   },
   {
    "duration": 430,
    "start_time": "2024-05-27T20:02:50.464Z"
   },
   {
    "duration": 0,
    "start_time": "2024-05-27T20:02:50.898Z"
   },
   {
    "duration": 0,
    "start_time": "2024-05-27T20:02:50.900Z"
   },
   {
    "duration": 0,
    "start_time": "2024-05-27T20:02:50.909Z"
   },
   {
    "duration": 0,
    "start_time": "2024-05-27T20:02:50.911Z"
   },
   {
    "duration": 0,
    "start_time": "2024-05-27T20:02:50.914Z"
   },
   {
    "duration": 0,
    "start_time": "2024-05-27T20:02:50.916Z"
   },
   {
    "duration": 0,
    "start_time": "2024-05-27T20:02:50.918Z"
   },
   {
    "duration": 0,
    "start_time": "2024-05-27T20:02:50.921Z"
   },
   {
    "duration": 0,
    "start_time": "2024-05-27T20:02:50.922Z"
   },
   {
    "duration": 0,
    "start_time": "2024-05-27T20:02:50.924Z"
   },
   {
    "duration": 0,
    "start_time": "2024-05-27T20:02:50.928Z"
   },
   {
    "duration": 0,
    "start_time": "2024-05-27T20:02:50.930Z"
   },
   {
    "duration": 0,
    "start_time": "2024-05-27T20:02:50.932Z"
   },
   {
    "duration": 0,
    "start_time": "2024-05-27T20:02:50.935Z"
   },
   {
    "duration": 0,
    "start_time": "2024-05-27T20:02:50.937Z"
   },
   {
    "duration": 0,
    "start_time": "2024-05-27T20:02:50.939Z"
   },
   {
    "duration": 11,
    "start_time": "2024-05-27T20:03:14.102Z"
   },
   {
    "duration": 6,
    "start_time": "2024-05-27T20:03:32.641Z"
   },
   {
    "duration": 16,
    "start_time": "2024-05-27T20:03:53.922Z"
   },
   {
    "duration": 15,
    "start_time": "2024-05-27T20:04:53.945Z"
   },
   {
    "duration": 35,
    "start_time": "2024-05-27T20:05:10.305Z"
   },
   {
    "duration": 492,
    "start_time": "2024-05-27T20:05:20.819Z"
   },
   {
    "duration": 10,
    "start_time": "2024-05-27T20:05:56.488Z"
   },
   {
    "duration": 15,
    "start_time": "2024-05-27T20:06:22.523Z"
   },
   {
    "duration": 580,
    "start_time": "2024-05-27T20:06:39.215Z"
   },
   {
    "duration": 16,
    "start_time": "2024-05-27T20:06:49.372Z"
   },
   {
    "duration": 4983,
    "start_time": "2024-05-30T00:18:04.613Z"
   },
   {
    "duration": 45,
    "start_time": "2024-05-30T00:18:09.600Z"
   },
   {
    "duration": 29,
    "start_time": "2024-05-30T00:18:09.648Z"
   },
   {
    "duration": 22,
    "start_time": "2024-05-30T00:18:09.683Z"
   },
   {
    "duration": 35,
    "start_time": "2024-05-30T00:18:09.708Z"
   },
   {
    "duration": 7,
    "start_time": "2024-05-30T00:18:09.746Z"
   },
   {
    "duration": 4,
    "start_time": "2024-05-30T00:18:09.757Z"
   },
   {
    "duration": 7,
    "start_time": "2024-05-30T00:18:09.764Z"
   },
   {
    "duration": 7,
    "start_time": "2024-05-30T00:18:09.774Z"
   },
   {
    "duration": 4,
    "start_time": "2024-05-30T00:18:09.835Z"
   },
   {
    "duration": 11,
    "start_time": "2024-05-30T00:18:09.842Z"
   },
   {
    "duration": 11,
    "start_time": "2024-05-30T00:18:09.856Z"
   },
   {
    "duration": 9,
    "start_time": "2024-05-30T00:18:09.871Z"
   },
   {
    "duration": 53,
    "start_time": "2024-05-30T00:18:09.883Z"
   },
   {
    "duration": 7,
    "start_time": "2024-05-30T00:18:09.939Z"
   },
   {
    "duration": 9,
    "start_time": "2024-05-30T00:18:09.949Z"
   },
   {
    "duration": 11,
    "start_time": "2024-05-30T00:18:09.961Z"
   },
   {
    "duration": 1141,
    "start_time": "2024-05-30T00:18:09.976Z"
   },
   {
    "duration": 0,
    "start_time": "2024-05-30T00:18:11.121Z"
   },
   {
    "duration": 0,
    "start_time": "2024-05-30T00:18:11.123Z"
   },
   {
    "duration": 0,
    "start_time": "2024-05-30T00:18:11.134Z"
   },
   {
    "duration": 0,
    "start_time": "2024-05-30T00:18:11.136Z"
   },
   {
    "duration": 0,
    "start_time": "2024-05-30T00:18:11.139Z"
   },
   {
    "duration": 0,
    "start_time": "2024-05-30T00:18:11.141Z"
   },
   {
    "duration": 0,
    "start_time": "2024-05-30T00:18:11.143Z"
   },
   {
    "duration": 0,
    "start_time": "2024-05-30T00:18:11.145Z"
   },
   {
    "duration": 0,
    "start_time": "2024-05-30T00:18:11.148Z"
   },
   {
    "duration": 0,
    "start_time": "2024-05-30T00:18:11.151Z"
   },
   {
    "duration": 0,
    "start_time": "2024-05-30T00:18:11.153Z"
   },
   {
    "duration": 0,
    "start_time": "2024-05-30T00:18:11.155Z"
   },
   {
    "duration": 0,
    "start_time": "2024-05-30T00:18:11.157Z"
   },
   {
    "duration": 0,
    "start_time": "2024-05-30T00:18:11.159Z"
   },
   {
    "duration": 0,
    "start_time": "2024-05-30T00:18:11.160Z"
   },
   {
    "duration": 0,
    "start_time": "2024-05-30T00:18:11.163Z"
   },
   {
    "duration": 0,
    "start_time": "2024-05-30T00:18:11.165Z"
   },
   {
    "duration": 0,
    "start_time": "2024-05-30T00:18:11.166Z"
   },
   {
    "duration": 0,
    "start_time": "2024-05-30T00:18:11.168Z"
   },
   {
    "duration": 0,
    "start_time": "2024-05-30T00:18:11.169Z"
   },
   {
    "duration": 0,
    "start_time": "2024-05-30T00:18:11.171Z"
   },
   {
    "duration": 20,
    "start_time": "2024-05-30T00:19:07.795Z"
   },
   {
    "duration": 4897,
    "start_time": "2024-05-31T21:34:08.570Z"
   },
   {
    "duration": 25,
    "start_time": "2024-05-31T21:34:13.473Z"
   },
   {
    "duration": 31,
    "start_time": "2024-05-31T21:34:13.501Z"
   },
   {
    "duration": 22,
    "start_time": "2024-05-31T21:34:13.537Z"
   },
   {
    "duration": 46,
    "start_time": "2024-05-31T21:34:13.562Z"
   },
   {
    "duration": 7,
    "start_time": "2024-05-31T21:34:13.611Z"
   },
   {
    "duration": 4,
    "start_time": "2024-05-31T21:34:13.622Z"
   },
   {
    "duration": 7,
    "start_time": "2024-05-31T21:34:13.630Z"
   },
   {
    "duration": 7,
    "start_time": "2024-05-31T21:34:13.640Z"
   },
   {
    "duration": 54,
    "start_time": "2024-05-31T21:34:13.653Z"
   },
   {
    "duration": 11,
    "start_time": "2024-05-31T21:34:13.711Z"
   },
   {
    "duration": 12,
    "start_time": "2024-05-31T21:34:13.725Z"
   },
   {
    "duration": 7,
    "start_time": "2024-05-31T21:34:13.741Z"
   },
   {
    "duration": 6,
    "start_time": "2024-05-31T21:34:13.752Z"
   },
   {
    "duration": 7,
    "start_time": "2024-05-31T21:34:13.808Z"
   },
   {
    "duration": 9,
    "start_time": "2024-05-31T21:34:13.818Z"
   },
   {
    "duration": 11,
    "start_time": "2024-05-31T21:34:13.830Z"
   },
   {
    "duration": 11,
    "start_time": "2024-05-31T21:34:13.844Z"
   },
   {
    "duration": 10,
    "start_time": "2024-05-31T21:34:13.906Z"
   },
   {
    "duration": 571,
    "start_time": "2024-05-31T21:34:13.919Z"
   },
   {
    "duration": 17,
    "start_time": "2024-05-31T21:34:14.492Z"
   },
   {
    "duration": 514,
    "start_time": "2024-05-31T21:34:14.512Z"
   },
   {
    "duration": 17,
    "start_time": "2024-05-31T21:34:15.029Z"
   },
   {
    "duration": 10,
    "start_time": "2024-05-31T21:34:15.049Z"
   },
   {
    "duration": 44,
    "start_time": "2024-05-31T21:34:15.062Z"
   },
   {
    "duration": 6,
    "start_time": "2024-05-31T21:34:15.109Z"
   },
   {
    "duration": 288,
    "start_time": "2024-05-31T21:34:15.119Z"
   },
   {
    "duration": 271,
    "start_time": "2024-05-31T21:34:15.414Z"
   },
   {
    "duration": 19,
    "start_time": "2024-05-31T21:34:15.688Z"
   },
   {
    "duration": 10,
    "start_time": "2024-05-31T21:34:15.710Z"
   },
   {
    "duration": 211,
    "start_time": "2024-05-31T21:34:15.724Z"
   },
   {
    "duration": 7,
    "start_time": "2024-05-31T21:34:15.938Z"
   },
   {
    "duration": 9,
    "start_time": "2024-05-31T21:34:15.948Z"
   },
   {
    "duration": 46,
    "start_time": "2024-05-31T21:34:15.960Z"
   },
   {
    "duration": 13,
    "start_time": "2024-05-31T21:34:16.008Z"
   },
   {
    "duration": 10,
    "start_time": "2024-05-31T21:34:16.024Z"
   },
   {
    "duration": 17,
    "start_time": "2024-05-31T21:34:16.037Z"
   },
   {
    "duration": 51,
    "start_time": "2024-05-31T21:34:16.057Z"
   },
   {
    "duration": 16,
    "start_time": "2024-05-31T21:34:16.111Z"
   },
   {
    "duration": 17,
    "start_time": "2024-05-31T21:34:26.458Z"
   },
   {
    "duration": 418,
    "start_time": "2024-05-31T21:37:58.067Z"
   },
   {
    "duration": 11,
    "start_time": "2024-05-31T21:38:09.806Z"
   },
   {
    "duration": 493,
    "start_time": "2024-05-31T21:38:13.232Z"
   },
   {
    "duration": 25,
    "start_time": "2024-05-31T21:41:27.329Z"
   },
   {
    "duration": 9,
    "start_time": "2024-05-31T21:41:35.431Z"
   },
   {
    "duration": 530,
    "start_time": "2024-05-31T21:41:37.557Z"
   },
   {
    "duration": 1348,
    "start_time": "2024-05-31T21:43:47.700Z"
   },
   {
    "duration": 25,
    "start_time": "2024-05-31T21:43:49.051Z"
   },
   {
    "duration": 39,
    "start_time": "2024-05-31T21:43:49.079Z"
   },
   {
    "duration": 22,
    "start_time": "2024-05-31T21:43:49.122Z"
   },
   {
    "duration": 15,
    "start_time": "2024-05-31T21:43:49.147Z"
   },
   {
    "duration": 7,
    "start_time": "2024-05-31T21:43:49.166Z"
   },
   {
    "duration": 4,
    "start_time": "2024-05-31T21:43:49.208Z"
   },
   {
    "duration": 11,
    "start_time": "2024-05-31T21:43:49.215Z"
   },
   {
    "duration": 6,
    "start_time": "2024-05-31T21:43:49.230Z"
   },
   {
    "duration": 3,
    "start_time": "2024-05-31T21:43:49.245Z"
   },
   {
    "duration": 61,
    "start_time": "2024-05-31T21:43:49.251Z"
   },
   {
    "duration": 13,
    "start_time": "2024-05-31T21:43:49.315Z"
   },
   {
    "duration": 7,
    "start_time": "2024-05-31T21:43:49.331Z"
   },
   {
    "duration": 7,
    "start_time": "2024-05-31T21:43:49.341Z"
   },
   {
    "duration": 8,
    "start_time": "2024-05-31T21:43:49.351Z"
   },
   {
    "duration": 10,
    "start_time": "2024-05-31T21:43:49.407Z"
   },
   {
    "duration": 14,
    "start_time": "2024-05-31T21:43:49.420Z"
   },
   {
    "duration": 10,
    "start_time": "2024-05-31T21:43:49.437Z"
   },
   {
    "duration": 57,
    "start_time": "2024-05-31T21:43:49.450Z"
   },
   {
    "duration": 537,
    "start_time": "2024-05-31T21:43:49.510Z"
   },
   {
    "duration": 9,
    "start_time": "2024-05-31T21:43:50.050Z"
   },
   {
    "duration": 597,
    "start_time": "2024-05-31T21:43:50.061Z"
   },
   {
    "duration": 18,
    "start_time": "2024-05-31T21:43:50.660Z"
   },
   {
    "duration": 28,
    "start_time": "2024-05-31T21:43:50.682Z"
   },
   {
    "duration": 9,
    "start_time": "2024-05-31T21:43:50.713Z"
   },
   {
    "duration": 5,
    "start_time": "2024-05-31T21:43:50.725Z"
   },
   {
    "duration": 305,
    "start_time": "2024-05-31T21:43:50.734Z"
   },
   {
    "duration": 193,
    "start_time": "2024-05-31T21:43:51.047Z"
   },
   {
    "duration": 7,
    "start_time": "2024-05-31T21:43:51.243Z"
   },
   {
    "duration": 10,
    "start_time": "2024-05-31T21:43:51.253Z"
   },
   {
    "duration": 216,
    "start_time": "2024-05-31T21:43:51.266Z"
   },
   {
    "duration": 20,
    "start_time": "2024-05-31T21:43:51.486Z"
   },
   {
    "duration": 9,
    "start_time": "2024-05-31T21:43:51.509Z"
   },
   {
    "duration": 13,
    "start_time": "2024-05-31T21:43:51.521Z"
   },
   {
    "duration": 13,
    "start_time": "2024-05-31T21:43:51.537Z"
   },
   {
    "duration": 54,
    "start_time": "2024-05-31T21:43:51.553Z"
   },
   {
    "duration": 14,
    "start_time": "2024-05-31T21:43:51.610Z"
   },
   {
    "duration": 9,
    "start_time": "2024-05-31T21:43:51.627Z"
   },
   {
    "duration": 14,
    "start_time": "2024-05-31T21:43:51.639Z"
   },
   {
    "duration": 309,
    "start_time": "2024-06-04T00:16:04.578Z"
   },
   {
    "duration": 5064,
    "start_time": "2024-06-04T00:16:11.812Z"
   },
   {
    "duration": 30,
    "start_time": "2024-06-04T00:16:16.880Z"
   },
   {
    "duration": 29,
    "start_time": "2024-06-04T00:16:16.913Z"
   },
   {
    "duration": 24,
    "start_time": "2024-06-04T00:16:16.946Z"
   },
   {
    "duration": 39,
    "start_time": "2024-06-04T00:16:16.973Z"
   },
   {
    "duration": 8,
    "start_time": "2024-06-04T00:16:17.015Z"
   },
   {
    "duration": 4,
    "start_time": "2024-06-04T00:16:17.027Z"
   },
   {
    "duration": 8,
    "start_time": "2024-06-04T00:16:17.034Z"
   },
   {
    "duration": 58,
    "start_time": "2024-06-04T00:16:17.045Z"
   },
   {
    "duration": 3,
    "start_time": "2024-06-04T00:16:17.109Z"
   },
   {
    "duration": 11,
    "start_time": "2024-06-04T00:16:17.115Z"
   },
   {
    "duration": 11,
    "start_time": "2024-06-04T00:16:17.129Z"
   },
   {
    "duration": 7,
    "start_time": "2024-06-04T00:16:17.144Z"
   },
   {
    "duration": 52,
    "start_time": "2024-06-04T00:16:17.154Z"
   },
   {
    "duration": 8,
    "start_time": "2024-06-04T00:16:17.210Z"
   },
   {
    "duration": 10,
    "start_time": "2024-06-04T00:16:17.223Z"
   },
   {
    "duration": 14,
    "start_time": "2024-06-04T00:16:17.236Z"
   },
   {
    "duration": 55,
    "start_time": "2024-06-04T00:16:17.254Z"
   },
   {
    "duration": 12,
    "start_time": "2024-06-04T00:16:17.312Z"
   },
   {
    "duration": 558,
    "start_time": "2024-06-04T00:16:17.327Z"
   },
   {
    "duration": 22,
    "start_time": "2024-06-04T00:16:17.887Z"
   },
   {
    "duration": 723,
    "start_time": "2024-06-04T00:16:17.911Z"
   },
   {
    "duration": 1343,
    "start_time": "2024-06-04T00:16:18.637Z"
   },
   {
    "duration": 0,
    "start_time": "2024-06-04T00:16:19.984Z"
   },
   {
    "duration": 0,
    "start_time": "2024-06-04T00:16:19.986Z"
   },
   {
    "duration": 0,
    "start_time": "2024-06-04T00:16:19.988Z"
   },
   {
    "duration": 0,
    "start_time": "2024-06-04T00:16:20.003Z"
   },
   {
    "duration": 0,
    "start_time": "2024-06-04T00:16:20.006Z"
   },
   {
    "duration": 0,
    "start_time": "2024-06-04T00:16:20.008Z"
   },
   {
    "duration": 0,
    "start_time": "2024-06-04T00:16:20.010Z"
   },
   {
    "duration": 0,
    "start_time": "2024-06-04T00:16:20.013Z"
   },
   {
    "duration": 0,
    "start_time": "2024-06-04T00:16:20.015Z"
   },
   {
    "duration": 0,
    "start_time": "2024-06-04T00:16:20.018Z"
   },
   {
    "duration": 0,
    "start_time": "2024-06-04T00:16:20.020Z"
   },
   {
    "duration": 0,
    "start_time": "2024-06-04T00:16:20.022Z"
   },
   {
    "duration": 0,
    "start_time": "2024-06-04T00:16:20.024Z"
   },
   {
    "duration": 0,
    "start_time": "2024-06-04T00:16:20.027Z"
   },
   {
    "duration": 0,
    "start_time": "2024-06-04T00:16:20.029Z"
   },
   {
    "duration": 0,
    "start_time": "2024-06-04T00:16:20.032Z"
   },
   {
    "duration": 526,
    "start_time": "2024-06-04T00:17:08.394Z"
   },
   {
    "duration": 524,
    "start_time": "2024-06-04T00:18:47.479Z"
   },
   {
    "duration": 17,
    "start_time": "2024-06-04T00:18:53.229Z"
   },
   {
    "duration": 581,
    "start_time": "2024-06-04T00:20:30.771Z"
   },
   {
    "duration": 388,
    "start_time": "2024-06-04T00:34:43.287Z"
   },
   {
    "duration": 32,
    "start_time": "2024-06-04T00:35:22.283Z"
   },
   {
    "duration": 200,
    "start_time": "2024-06-04T00:36:32.462Z"
   },
   {
    "duration": 10,
    "start_time": "2024-06-04T00:36:50.553Z"
   },
   {
    "duration": 8,
    "start_time": "2024-06-04T00:36:51.219Z"
   },
   {
    "duration": 7,
    "start_time": "2024-06-04T00:36:51.812Z"
   },
   {
    "duration": 238,
    "start_time": "2024-06-04T00:36:52.470Z"
   },
   {
    "duration": 208,
    "start_time": "2024-06-04T00:36:59.677Z"
   },
   {
    "duration": 1283,
    "start_time": "2024-06-04T00:37:28.851Z"
   },
   {
    "duration": 21,
    "start_time": "2024-06-04T00:37:30.137Z"
   },
   {
    "duration": 40,
    "start_time": "2024-06-04T00:37:30.162Z"
   },
   {
    "duration": 24,
    "start_time": "2024-06-04T00:37:30.207Z"
   },
   {
    "duration": 15,
    "start_time": "2024-06-04T00:37:30.234Z"
   },
   {
    "duration": 7,
    "start_time": "2024-06-04T00:37:30.252Z"
   },
   {
    "duration": 41,
    "start_time": "2024-06-04T00:37:30.262Z"
   },
   {
    "duration": 7,
    "start_time": "2024-06-04T00:37:30.307Z"
   },
   {
    "duration": 10,
    "start_time": "2024-06-04T00:37:30.317Z"
   },
   {
    "duration": 5,
    "start_time": "2024-06-04T00:37:30.333Z"
   },
   {
    "duration": 13,
    "start_time": "2024-06-04T00:37:30.341Z"
   },
   {
    "duration": 14,
    "start_time": "2024-06-04T00:37:30.403Z"
   },
   {
    "duration": 9,
    "start_time": "2024-06-04T00:37:30.420Z"
   },
   {
    "duration": 9,
    "start_time": "2024-06-04T00:37:30.432Z"
   },
   {
    "duration": 9,
    "start_time": "2024-06-04T00:37:30.444Z"
   },
   {
    "duration": 10,
    "start_time": "2024-06-04T00:37:30.502Z"
   },
   {
    "duration": 12,
    "start_time": "2024-06-04T00:37:30.514Z"
   },
   {
    "duration": 11,
    "start_time": "2024-06-04T00:37:30.529Z"
   },
   {
    "duration": 13,
    "start_time": "2024-06-04T00:37:30.543Z"
   },
   {
    "duration": 549,
    "start_time": "2024-06-04T00:37:30.602Z"
   },
   {
    "duration": 11,
    "start_time": "2024-06-04T00:37:31.154Z"
   },
   {
    "duration": 622,
    "start_time": "2024-06-04T00:37:31.168Z"
   },
   {
    "duration": 410,
    "start_time": "2024-06-04T00:37:31.793Z"
   },
   {
    "duration": 9,
    "start_time": "2024-06-04T00:37:32.206Z"
   },
   {
    "duration": 8,
    "start_time": "2024-06-04T00:37:32.218Z"
   },
   {
    "duration": 6,
    "start_time": "2024-06-04T00:37:32.229Z"
   },
   {
    "duration": 292,
    "start_time": "2024-06-04T00:37:32.238Z"
   },
   {
    "duration": 238,
    "start_time": "2024-06-04T00:37:32.539Z"
   },
   {
    "duration": 22,
    "start_time": "2024-06-04T00:37:32.780Z"
   },
   {
    "duration": 9,
    "start_time": "2024-06-04T00:37:32.805Z"
   },
   {
    "duration": 215,
    "start_time": "2024-06-04T00:37:32.817Z"
   },
   {
    "duration": 8,
    "start_time": "2024-06-04T00:37:33.035Z"
   },
   {
    "duration": 12,
    "start_time": "2024-06-04T00:37:33.045Z"
   },
   {
    "duration": 13,
    "start_time": "2024-06-04T00:37:33.060Z"
   },
   {
    "duration": 14,
    "start_time": "2024-06-04T00:37:33.102Z"
   },
   {
    "duration": 10,
    "start_time": "2024-06-04T00:37:33.119Z"
   },
   {
    "duration": 13,
    "start_time": "2024-06-04T00:37:33.132Z"
   },
   {
    "duration": 55,
    "start_time": "2024-06-04T00:37:33.149Z"
   },
   {
    "duration": 15,
    "start_time": "2024-06-04T00:37:33.207Z"
   },
   {
    "duration": 202,
    "start_time": "2024-06-04T00:39:26.609Z"
   },
   {
    "duration": 207,
    "start_time": "2024-06-04T00:47:24.816Z"
   },
   {
    "duration": 7,
    "start_time": "2024-06-04T00:47:52.535Z"
   },
   {
    "duration": 172,
    "start_time": "2024-06-04T00:48:53.714Z"
   },
   {
    "duration": 241,
    "start_time": "2024-06-04T00:49:32.263Z"
   },
   {
    "duration": 196,
    "start_time": "2024-06-04T00:49:53.081Z"
   },
   {
    "duration": 10,
    "start_time": "2024-06-04T01:01:18.567Z"
   },
   {
    "duration": 8,
    "start_time": "2024-06-04T01:01:23.864Z"
   },
   {
    "duration": 311,
    "start_time": "2024-06-04T01:01:45.672Z"
   },
   {
    "duration": 188,
    "start_time": "2024-06-04T01:02:43.887Z"
   },
   {
    "duration": 186,
    "start_time": "2024-06-04T01:02:51.230Z"
   },
   {
    "duration": 199,
    "start_time": "2024-06-04T01:05:33.346Z"
   },
   {
    "duration": 5484,
    "start_time": "2024-06-04T23:11:20.691Z"
   },
   {
    "duration": 36,
    "start_time": "2024-06-04T23:11:26.179Z"
   },
   {
    "duration": 31,
    "start_time": "2024-06-04T23:11:26.219Z"
   },
   {
    "duration": 23,
    "start_time": "2024-06-04T23:11:26.254Z"
   },
   {
    "duration": 44,
    "start_time": "2024-06-04T23:11:26.280Z"
   },
   {
    "duration": 14,
    "start_time": "2024-06-04T23:11:26.328Z"
   },
   {
    "duration": 9,
    "start_time": "2024-06-04T23:11:26.345Z"
   },
   {
    "duration": 19,
    "start_time": "2024-06-04T23:11:26.358Z"
   },
   {
    "duration": 12,
    "start_time": "2024-06-04T23:11:26.401Z"
   },
   {
    "duration": 6,
    "start_time": "2024-06-04T23:11:26.423Z"
   },
   {
    "duration": 13,
    "start_time": "2024-06-04T23:11:26.433Z"
   },
   {
    "duration": 14,
    "start_time": "2024-06-04T23:11:26.449Z"
   },
   {
    "duration": 42,
    "start_time": "2024-06-04T23:11:26.465Z"
   },
   {
    "duration": 7,
    "start_time": "2024-06-04T23:11:26.511Z"
   },
   {
    "duration": 7,
    "start_time": "2024-06-04T23:11:26.523Z"
   },
   {
    "duration": 9,
    "start_time": "2024-06-04T23:11:26.533Z"
   },
   {
    "duration": 56,
    "start_time": "2024-06-04T23:11:26.546Z"
   },
   {
    "duration": 11,
    "start_time": "2024-06-04T23:11:26.605Z"
   },
   {
    "duration": 8,
    "start_time": "2024-06-04T23:11:26.619Z"
   },
   {
    "duration": 236,
    "start_time": "2024-06-04T23:11:26.630Z"
   },
   {
    "duration": 233,
    "start_time": "2024-06-04T23:11:26.870Z"
   },
   {
    "duration": 483,
    "start_time": "2024-06-04T23:11:27.106Z"
   },
   {
    "duration": 0,
    "start_time": "2024-06-04T23:11:27.601Z"
   },
   {
    "duration": 0,
    "start_time": "2024-06-04T23:11:27.603Z"
   },
   {
    "duration": 0,
    "start_time": "2024-06-04T23:11:27.605Z"
   },
   {
    "duration": 0,
    "start_time": "2024-06-04T23:11:27.608Z"
   },
   {
    "duration": 0,
    "start_time": "2024-06-04T23:11:27.611Z"
   },
   {
    "duration": 0,
    "start_time": "2024-06-04T23:11:27.613Z"
   },
   {
    "duration": 0,
    "start_time": "2024-06-04T23:11:27.615Z"
   },
   {
    "duration": 0,
    "start_time": "2024-06-04T23:11:27.618Z"
   },
   {
    "duration": 0,
    "start_time": "2024-06-04T23:11:27.620Z"
   },
   {
    "duration": 0,
    "start_time": "2024-06-04T23:11:27.623Z"
   },
   {
    "duration": 0,
    "start_time": "2024-06-04T23:11:27.625Z"
   },
   {
    "duration": 0,
    "start_time": "2024-06-04T23:11:27.627Z"
   },
   {
    "duration": 0,
    "start_time": "2024-06-04T23:11:27.630Z"
   },
   {
    "duration": 0,
    "start_time": "2024-06-04T23:11:27.632Z"
   },
   {
    "duration": 0,
    "start_time": "2024-06-04T23:11:27.635Z"
   },
   {
    "duration": 0,
    "start_time": "2024-06-04T23:11:27.637Z"
   },
   {
    "duration": 20,
    "start_time": "2024-06-04T23:12:15.467Z"
   },
   {
    "duration": 26,
    "start_time": "2024-06-04T23:17:59.059Z"
   },
   {
    "duration": 207,
    "start_time": "2024-06-04T23:18:10.888Z"
   },
   {
    "duration": 1367,
    "start_time": "2024-06-04T23:22:42.377Z"
   },
   {
    "duration": 26,
    "start_time": "2024-06-04T23:22:43.749Z"
   },
   {
    "duration": 40,
    "start_time": "2024-06-04T23:22:43.778Z"
   },
   {
    "duration": 23,
    "start_time": "2024-06-04T23:22:43.823Z"
   },
   {
    "duration": 52,
    "start_time": "2024-06-04T23:22:43.849Z"
   },
   {
    "duration": 8,
    "start_time": "2024-06-04T23:22:43.905Z"
   },
   {
    "duration": 5,
    "start_time": "2024-06-04T23:22:43.917Z"
   },
   {
    "duration": 9,
    "start_time": "2024-06-04T23:22:43.925Z"
   },
   {
    "duration": 9,
    "start_time": "2024-06-04T23:22:43.938Z"
   },
   {
    "duration": 4,
    "start_time": "2024-06-04T23:22:44.002Z"
   },
   {
    "duration": 11,
    "start_time": "2024-06-04T23:22:44.009Z"
   },
   {
    "duration": 11,
    "start_time": "2024-06-04T23:22:44.023Z"
   },
   {
    "duration": 7,
    "start_time": "2024-06-04T23:22:44.037Z"
   },
   {
    "duration": 56,
    "start_time": "2024-06-04T23:22:44.047Z"
   },
   {
    "duration": 8,
    "start_time": "2024-06-04T23:22:44.106Z"
   },
   {
    "duration": 8,
    "start_time": "2024-06-04T23:22:44.117Z"
   },
   {
    "duration": 12,
    "start_time": "2024-06-04T23:22:44.129Z"
   },
   {
    "duration": 57,
    "start_time": "2024-06-04T23:22:44.145Z"
   },
   {
    "duration": 6,
    "start_time": "2024-06-04T23:22:44.204Z"
   },
   {
    "duration": 215,
    "start_time": "2024-06-04T23:22:44.214Z"
   },
   {
    "duration": 179,
    "start_time": "2024-06-04T23:22:44.432Z"
   },
   {
    "duration": 288,
    "start_time": "2024-06-04T23:22:44.613Z"
   },
   {
    "duration": 10,
    "start_time": "2024-06-04T23:22:44.904Z"
   },
   {
    "duration": 10,
    "start_time": "2024-06-04T23:22:44.917Z"
   },
   {
    "duration": 6,
    "start_time": "2024-06-04T23:22:44.930Z"
   },
   {
    "duration": 307,
    "start_time": "2024-06-04T23:22:44.939Z"
   },
   {
    "duration": 209,
    "start_time": "2024-06-04T23:22:45.249Z"
   },
   {
    "duration": 8,
    "start_time": "2024-06-04T23:22:45.467Z"
   },
   {
    "duration": 29,
    "start_time": "2024-06-04T23:22:45.478Z"
   },
   {
    "duration": 208,
    "start_time": "2024-06-04T23:22:45.509Z"
   },
   {
    "duration": 8,
    "start_time": "2024-06-04T23:22:45.720Z"
   },
   {
    "duration": 9,
    "start_time": "2024-06-04T23:22:45.731Z"
   },
   {
    "duration": 13,
    "start_time": "2024-06-04T23:22:45.743Z"
   },
   {
    "duration": 54,
    "start_time": "2024-06-04T23:22:45.759Z"
   },
   {
    "duration": 11,
    "start_time": "2024-06-04T23:22:45.815Z"
   },
   {
    "duration": 18,
    "start_time": "2024-06-04T23:22:45.828Z"
   },
   {
    "duration": 55,
    "start_time": "2024-06-04T23:22:45.849Z"
   },
   {
    "duration": 16,
    "start_time": "2024-06-04T23:22:45.906Z"
   },
   {
    "duration": 311,
    "start_time": "2024-06-05T01:15:17.254Z"
   },
   {
    "duration": 5074,
    "start_time": "2024-06-05T01:15:31.635Z"
   },
   {
    "duration": 34,
    "start_time": "2024-06-05T01:15:36.714Z"
   },
   {
    "duration": 30,
    "start_time": "2024-06-05T01:15:36.751Z"
   },
   {
    "duration": 24,
    "start_time": "2024-06-05T01:15:36.784Z"
   },
   {
    "duration": 15,
    "start_time": "2024-06-05T01:15:36.830Z"
   },
   {
    "duration": 7,
    "start_time": "2024-06-05T01:15:36.848Z"
   },
   {
    "duration": 5,
    "start_time": "2024-06-05T01:15:36.858Z"
   },
   {
    "duration": 8,
    "start_time": "2024-06-05T01:15:36.866Z"
   },
   {
    "duration": 55,
    "start_time": "2024-06-05T01:15:36.878Z"
   },
   {
    "duration": 4,
    "start_time": "2024-06-05T01:15:36.936Z"
   },
   {
    "duration": 11,
    "start_time": "2024-06-05T01:15:36.943Z"
   },
   {
    "duration": 11,
    "start_time": "2024-06-05T01:15:36.956Z"
   },
   {
    "duration": 7,
    "start_time": "2024-06-05T01:15:36.970Z"
   },
   {
    "duration": 6,
    "start_time": "2024-06-05T01:15:37.034Z"
   },
   {
    "duration": 7,
    "start_time": "2024-06-05T01:15:37.043Z"
   },
   {
    "duration": 8,
    "start_time": "2024-06-05T01:15:37.053Z"
   },
   {
    "duration": 13,
    "start_time": "2024-06-05T01:15:37.064Z"
   },
   {
    "duration": 58,
    "start_time": "2024-06-05T01:15:37.080Z"
   },
   {
    "duration": 6,
    "start_time": "2024-06-05T01:15:37.141Z"
   },
   {
    "duration": 717,
    "start_time": "2024-06-05T01:15:37.150Z"
   },
   {
    "duration": 170,
    "start_time": "2024-06-05T01:15:37.870Z"
   },
   {
    "duration": 217,
    "start_time": "2024-06-05T01:15:38.043Z"
   },
   {
    "duration": 11,
    "start_time": "2024-06-05T01:15:38.263Z"
   },
   {
    "duration": 9,
    "start_time": "2024-06-05T01:15:38.277Z"
   },
   {
    "duration": 42,
    "start_time": "2024-06-05T01:15:38.288Z"
   },
   {
    "duration": 255,
    "start_time": "2024-06-05T01:15:38.333Z"
   },
   {
    "duration": 221,
    "start_time": "2024-06-05T01:15:38.591Z"
   },
   {
    "duration": 15,
    "start_time": "2024-06-05T01:15:38.818Z"
   },
   {
    "duration": 11,
    "start_time": "2024-06-05T01:15:38.837Z"
   },
   {
    "duration": 288,
    "start_time": "2024-06-05T01:15:38.851Z"
   },
   {
    "duration": 8,
    "start_time": "2024-06-05T01:15:39.142Z"
   },
   {
    "duration": 10,
    "start_time": "2024-06-05T01:15:39.153Z"
   },
   {
    "duration": 11,
    "start_time": "2024-06-05T01:15:39.166Z"
   },
   {
    "duration": 53,
    "start_time": "2024-06-05T01:15:39.180Z"
   },
   {
    "duration": 10,
    "start_time": "2024-06-05T01:15:39.236Z"
   },
   {
    "duration": 12,
    "start_time": "2024-06-05T01:15:39.249Z"
   },
   {
    "duration": 11,
    "start_time": "2024-06-05T01:15:39.264Z"
   },
   {
    "duration": 58,
    "start_time": "2024-06-05T01:15:39.278Z"
   },
   {
    "duration": 496,
    "start_time": "2024-06-05T01:16:00.883Z"
   },
   {
    "duration": 511,
    "start_time": "2024-06-05T01:16:26.783Z"
   },
   {
    "duration": 5188,
    "start_time": "2024-06-05T02:12:31.943Z"
   },
   {
    "duration": 31,
    "start_time": "2024-06-05T02:12:37.135Z"
   },
   {
    "duration": 39,
    "start_time": "2024-06-05T02:12:37.169Z"
   },
   {
    "duration": 30,
    "start_time": "2024-06-05T02:12:37.212Z"
   },
   {
    "duration": 20,
    "start_time": "2024-06-05T02:12:37.247Z"
   },
   {
    "duration": 36,
    "start_time": "2024-06-05T02:12:37.270Z"
   },
   {
    "duration": 6,
    "start_time": "2024-06-05T02:12:37.311Z"
   },
   {
    "duration": 10,
    "start_time": "2024-06-05T02:12:37.321Z"
   },
   {
    "duration": 12,
    "start_time": "2024-06-05T02:12:37.335Z"
   },
   {
    "duration": 49,
    "start_time": "2024-06-05T02:12:37.354Z"
   },
   {
    "duration": 12,
    "start_time": "2024-06-05T02:12:37.408Z"
   },
   {
    "duration": 13,
    "start_time": "2024-06-05T02:12:37.424Z"
   },
   {
    "duration": 8,
    "start_time": "2024-06-05T02:12:37.441Z"
   },
   {
    "duration": 50,
    "start_time": "2024-06-05T02:12:37.453Z"
   },
   {
    "duration": 10,
    "start_time": "2024-06-05T02:12:37.507Z"
   },
   {
    "duration": 11,
    "start_time": "2024-06-05T02:12:37.520Z"
   },
   {
    "duration": 11,
    "start_time": "2024-06-05T02:12:37.535Z"
   },
   {
    "duration": 57,
    "start_time": "2024-06-05T02:12:37.550Z"
   },
   {
    "duration": 6,
    "start_time": "2024-06-05T02:12:37.610Z"
   },
   {
    "duration": 581,
    "start_time": "2024-06-05T02:12:37.619Z"
   },
   {
    "duration": 544,
    "start_time": "2024-06-05T02:12:38.203Z"
   },
   {
    "duration": 226,
    "start_time": "2024-06-05T02:12:38.751Z"
   },
   {
    "duration": 20,
    "start_time": "2024-06-05T02:12:38.981Z"
   },
   {
    "duration": 8,
    "start_time": "2024-06-05T02:12:39.007Z"
   },
   {
    "duration": 5,
    "start_time": "2024-06-05T02:12:39.024Z"
   },
   {
    "duration": 326,
    "start_time": "2024-06-05T02:12:39.032Z"
   },
   {
    "duration": 215,
    "start_time": "2024-06-05T02:12:39.361Z"
   },
   {
    "duration": 14,
    "start_time": "2024-06-05T02:12:39.588Z"
   },
   {
    "duration": 15,
    "start_time": "2024-06-05T02:12:39.606Z"
   },
   {
    "duration": 241,
    "start_time": "2024-06-05T02:12:39.624Z"
   },
   {
    "duration": 9,
    "start_time": "2024-06-05T02:12:39.869Z"
   },
   {
    "duration": 28,
    "start_time": "2024-06-05T02:12:39.880Z"
   },
   {
    "duration": 14,
    "start_time": "2024-06-05T02:12:39.914Z"
   },
   {
    "duration": 16,
    "start_time": "2024-06-05T02:12:39.932Z"
   },
   {
    "duration": 52,
    "start_time": "2024-06-05T02:12:39.951Z"
   },
   {
    "duration": 31,
    "start_time": "2024-06-05T02:12:40.006Z"
   },
   {
    "duration": 14,
    "start_time": "2024-06-05T02:12:40.040Z"
   },
   {
    "duration": 107,
    "start_time": "2024-06-05T02:12:40.058Z"
   },
   {
    "duration": 14,
    "start_time": "2024-06-05T02:13:04.429Z"
   },
   {
    "duration": 7,
    "start_time": "2024-06-05T02:19:34.965Z"
   },
   {
    "duration": 4954,
    "start_time": "2024-06-05T23:38:12.340Z"
   },
   {
    "duration": 29,
    "start_time": "2024-06-05T23:38:17.297Z"
   },
   {
    "duration": 29,
    "start_time": "2024-06-05T23:38:17.329Z"
   },
   {
    "duration": 39,
    "start_time": "2024-06-05T23:38:17.362Z"
   },
   {
    "duration": 18,
    "start_time": "2024-06-05T23:38:17.404Z"
   },
   {
    "duration": 9,
    "start_time": "2024-06-05T23:38:17.425Z"
   },
   {
    "duration": 4,
    "start_time": "2024-06-05T23:38:17.437Z"
   },
   {
    "duration": 7,
    "start_time": "2024-06-05T23:38:17.444Z"
   },
   {
    "duration": 50,
    "start_time": "2024-06-05T23:38:17.453Z"
   },
   {
    "duration": 4,
    "start_time": "2024-06-05T23:38:17.509Z"
   },
   {
    "duration": 11,
    "start_time": "2024-06-05T23:38:17.517Z"
   },
   {
    "duration": 12,
    "start_time": "2024-06-05T23:38:17.531Z"
   },
   {
    "duration": 57,
    "start_time": "2024-06-05T23:38:17.545Z"
   },
   {
    "duration": 7,
    "start_time": "2024-06-05T23:38:17.605Z"
   },
   {
    "duration": 7,
    "start_time": "2024-06-05T23:38:17.615Z"
   },
   {
    "duration": 9,
    "start_time": "2024-06-05T23:38:17.625Z"
   },
   {
    "duration": 12,
    "start_time": "2024-06-05T23:38:17.637Z"
   },
   {
    "duration": 57,
    "start_time": "2024-06-05T23:38:17.652Z"
   },
   {
    "duration": 6,
    "start_time": "2024-06-05T23:38:17.712Z"
   },
   {
    "duration": 11,
    "start_time": "2024-06-05T23:38:17.721Z"
   },
   {
    "duration": 588,
    "start_time": "2024-06-05T23:38:17.735Z"
   },
   {
    "duration": 524,
    "start_time": "2024-06-05T23:38:18.327Z"
   },
   {
    "duration": 236,
    "start_time": "2024-06-05T23:38:18.854Z"
   },
   {
    "duration": 19,
    "start_time": "2024-06-05T23:38:19.093Z"
   },
   {
    "duration": 11,
    "start_time": "2024-06-05T23:38:19.116Z"
   },
   {
    "duration": 8,
    "start_time": "2024-06-05T23:38:19.130Z"
   },
   {
    "duration": 5,
    "start_time": "2024-06-05T23:38:19.142Z"
   },
   {
    "duration": 398,
    "start_time": "2024-06-05T23:38:19.156Z"
   },
   {
    "duration": 211,
    "start_time": "2024-06-05T23:38:19.558Z"
   },
   {
    "duration": 7,
    "start_time": "2024-06-05T23:38:19.773Z"
   },
   {
    "duration": 26,
    "start_time": "2024-06-05T23:38:19.783Z"
   },
   {
    "duration": 219,
    "start_time": "2024-06-05T23:38:19.812Z"
   },
   {
    "duration": 9,
    "start_time": "2024-06-05T23:38:20.035Z"
   },
   {
    "duration": 13,
    "start_time": "2024-06-05T23:38:20.051Z"
   },
   {
    "duration": 41,
    "start_time": "2024-06-05T23:38:20.068Z"
   },
   {
    "duration": 14,
    "start_time": "2024-06-05T23:38:20.112Z"
   },
   {
    "duration": 9,
    "start_time": "2024-06-05T23:38:20.129Z"
   },
   {
    "duration": 14,
    "start_time": "2024-06-05T23:38:20.141Z"
   },
   {
    "duration": 51,
    "start_time": "2024-06-05T23:38:20.158Z"
   },
   {
    "duration": 17,
    "start_time": "2024-06-05T23:38:20.211Z"
   },
   {
    "duration": 27,
    "start_time": "2024-06-05T23:39:26.511Z"
   },
   {
    "duration": 26,
    "start_time": "2024-06-05T23:40:17.067Z"
   },
   {
    "duration": 24,
    "start_time": "2024-06-05T23:40:23.734Z"
   },
   {
    "duration": 1000,
    "start_time": "2024-06-05T23:40:52.895Z"
   },
   {
    "duration": 278,
    "start_time": "2024-06-05T23:42:43.624Z"
   },
   {
    "duration": 5,
    "start_time": "2024-06-05T23:50:06.960Z"
   },
   {
    "duration": 991,
    "start_time": "2024-06-05T23:50:15.589Z"
   },
   {
    "duration": 14,
    "start_time": "2024-06-05T23:51:39.321Z"
   },
   {
    "duration": 24,
    "start_time": "2024-06-05T23:51:48.958Z"
   },
   {
    "duration": 22,
    "start_time": "2024-06-05T23:52:17.609Z"
   },
   {
    "duration": 16,
    "start_time": "2024-06-05T23:53:29.156Z"
   },
   {
    "duration": 10,
    "start_time": "2024-06-05T23:54:30.774Z"
   },
   {
    "duration": 21,
    "start_time": "2024-06-05T23:54:39.288Z"
   },
   {
    "duration": 11,
    "start_time": "2024-06-05T23:55:20.590Z"
   },
   {
    "duration": 22,
    "start_time": "2024-06-05T23:55:27.645Z"
   },
   {
    "duration": 8,
    "start_time": "2024-06-05T23:57:24.096Z"
   },
   {
    "duration": 16,
    "start_time": "2024-06-05T23:57:31.519Z"
   },
   {
    "duration": 10,
    "start_time": "2024-06-05T23:59:59.440Z"
   },
   {
    "duration": 14,
    "start_time": "2024-06-06T00:00:10.294Z"
   },
   {
    "duration": 10,
    "start_time": "2024-06-06T00:00:39.010Z"
   },
   {
    "duration": 8,
    "start_time": "2024-06-06T00:01:10.286Z"
   },
   {
    "duration": 18,
    "start_time": "2024-06-06T00:02:36.856Z"
   },
   {
    "duration": 19,
    "start_time": "2024-06-06T00:03:05.032Z"
   },
   {
    "duration": 5,
    "start_time": "2024-06-06T00:05:40.322Z"
   },
   {
    "duration": 7,
    "start_time": "2024-06-06T00:05:47.370Z"
   },
   {
    "duration": 14,
    "start_time": "2024-06-06T00:06:11.442Z"
   },
   {
    "duration": 22,
    "start_time": "2024-06-06T00:07:16.292Z"
   },
   {
    "duration": 32,
    "start_time": "2024-06-06T00:07:27.825Z"
   },
   {
    "duration": 215,
    "start_time": "2024-06-06T00:07:38.026Z"
   },
   {
    "duration": 181,
    "start_time": "2024-06-06T00:07:51.300Z"
   },
   {
    "duration": 199,
    "start_time": "2024-06-06T00:08:08.503Z"
   },
   {
    "duration": 174,
    "start_time": "2024-06-06T00:08:18.764Z"
   },
   {
    "duration": 192,
    "start_time": "2024-06-06T00:08:23.177Z"
   },
   {
    "duration": 202,
    "start_time": "2024-06-06T00:08:48.711Z"
   },
   {
    "duration": 219,
    "start_time": "2024-06-06T00:08:57.710Z"
   },
   {
    "duration": 208,
    "start_time": "2024-06-06T00:09:16.805Z"
   },
   {
    "duration": 8,
    "start_time": "2024-06-06T00:11:11.242Z"
   },
   {
    "duration": 300,
    "start_time": "2024-06-06T00:21:52.009Z"
   },
   {
    "duration": 9,
    "start_time": "2024-06-06T00:21:58.731Z"
   },
   {
    "duration": 17,
    "start_time": "2024-06-06T00:22:05.570Z"
   },
   {
    "duration": 94,
    "start_time": "2024-06-06T00:22:35.040Z"
   },
   {
    "duration": 18,
    "start_time": "2024-06-06T00:22:41.691Z"
   },
   {
    "duration": 9,
    "start_time": "2024-06-06T00:23:23.002Z"
   },
   {
    "duration": 17,
    "start_time": "2024-06-06T00:23:32.004Z"
   },
   {
    "duration": 195,
    "start_time": "2024-06-06T00:24:17.971Z"
   },
   {
    "duration": 468,
    "start_time": "2024-06-06T00:25:19.388Z"
   },
   {
    "duration": 14,
    "start_time": "2024-06-06T00:26:44.926Z"
   },
   {
    "duration": 17,
    "start_time": "2024-06-06T00:27:04.590Z"
   },
   {
    "duration": 925,
    "start_time": "2024-06-06T00:27:27.220Z"
   },
   {
    "duration": 207,
    "start_time": "2024-06-06T00:27:44.243Z"
   },
   {
    "duration": 241,
    "start_time": "2024-06-06T00:28:11.548Z"
   },
   {
    "duration": 16,
    "start_time": "2024-06-06T00:30:41.136Z"
   },
   {
    "duration": 205,
    "start_time": "2024-06-06T00:30:47.820Z"
   },
   {
    "duration": 247,
    "start_time": "2024-06-06T00:30:54.815Z"
   },
   {
    "duration": 230,
    "start_time": "2024-06-06T00:31:34.946Z"
   },
   {
    "duration": 241,
    "start_time": "2024-06-06T00:31:53.300Z"
   },
   {
    "duration": 20,
    "start_time": "2024-06-06T00:32:32.162Z"
   },
   {
    "duration": 243,
    "start_time": "2024-06-06T00:32:32.948Z"
   },
   {
    "duration": 1346,
    "start_time": "2024-06-06T00:57:07.895Z"
   },
   {
    "duration": 28,
    "start_time": "2024-06-06T00:57:09.246Z"
   },
   {
    "duration": 39,
    "start_time": "2024-06-06T00:57:09.277Z"
   },
   {
    "duration": 25,
    "start_time": "2024-06-06T00:57:09.318Z"
   },
   {
    "duration": 52,
    "start_time": "2024-06-06T00:57:09.349Z"
   },
   {
    "duration": 9,
    "start_time": "2024-06-06T00:57:09.404Z"
   },
   {
    "duration": 5,
    "start_time": "2024-06-06T00:57:09.416Z"
   },
   {
    "duration": 9,
    "start_time": "2024-06-06T00:57:09.424Z"
   },
   {
    "duration": 11,
    "start_time": "2024-06-06T00:57:09.436Z"
   },
   {
    "duration": 5,
    "start_time": "2024-06-06T00:57:09.450Z"
   },
   {
    "duration": 13,
    "start_time": "2024-06-06T00:57:09.503Z"
   },
   {
    "duration": 13,
    "start_time": "2024-06-06T00:57:09.519Z"
   },
   {
    "duration": 9,
    "start_time": "2024-06-06T00:57:09.537Z"
   },
   {
    "duration": 7,
    "start_time": "2024-06-06T00:57:09.553Z"
   },
   {
    "duration": 11,
    "start_time": "2024-06-06T00:57:09.603Z"
   },
   {
    "duration": 10,
    "start_time": "2024-06-06T00:57:09.618Z"
   },
   {
    "duration": 15,
    "start_time": "2024-06-06T00:57:09.632Z"
   },
   {
    "duration": 50,
    "start_time": "2024-06-06T00:57:09.652Z"
   },
   {
    "duration": 26,
    "start_time": "2024-06-06T00:57:09.706Z"
   },
   {
    "duration": 576,
    "start_time": "2024-06-06T00:57:09.736Z"
   },
   {
    "duration": 626,
    "start_time": "2024-06-06T00:57:10.315Z"
   },
   {
    "duration": 230,
    "start_time": "2024-06-06T00:57:10.944Z"
   },
   {
    "duration": 26,
    "start_time": "2024-06-06T00:57:11.177Z"
   },
   {
    "duration": 10,
    "start_time": "2024-06-06T00:57:11.206Z"
   },
   {
    "duration": 8,
    "start_time": "2024-06-06T00:57:11.219Z"
   },
   {
    "duration": 5,
    "start_time": "2024-06-06T00:57:11.230Z"
   },
   {
    "duration": 305,
    "start_time": "2024-06-06T00:57:11.238Z"
   },
   {
    "duration": 19,
    "start_time": "2024-06-06T00:57:11.546Z"
   },
   {
    "duration": 213,
    "start_time": "2024-06-06T00:57:11.569Z"
   },
   {
    "duration": 18,
    "start_time": "2024-06-06T00:57:11.786Z"
   },
   {
    "duration": 13,
    "start_time": "2024-06-06T00:57:11.809Z"
   },
   {
    "duration": 9,
    "start_time": "2024-06-06T00:57:11.826Z"
   },
   {
    "duration": 255,
    "start_time": "2024-06-06T00:57:11.840Z"
   },
   {
    "duration": 8,
    "start_time": "2024-06-06T00:57:12.103Z"
   },
   {
    "duration": 11,
    "start_time": "2024-06-06T00:57:12.113Z"
   },
   {
    "duration": 12,
    "start_time": "2024-06-06T00:57:12.128Z"
   },
   {
    "duration": 15,
    "start_time": "2024-06-06T00:57:12.143Z"
   },
   {
    "duration": 9,
    "start_time": "2024-06-06T00:57:12.202Z"
   },
   {
    "duration": 19,
    "start_time": "2024-06-06T00:57:12.215Z"
   },
   {
    "duration": 12,
    "start_time": "2024-06-06T00:57:12.237Z"
   },
   {
    "duration": 55,
    "start_time": "2024-06-06T00:57:12.258Z"
   },
   {
    "duration": 5199,
    "start_time": "2024-06-06T01:50:12.989Z"
   },
   {
    "duration": 30,
    "start_time": "2024-06-06T01:50:18.192Z"
   },
   {
    "duration": 31,
    "start_time": "2024-06-06T01:50:18.225Z"
   },
   {
    "duration": 25,
    "start_time": "2024-06-06T01:50:18.260Z"
   },
   {
    "duration": 47,
    "start_time": "2024-06-06T01:50:18.288Z"
   },
   {
    "duration": 7,
    "start_time": "2024-06-06T01:50:18.339Z"
   },
   {
    "duration": 4,
    "start_time": "2024-06-06T01:50:18.350Z"
   },
   {
    "duration": 8,
    "start_time": "2024-06-06T01:50:18.357Z"
   },
   {
    "duration": 54,
    "start_time": "2024-06-06T01:50:18.369Z"
   },
   {
    "duration": 5,
    "start_time": "2024-06-06T01:50:18.429Z"
   },
   {
    "duration": 11,
    "start_time": "2024-06-06T01:50:18.438Z"
   },
   {
    "duration": 11,
    "start_time": "2024-06-06T01:50:18.452Z"
   },
   {
    "duration": 7,
    "start_time": "2024-06-06T01:50:18.467Z"
   },
   {
    "duration": 7,
    "start_time": "2024-06-06T01:50:18.524Z"
   },
   {
    "duration": 7,
    "start_time": "2024-06-06T01:50:18.535Z"
   },
   {
    "duration": 9,
    "start_time": "2024-06-06T01:50:18.545Z"
   },
   {
    "duration": 13,
    "start_time": "2024-06-06T01:50:18.557Z"
   },
   {
    "duration": 59,
    "start_time": "2024-06-06T01:50:18.573Z"
   },
   {
    "duration": 21,
    "start_time": "2024-06-06T01:50:18.635Z"
   },
   {
    "duration": 682,
    "start_time": "2024-06-06T01:50:18.658Z"
   },
   {
    "duration": 554,
    "start_time": "2024-06-06T01:50:19.343Z"
   },
   {
    "duration": 248,
    "start_time": "2024-06-06T01:50:19.900Z"
   },
   {
    "duration": 19,
    "start_time": "2024-06-06T01:50:20.151Z"
   },
   {
    "duration": 11,
    "start_time": "2024-06-06T01:50:20.173Z"
   },
   {
    "duration": 39,
    "start_time": "2024-06-06T01:50:20.187Z"
   },
   {
    "duration": 14,
    "start_time": "2024-06-06T01:50:20.229Z"
   },
   {
    "duration": 310,
    "start_time": "2024-06-06T01:50:20.246Z"
   },
   {
    "duration": 17,
    "start_time": "2024-06-06T01:50:20.565Z"
   },
   {
    "duration": 231,
    "start_time": "2024-06-06T01:50:20.586Z"
   },
   {
    "duration": 9,
    "start_time": "2024-06-06T01:50:20.819Z"
   },
   {
    "duration": 14,
    "start_time": "2024-06-06T01:50:20.831Z"
   },
   {
    "duration": 14,
    "start_time": "2024-06-06T01:50:20.849Z"
   },
   {
    "duration": 266,
    "start_time": "2024-06-06T01:50:20.867Z"
   },
   {
    "duration": 13,
    "start_time": "2024-06-06T01:50:21.137Z"
   },
   {
    "duration": 17,
    "start_time": "2024-06-06T01:50:21.157Z"
   },
   {
    "duration": 15,
    "start_time": "2024-06-06T01:50:21.178Z"
   },
   {
    "duration": 15,
    "start_time": "2024-06-06T01:50:21.224Z"
   },
   {
    "duration": 10,
    "start_time": "2024-06-06T01:50:21.243Z"
   },
   {
    "duration": 15,
    "start_time": "2024-06-06T01:50:21.257Z"
   },
   {
    "duration": 57,
    "start_time": "2024-06-06T01:50:21.275Z"
   },
   {
    "duration": 16,
    "start_time": "2024-06-06T01:50:21.336Z"
   },
   {
    "duration": 8,
    "start_time": "2024-06-06T02:23:37.543Z"
   },
   {
    "duration": 418,
    "start_time": "2024-06-06T02:24:34.415Z"
   },
   {
    "duration": 16,
    "start_time": "2024-06-06T02:24:49.285Z"
   },
   {
    "duration": 21,
    "start_time": "2024-06-06T02:26:04.661Z"
   },
   {
    "duration": 39,
    "start_time": "2024-06-06T02:26:44.553Z"
   },
   {
    "duration": 19,
    "start_time": "2024-06-06T02:27:05.412Z"
   },
   {
    "duration": 1203,
    "start_time": "2024-06-06T02:29:08.680Z"
   },
   {
    "duration": 20,
    "start_time": "2024-06-06T02:29:57.080Z"
   },
   {
    "duration": 1550,
    "start_time": "2024-06-06T02:30:14.058Z"
   },
   {
    "duration": 13144,
    "start_time": "2024-06-06T02:31:18.976Z"
   },
   {
    "duration": 6,
    "start_time": "2024-06-06T02:31:39.881Z"
   },
   {
    "duration": 13623,
    "start_time": "2024-06-06T02:31:52.926Z"
   },
   {
    "duration": 1094,
    "start_time": "2024-06-06T02:33:00.098Z"
   },
   {
    "duration": 615,
    "start_time": "2024-06-06T02:33:39.898Z"
   },
   {
    "duration": 22,
    "start_time": "2024-06-06T02:34:37.728Z"
   },
   {
    "duration": 644,
    "start_time": "2024-06-06T02:34:39.050Z"
   },
   {
    "duration": 17,
    "start_time": "2024-06-06T02:34:57.566Z"
   },
   {
    "duration": 577,
    "start_time": "2024-06-06T02:34:58.259Z"
   },
   {
    "duration": 594,
    "start_time": "2024-06-06T02:36:27.591Z"
   },
   {
    "duration": 22,
    "start_time": "2024-06-06T02:36:50.898Z"
   },
   {
    "duration": 2116,
    "start_time": "2024-06-06T02:38:10.470Z"
   },
   {
    "duration": 7,
    "start_time": "2024-06-06T02:38:40.493Z"
   },
   {
    "duration": 13,
    "start_time": "2024-06-06T02:38:50.359Z"
   },
   {
    "duration": 1286,
    "start_time": "2024-06-06T02:39:10.885Z"
   },
   {
    "duration": 11,
    "start_time": "2024-06-06T02:39:41.252Z"
   },
   {
    "duration": 25,
    "start_time": "2024-06-06T02:40:17.196Z"
   },
   {
    "duration": 172,
    "start_time": "2024-06-06T02:40:54.835Z"
   },
   {
    "duration": 12,
    "start_time": "2024-06-06T02:41:18.564Z"
   },
   {
    "duration": 24,
    "start_time": "2024-06-06T02:41:36.298Z"
   },
   {
    "duration": 25,
    "start_time": "2024-06-06T02:42:42.566Z"
   },
   {
    "duration": 165,
    "start_time": "2024-06-06T02:43:55.109Z"
   },
   {
    "duration": 160,
    "start_time": "2024-06-06T02:44:24.251Z"
   },
   {
    "duration": 13,
    "start_time": "2024-06-06T02:44:58.057Z"
   },
   {
    "duration": 12,
    "start_time": "2024-06-06T02:47:35.737Z"
   },
   {
    "duration": 28,
    "start_time": "2024-06-06T02:47:41.486Z"
   },
   {
    "duration": 11,
    "start_time": "2024-06-06T02:47:59.275Z"
   },
   {
    "duration": 28,
    "start_time": "2024-06-06T02:48:30.896Z"
   },
   {
    "duration": 23,
    "start_time": "2024-06-06T02:49:02.722Z"
   },
   {
    "duration": 45,
    "start_time": "2024-06-06T02:50:36.107Z"
   },
   {
    "duration": 666,
    "start_time": "2024-06-06T02:50:42.109Z"
   },
   {
    "duration": 119,
    "start_time": "2024-06-06T02:50:59.604Z"
   },
   {
    "duration": 119,
    "start_time": "2024-06-06T02:51:06.130Z"
   },
   {
    "duration": 32,
    "start_time": "2024-06-06T02:51:27.553Z"
   },
   {
    "duration": 24,
    "start_time": "2024-06-06T02:52:32.342Z"
   },
   {
    "duration": 493,
    "start_time": "2024-06-06T02:53:57.993Z"
   },
   {
    "duration": 112,
    "start_time": "2024-06-06T02:54:25.148Z"
   },
   {
    "duration": 31,
    "start_time": "2024-06-06T02:55:18.846Z"
   },
   {
    "duration": 23,
    "start_time": "2024-06-06T02:55:36.201Z"
   },
   {
    "duration": 26,
    "start_time": "2024-06-06T02:56:41.218Z"
   },
   {
    "duration": 21,
    "start_time": "2024-06-06T02:56:44.116Z"
   },
   {
    "duration": 17,
    "start_time": "2024-06-06T02:56:54.981Z"
   },
   {
    "duration": 24,
    "start_time": "2024-06-06T02:59:13.641Z"
   },
   {
    "duration": 242,
    "start_time": "2024-06-06T02:59:22.876Z"
   },
   {
    "duration": 1464,
    "start_time": "2024-06-06T02:59:40.123Z"
   },
   {
    "duration": 22,
    "start_time": "2024-06-06T02:59:41.591Z"
   },
   {
    "duration": 38,
    "start_time": "2024-06-06T02:59:41.616Z"
   },
   {
    "duration": 27,
    "start_time": "2024-06-06T02:59:41.658Z"
   },
   {
    "duration": 45,
    "start_time": "2024-06-06T02:59:41.688Z"
   },
   {
    "duration": 8,
    "start_time": "2024-06-06T02:59:41.736Z"
   },
   {
    "duration": 4,
    "start_time": "2024-06-06T02:59:41.750Z"
   },
   {
    "duration": 9,
    "start_time": "2024-06-06T02:59:41.758Z"
   },
   {
    "duration": 56,
    "start_time": "2024-06-06T02:59:41.770Z"
   },
   {
    "duration": 4,
    "start_time": "2024-06-06T02:59:41.834Z"
   },
   {
    "duration": 11,
    "start_time": "2024-06-06T02:59:41.842Z"
   },
   {
    "duration": 14,
    "start_time": "2024-06-06T02:59:41.856Z"
   },
   {
    "duration": 52,
    "start_time": "2024-06-06T02:59:41.873Z"
   },
   {
    "duration": 8,
    "start_time": "2024-06-06T02:59:41.928Z"
   },
   {
    "duration": 8,
    "start_time": "2024-06-06T02:59:41.939Z"
   },
   {
    "duration": 9,
    "start_time": "2024-06-06T02:59:41.950Z"
   },
   {
    "duration": 61,
    "start_time": "2024-06-06T02:59:41.963Z"
   },
   {
    "duration": 14,
    "start_time": "2024-06-06T02:59:42.027Z"
   },
   {
    "duration": 20,
    "start_time": "2024-06-06T02:59:42.044Z"
   },
   {
    "duration": 57,
    "start_time": "2024-06-06T02:59:42.068Z"
   },
   {
    "duration": 625,
    "start_time": "2024-06-06T02:59:42.128Z"
   },
   {
    "duration": 25,
    "start_time": "2024-06-06T02:59:42.757Z"
   },
   {
    "duration": 508,
    "start_time": "2024-06-06T02:59:42.785Z"
   },
   {
    "duration": 0,
    "start_time": "2024-06-06T02:59:43.297Z"
   },
   {
    "duration": 0,
    "start_time": "2024-06-06T02:59:43.298Z"
   },
   {
    "duration": 0,
    "start_time": "2024-06-06T02:59:43.300Z"
   },
   {
    "duration": 0,
    "start_time": "2024-06-06T02:59:43.302Z"
   },
   {
    "duration": 0,
    "start_time": "2024-06-06T02:59:43.303Z"
   },
   {
    "duration": 0,
    "start_time": "2024-06-06T02:59:43.323Z"
   },
   {
    "duration": 0,
    "start_time": "2024-06-06T02:59:43.328Z"
   },
   {
    "duration": 0,
    "start_time": "2024-06-06T02:59:43.330Z"
   },
   {
    "duration": 0,
    "start_time": "2024-06-06T02:59:43.332Z"
   },
   {
    "duration": 0,
    "start_time": "2024-06-06T02:59:43.334Z"
   },
   {
    "duration": 0,
    "start_time": "2024-06-06T02:59:43.336Z"
   },
   {
    "duration": 0,
    "start_time": "2024-06-06T02:59:43.339Z"
   },
   {
    "duration": 0,
    "start_time": "2024-06-06T02:59:43.341Z"
   },
   {
    "duration": 0,
    "start_time": "2024-06-06T02:59:43.343Z"
   },
   {
    "duration": 0,
    "start_time": "2024-06-06T02:59:43.344Z"
   },
   {
    "duration": 0,
    "start_time": "2024-06-06T02:59:43.346Z"
   },
   {
    "duration": 0,
    "start_time": "2024-06-06T02:59:43.349Z"
   },
   {
    "duration": 0,
    "start_time": "2024-06-06T02:59:43.351Z"
   },
   {
    "duration": 0,
    "start_time": "2024-06-06T02:59:43.353Z"
   },
   {
    "duration": 0,
    "start_time": "2024-06-06T02:59:43.355Z"
   },
   {
    "duration": 20,
    "start_time": "2024-06-06T03:00:37.083Z"
   },
   {
    "duration": 943,
    "start_time": "2024-06-06T03:00:37.729Z"
   },
   {
    "duration": 25,
    "start_time": "2024-06-06T03:01:58.500Z"
   },
   {
    "duration": 28,
    "start_time": "2024-06-06T03:02:25.388Z"
   },
   {
    "duration": 109,
    "start_time": "2024-06-06T03:05:26.481Z"
   },
   {
    "duration": 1391,
    "start_time": "2024-06-06T03:05:42.109Z"
   },
   {
    "duration": 21,
    "start_time": "2024-06-06T03:05:43.507Z"
   },
   {
    "duration": 33,
    "start_time": "2024-06-06T03:05:43.531Z"
   },
   {
    "duration": 25,
    "start_time": "2024-06-06T03:05:43.568Z"
   },
   {
    "duration": 17,
    "start_time": "2024-06-06T03:05:43.624Z"
   },
   {
    "duration": 8,
    "start_time": "2024-06-06T03:05:43.645Z"
   },
   {
    "duration": 4,
    "start_time": "2024-06-06T03:05:43.657Z"
   },
   {
    "duration": 9,
    "start_time": "2024-06-06T03:05:43.665Z"
   },
   {
    "duration": 53,
    "start_time": "2024-06-06T03:05:43.677Z"
   },
   {
    "duration": 5,
    "start_time": "2024-06-06T03:05:43.736Z"
   },
   {
    "duration": 16,
    "start_time": "2024-06-06T03:05:43.744Z"
   },
   {
    "duration": 12,
    "start_time": "2024-06-06T03:05:43.763Z"
   },
   {
    "duration": 50,
    "start_time": "2024-06-06T03:05:43.778Z"
   },
   {
    "duration": 7,
    "start_time": "2024-06-06T03:05:43.832Z"
   },
   {
    "duration": 7,
    "start_time": "2024-06-06T03:05:43.843Z"
   },
   {
    "duration": 10,
    "start_time": "2024-06-06T03:05:43.853Z"
   },
   {
    "duration": 64,
    "start_time": "2024-06-06T03:05:43.866Z"
   },
   {
    "duration": 14,
    "start_time": "2024-06-06T03:05:43.933Z"
   },
   {
    "duration": 22,
    "start_time": "2024-06-06T03:05:43.950Z"
   },
   {
    "duration": 57,
    "start_time": "2024-06-06T03:05:43.975Z"
   },
   {
    "duration": 649,
    "start_time": "2024-06-06T03:05:44.037Z"
   },
   {
    "duration": 45,
    "start_time": "2024-06-06T03:05:44.689Z"
   },
   {
    "duration": 1264,
    "start_time": "2024-06-06T03:05:44.737Z"
   },
   {
    "duration": 0,
    "start_time": "2024-06-06T03:05:46.005Z"
   },
   {
    "duration": 0,
    "start_time": "2024-06-06T03:05:46.009Z"
   },
   {
    "duration": 0,
    "start_time": "2024-06-06T03:05:46.022Z"
   },
   {
    "duration": 0,
    "start_time": "2024-06-06T03:05:46.024Z"
   },
   {
    "duration": 0,
    "start_time": "2024-06-06T03:05:46.027Z"
   },
   {
    "duration": 0,
    "start_time": "2024-06-06T03:05:46.029Z"
   },
   {
    "duration": 0,
    "start_time": "2024-06-06T03:05:46.031Z"
   },
   {
    "duration": 0,
    "start_time": "2024-06-06T03:05:46.032Z"
   },
   {
    "duration": 0,
    "start_time": "2024-06-06T03:05:46.034Z"
   },
   {
    "duration": 0,
    "start_time": "2024-06-06T03:05:46.036Z"
   },
   {
    "duration": 0,
    "start_time": "2024-06-06T03:05:46.040Z"
   },
   {
    "duration": 0,
    "start_time": "2024-06-06T03:05:46.043Z"
   },
   {
    "duration": 0,
    "start_time": "2024-06-06T03:05:46.046Z"
   },
   {
    "duration": 0,
    "start_time": "2024-06-06T03:05:46.048Z"
   },
   {
    "duration": 0,
    "start_time": "2024-06-06T03:05:46.051Z"
   },
   {
    "duration": 0,
    "start_time": "2024-06-06T03:05:46.055Z"
   },
   {
    "duration": 0,
    "start_time": "2024-06-06T03:05:46.057Z"
   },
   {
    "duration": 1,
    "start_time": "2024-06-06T03:05:46.124Z"
   },
   {
    "duration": 33,
    "start_time": "2024-06-06T03:06:59.111Z"
   },
   {
    "duration": 15,
    "start_time": "2024-06-06T03:11:59.415Z"
   },
   {
    "duration": 185,
    "start_time": "2024-06-06T03:12:27.418Z"
   },
   {
    "duration": 64,
    "start_time": "2024-06-06T03:12:51.723Z"
   },
   {
    "duration": 27,
    "start_time": "2024-06-06T03:13:09.000Z"
   },
   {
    "duration": 607,
    "start_time": "2024-06-06T03:14:45.945Z"
   },
   {
    "duration": 1557,
    "start_time": "2024-06-06T03:16:58.266Z"
   },
   {
    "duration": 27,
    "start_time": "2024-06-06T03:16:59.828Z"
   },
   {
    "duration": 37,
    "start_time": "2024-06-06T03:16:59.858Z"
   },
   {
    "duration": 37,
    "start_time": "2024-06-06T03:16:59.923Z"
   },
   {
    "duration": 22,
    "start_time": "2024-06-06T03:16:59.963Z"
   },
   {
    "duration": 36,
    "start_time": "2024-06-06T03:16:59.989Z"
   },
   {
    "duration": 5,
    "start_time": "2024-06-06T03:17:00.029Z"
   },
   {
    "duration": 9,
    "start_time": "2024-06-06T03:17:00.037Z"
   },
   {
    "duration": 8,
    "start_time": "2024-06-06T03:17:00.050Z"
   },
   {
    "duration": 4,
    "start_time": "2024-06-06T03:17:00.065Z"
   },
   {
    "duration": 64,
    "start_time": "2024-06-06T03:17:00.072Z"
   },
   {
    "duration": 15,
    "start_time": "2024-06-06T03:17:00.140Z"
   },
   {
    "duration": 8,
    "start_time": "2024-06-06T03:17:00.160Z"
   },
   {
    "duration": 55,
    "start_time": "2024-06-06T03:17:00.172Z"
   },
   {
    "duration": 11,
    "start_time": "2024-06-06T03:17:00.231Z"
   },
   {
    "duration": 9,
    "start_time": "2024-06-06T03:17:00.246Z"
   },
   {
    "duration": 13,
    "start_time": "2024-06-06T03:17:00.259Z"
   },
   {
    "duration": 53,
    "start_time": "2024-06-06T03:17:00.274Z"
   },
   {
    "duration": 20,
    "start_time": "2024-06-06T03:17:00.331Z"
   },
   {
    "duration": 19,
    "start_time": "2024-06-06T03:17:00.354Z"
   },
   {
    "duration": 647,
    "start_time": "2024-06-06T03:17:00.376Z"
   },
   {
    "duration": 28,
    "start_time": "2024-06-06T03:17:01.026Z"
   },
   {
    "duration": 679,
    "start_time": "2024-06-06T03:17:01.057Z"
   },
   {
    "duration": 8,
    "start_time": "2024-06-06T03:17:01.739Z"
   },
   {
    "duration": 0,
    "start_time": "2024-06-06T03:17:01.753Z"
   },
   {
    "duration": 0,
    "start_time": "2024-06-06T03:17:01.755Z"
   },
   {
    "duration": 0,
    "start_time": "2024-06-06T03:17:01.758Z"
   },
   {
    "duration": 0,
    "start_time": "2024-06-06T03:17:01.761Z"
   },
   {
    "duration": 0,
    "start_time": "2024-06-06T03:17:01.763Z"
   },
   {
    "duration": 0,
    "start_time": "2024-06-06T03:17:01.766Z"
   },
   {
    "duration": 0,
    "start_time": "2024-06-06T03:17:01.769Z"
   },
   {
    "duration": 0,
    "start_time": "2024-06-06T03:17:01.771Z"
   },
   {
    "duration": 0,
    "start_time": "2024-06-06T03:17:01.822Z"
   },
   {
    "duration": 0,
    "start_time": "2024-06-06T03:17:01.825Z"
   },
   {
    "duration": 0,
    "start_time": "2024-06-06T03:17:01.828Z"
   },
   {
    "duration": 0,
    "start_time": "2024-06-06T03:17:01.831Z"
   },
   {
    "duration": 0,
    "start_time": "2024-06-06T03:17:01.834Z"
   },
   {
    "duration": 0,
    "start_time": "2024-06-06T03:17:01.837Z"
   },
   {
    "duration": 0,
    "start_time": "2024-06-06T03:17:01.840Z"
   },
   {
    "duration": 0,
    "start_time": "2024-06-06T03:17:01.843Z"
   },
   {
    "duration": 0,
    "start_time": "2024-06-06T03:17:01.846Z"
   },
   {
    "duration": 0,
    "start_time": "2024-06-06T03:17:01.849Z"
   },
   {
    "duration": 24,
    "start_time": "2024-06-06T03:17:19.540Z"
   },
   {
    "duration": 31,
    "start_time": "2024-06-06T03:17:49.314Z"
   },
   {
    "duration": 18,
    "start_time": "2024-06-06T03:18:24.452Z"
   },
   {
    "duration": 1214,
    "start_time": "2024-06-06T03:19:10.067Z"
   },
   {
    "duration": 691,
    "start_time": "2024-06-06T03:20:50.836Z"
   },
   {
    "duration": 649,
    "start_time": "2024-06-06T03:21:42.241Z"
   },
   {
    "duration": 479,
    "start_time": "2024-06-06T03:22:18.975Z"
   },
   {
    "duration": 350,
    "start_time": "2024-06-06T03:22:40.466Z"
   },
   {
    "duration": 338,
    "start_time": "2024-06-06T03:25:28.230Z"
   },
   {
    "duration": 413,
    "start_time": "2024-06-06T03:25:36.312Z"
   },
   {
    "duration": 1303,
    "start_time": "2024-06-06T03:25:47.574Z"
   },
   {
    "duration": 18,
    "start_time": "2024-06-06T03:25:48.882Z"
   },
   {
    "duration": 45,
    "start_time": "2024-06-06T03:25:48.903Z"
   },
   {
    "duration": 24,
    "start_time": "2024-06-06T03:25:48.952Z"
   },
   {
    "duration": 46,
    "start_time": "2024-06-06T03:25:48.980Z"
   },
   {
    "duration": 8,
    "start_time": "2024-06-06T03:25:49.029Z"
   },
   {
    "duration": 5,
    "start_time": "2024-06-06T03:25:49.040Z"
   },
   {
    "duration": 9,
    "start_time": "2024-06-06T03:25:49.048Z"
   },
   {
    "duration": 62,
    "start_time": "2024-06-06T03:25:49.061Z"
   },
   {
    "duration": 7,
    "start_time": "2024-06-06T03:25:49.132Z"
   },
   {
    "duration": 12,
    "start_time": "2024-06-06T03:25:49.143Z"
   },
   {
    "duration": 11,
    "start_time": "2024-06-06T03:25:49.159Z"
   },
   {
    "duration": 50,
    "start_time": "2024-06-06T03:25:49.174Z"
   },
   {
    "duration": 7,
    "start_time": "2024-06-06T03:25:49.228Z"
   },
   {
    "duration": 8,
    "start_time": "2024-06-06T03:25:49.239Z"
   },
   {
    "duration": 12,
    "start_time": "2024-06-06T03:25:49.252Z"
   },
   {
    "duration": 61,
    "start_time": "2024-06-06T03:25:49.268Z"
   },
   {
    "duration": 13,
    "start_time": "2024-06-06T03:25:49.332Z"
   },
   {
    "duration": 22,
    "start_time": "2024-06-06T03:25:49.348Z"
   },
   {
    "duration": 54,
    "start_time": "2024-06-06T03:25:49.373Z"
   },
   {
    "duration": 673,
    "start_time": "2024-06-06T03:25:49.431Z"
   },
   {
    "duration": 20,
    "start_time": "2024-06-06T03:25:50.108Z"
   },
   {
    "duration": 694,
    "start_time": "2024-06-06T03:25:50.130Z"
   },
   {
    "duration": 345,
    "start_time": "2024-06-06T03:25:50.827Z"
   },
   {
    "duration": 10,
    "start_time": "2024-06-06T03:25:51.179Z"
   },
   {
    "duration": 704,
    "start_time": "2024-06-06T03:25:51.193Z"
   },
   {
    "duration": 0,
    "start_time": "2024-06-06T03:25:51.901Z"
   },
   {
    "duration": 0,
    "start_time": "2024-06-06T03:25:51.903Z"
   },
   {
    "duration": 0,
    "start_time": "2024-06-06T03:25:51.906Z"
   },
   {
    "duration": 0,
    "start_time": "2024-06-06T03:25:51.908Z"
   },
   {
    "duration": 0,
    "start_time": "2024-06-06T03:25:51.924Z"
   },
   {
    "duration": 0,
    "start_time": "2024-06-06T03:25:51.926Z"
   },
   {
    "duration": 0,
    "start_time": "2024-06-06T03:25:51.929Z"
   },
   {
    "duration": 0,
    "start_time": "2024-06-06T03:25:51.932Z"
   },
   {
    "duration": 0,
    "start_time": "2024-06-06T03:25:51.935Z"
   },
   {
    "duration": 0,
    "start_time": "2024-06-06T03:25:51.937Z"
   },
   {
    "duration": 1,
    "start_time": "2024-06-06T03:25:51.941Z"
   },
   {
    "duration": 0,
    "start_time": "2024-06-06T03:25:51.944Z"
   },
   {
    "duration": 0,
    "start_time": "2024-06-06T03:25:51.946Z"
   },
   {
    "duration": 0,
    "start_time": "2024-06-06T03:25:51.948Z"
   },
   {
    "duration": 0,
    "start_time": "2024-06-06T03:25:51.951Z"
   },
   {
    "duration": 0,
    "start_time": "2024-06-06T03:25:51.953Z"
   },
   {
    "duration": 14,
    "start_time": "2024-06-06T03:26:45.429Z"
   },
   {
    "duration": 608,
    "start_time": "2024-06-06T03:26:46.477Z"
   },
   {
    "duration": 14,
    "start_time": "2024-06-06T03:26:51.450Z"
   },
   {
    "duration": 659,
    "start_time": "2024-06-06T03:26:51.870Z"
   },
   {
    "duration": 1321,
    "start_time": "2024-06-06T03:27:02.056Z"
   },
   {
    "duration": 21,
    "start_time": "2024-06-06T03:27:03.382Z"
   },
   {
    "duration": 39,
    "start_time": "2024-06-06T03:27:03.413Z"
   },
   {
    "duration": 26,
    "start_time": "2024-06-06T03:27:03.457Z"
   },
   {
    "duration": 46,
    "start_time": "2024-06-06T03:27:03.487Z"
   },
   {
    "duration": 7,
    "start_time": "2024-06-06T03:27:03.536Z"
   },
   {
    "duration": 4,
    "start_time": "2024-06-06T03:27:03.547Z"
   },
   {
    "duration": 10,
    "start_time": "2024-06-06T03:27:03.554Z"
   },
   {
    "duration": 57,
    "start_time": "2024-06-06T03:27:03.567Z"
   },
   {
    "duration": 4,
    "start_time": "2024-06-06T03:27:03.631Z"
   },
   {
    "duration": 11,
    "start_time": "2024-06-06T03:27:03.638Z"
   },
   {
    "duration": 11,
    "start_time": "2024-06-06T03:27:03.655Z"
   },
   {
    "duration": 55,
    "start_time": "2024-06-06T03:27:03.669Z"
   },
   {
    "duration": 8,
    "start_time": "2024-06-06T03:27:03.727Z"
   },
   {
    "duration": 9,
    "start_time": "2024-06-06T03:27:03.738Z"
   },
   {
    "duration": 9,
    "start_time": "2024-06-06T03:27:03.751Z"
   },
   {
    "duration": 62,
    "start_time": "2024-06-06T03:27:03.763Z"
   },
   {
    "duration": 13,
    "start_time": "2024-06-06T03:27:03.828Z"
   },
   {
    "duration": 22,
    "start_time": "2024-06-06T03:27:03.844Z"
   },
   {
    "duration": 53,
    "start_time": "2024-06-06T03:27:03.870Z"
   },
   {
    "duration": 585,
    "start_time": "2024-06-06T03:27:03.925Z"
   },
   {
    "duration": 19,
    "start_time": "2024-06-06T03:27:04.522Z"
   },
   {
    "duration": 617,
    "start_time": "2024-06-06T03:27:04.544Z"
   },
   {
    "duration": 234,
    "start_time": "2024-06-06T03:27:05.164Z"
   },
   {
    "duration": 24,
    "start_time": "2024-06-06T03:27:05.401Z"
   },
   {
    "duration": 10,
    "start_time": "2024-06-06T03:27:05.427Z"
   },
   {
    "duration": 7,
    "start_time": "2024-06-06T03:27:05.440Z"
   },
   {
    "duration": 320,
    "start_time": "2024-06-06T03:27:05.455Z"
   },
   {
    "duration": 17,
    "start_time": "2024-06-06T03:27:05.779Z"
   },
   {
    "duration": 186,
    "start_time": "2024-06-06T03:27:05.799Z"
   },
   {
    "duration": 8,
    "start_time": "2024-06-06T03:27:05.988Z"
   },
   {
    "duration": 26,
    "start_time": "2024-06-06T03:27:05.999Z"
   },
   {
    "duration": 8,
    "start_time": "2024-06-06T03:27:06.028Z"
   },
   {
    "duration": 229,
    "start_time": "2024-06-06T03:27:06.039Z"
   },
   {
    "duration": 7,
    "start_time": "2024-06-06T03:27:06.271Z"
   },
   {
    "duration": 10,
    "start_time": "2024-06-06T03:27:06.282Z"
   },
   {
    "duration": 38,
    "start_time": "2024-06-06T03:27:06.295Z"
   },
   {
    "duration": 13,
    "start_time": "2024-06-06T03:27:06.336Z"
   },
   {
    "duration": 9,
    "start_time": "2024-06-06T03:27:06.352Z"
   },
   {
    "duration": 13,
    "start_time": "2024-06-06T03:27:06.364Z"
   },
   {
    "duration": 51,
    "start_time": "2024-06-06T03:27:06.380Z"
   },
   {
    "duration": 14,
    "start_time": "2024-06-06T03:27:06.434Z"
   },
   {
    "duration": 1380,
    "start_time": "2024-06-06T03:30:58.672Z"
   },
   {
    "duration": 19,
    "start_time": "2024-06-06T03:31:00.057Z"
   },
   {
    "duration": 55,
    "start_time": "2024-06-06T03:31:00.080Z"
   },
   {
    "duration": 25,
    "start_time": "2024-06-06T03:31:00.140Z"
   },
   {
    "duration": 16,
    "start_time": "2024-06-06T03:31:00.168Z"
   },
   {
    "duration": 37,
    "start_time": "2024-06-06T03:31:00.188Z"
   },
   {
    "duration": 5,
    "start_time": "2024-06-06T03:31:00.230Z"
   },
   {
    "duration": 8,
    "start_time": "2024-06-06T03:31:00.239Z"
   },
   {
    "duration": 8,
    "start_time": "2024-06-06T03:31:00.250Z"
   },
   {
    "duration": 5,
    "start_time": "2024-06-06T03:31:00.264Z"
   },
   {
    "duration": 14,
    "start_time": "2024-06-06T03:31:00.324Z"
   },
   {
    "duration": 11,
    "start_time": "2024-06-06T03:31:00.341Z"
   },
   {
    "duration": 8,
    "start_time": "2024-06-06T03:31:00.355Z"
   },
   {
    "duration": 7,
    "start_time": "2024-06-06T03:31:00.367Z"
   },
   {
    "duration": 9,
    "start_time": "2024-06-06T03:31:00.424Z"
   },
   {
    "duration": 10,
    "start_time": "2024-06-06T03:31:00.436Z"
   },
   {
    "duration": 15,
    "start_time": "2024-06-06T03:31:00.450Z"
   },
   {
    "duration": 53,
    "start_time": "2024-06-06T03:31:00.470Z"
   },
   {
    "duration": 27,
    "start_time": "2024-06-06T03:31:00.526Z"
   },
   {
    "duration": 17,
    "start_time": "2024-06-06T03:31:00.556Z"
   },
   {
    "duration": 677,
    "start_time": "2024-06-06T03:31:00.576Z"
   },
   {
    "duration": 19,
    "start_time": "2024-06-06T03:31:01.257Z"
   },
   {
    "duration": 689,
    "start_time": "2024-06-06T03:31:01.280Z"
   },
   {
    "duration": 244,
    "start_time": "2024-06-06T03:31:01.974Z"
   },
   {
    "duration": 13,
    "start_time": "2024-06-06T03:31:02.225Z"
   },
   {
    "duration": 10,
    "start_time": "2024-06-06T03:31:02.242Z"
   },
   {
    "duration": 7,
    "start_time": "2024-06-06T03:31:02.256Z"
   },
   {
    "duration": 321,
    "start_time": "2024-06-06T03:31:02.271Z"
   },
   {
    "duration": 19,
    "start_time": "2024-06-06T03:31:02.595Z"
   },
   {
    "duration": 211,
    "start_time": "2024-06-06T03:31:02.624Z"
   },
   {
    "duration": 8,
    "start_time": "2024-06-06T03:31:02.839Z"
   },
   {
    "duration": 13,
    "start_time": "2024-06-06T03:31:02.850Z"
   },
   {
    "duration": 10,
    "start_time": "2024-06-06T03:31:02.869Z"
   },
   {
    "duration": 249,
    "start_time": "2024-06-06T03:31:02.882Z"
   },
   {
    "duration": 7,
    "start_time": "2024-06-06T03:31:03.134Z"
   },
   {
    "duration": 10,
    "start_time": "2024-06-06T03:31:03.144Z"
   },
   {
    "duration": 13,
    "start_time": "2024-06-06T03:31:03.157Z"
   },
   {
    "duration": 55,
    "start_time": "2024-06-06T03:31:03.173Z"
   },
   {
    "duration": 9,
    "start_time": "2024-06-06T03:31:03.231Z"
   },
   {
    "duration": 13,
    "start_time": "2024-06-06T03:31:03.243Z"
   },
   {
    "duration": 9,
    "start_time": "2024-06-06T03:31:03.260Z"
   },
   {
    "duration": 57,
    "start_time": "2024-06-06T03:31:03.272Z"
   },
   {
    "duration": 1312,
    "start_time": "2024-06-06T03:36:56.759Z"
   },
   {
    "duration": 21,
    "start_time": "2024-06-06T03:36:58.075Z"
   },
   {
    "duration": 45,
    "start_time": "2024-06-06T03:36:58.098Z"
   },
   {
    "duration": 27,
    "start_time": "2024-06-06T03:36:58.147Z"
   },
   {
    "duration": 16,
    "start_time": "2024-06-06T03:36:58.178Z"
   },
   {
    "duration": 10,
    "start_time": "2024-06-06T03:36:58.224Z"
   },
   {
    "duration": 4,
    "start_time": "2024-06-06T03:36:58.237Z"
   },
   {
    "duration": 9,
    "start_time": "2024-06-06T03:36:58.245Z"
   },
   {
    "duration": 8,
    "start_time": "2024-06-06T03:36:58.258Z"
   },
   {
    "duration": 4,
    "start_time": "2024-06-06T03:36:58.322Z"
   },
   {
    "duration": 12,
    "start_time": "2024-06-06T03:36:58.330Z"
   },
   {
    "duration": 12,
    "start_time": "2024-06-06T03:36:58.345Z"
   },
   {
    "duration": 8,
    "start_time": "2024-06-06T03:36:58.360Z"
   },
   {
    "duration": 49,
    "start_time": "2024-06-06T03:36:58.376Z"
   },
   {
    "duration": 7,
    "start_time": "2024-06-06T03:36:58.429Z"
   },
   {
    "duration": 9,
    "start_time": "2024-06-06T03:36:58.440Z"
   },
   {
    "duration": 13,
    "start_time": "2024-06-06T03:36:58.453Z"
   },
   {
    "duration": 63,
    "start_time": "2024-06-06T03:36:58.469Z"
   },
   {
    "duration": 22,
    "start_time": "2024-06-06T03:36:58.536Z"
   },
   {
    "duration": 18,
    "start_time": "2024-06-06T03:36:58.562Z"
   },
   {
    "duration": 626,
    "start_time": "2024-06-06T03:36:58.584Z"
   },
   {
    "duration": 22,
    "start_time": "2024-06-06T03:36:59.213Z"
   },
   {
    "duration": 685,
    "start_time": "2024-06-06T03:36:59.238Z"
   },
   {
    "duration": 230,
    "start_time": "2024-06-06T03:36:59.927Z"
   },
   {
    "duration": 10,
    "start_time": "2024-06-06T03:37:00.160Z"
   },
   {
    "duration": 9,
    "start_time": "2024-06-06T03:37:00.172Z"
   },
   {
    "duration": 6,
    "start_time": "2024-06-06T03:37:00.184Z"
   },
   {
    "duration": 285,
    "start_time": "2024-06-06T03:37:00.229Z"
   },
   {
    "duration": 18,
    "start_time": "2024-06-06T03:37:00.517Z"
   },
   {
    "duration": 195,
    "start_time": "2024-06-06T03:37:00.537Z"
   },
   {
    "duration": 10,
    "start_time": "2024-06-06T03:37:00.735Z"
   },
   {
    "duration": 14,
    "start_time": "2024-06-06T03:37:00.748Z"
   },
   {
    "duration": 9,
    "start_time": "2024-06-06T03:37:00.766Z"
   },
   {
    "duration": 256,
    "start_time": "2024-06-06T03:37:00.777Z"
   },
   {
    "duration": 8,
    "start_time": "2024-06-06T03:37:01.035Z"
   },
   {
    "duration": 10,
    "start_time": "2024-06-06T03:37:01.046Z"
   },
   {
    "duration": 13,
    "start_time": "2024-06-06T03:37:01.059Z"
   },
   {
    "duration": 58,
    "start_time": "2024-06-06T03:37:01.076Z"
   },
   {
    "duration": 10,
    "start_time": "2024-06-06T03:37:01.138Z"
   },
   {
    "duration": 18,
    "start_time": "2024-06-06T03:37:01.154Z"
   },
   {
    "duration": 49,
    "start_time": "2024-06-06T03:37:01.175Z"
   },
   {
    "duration": 16,
    "start_time": "2024-06-06T03:37:01.227Z"
   },
   {
    "duration": 1315,
    "start_time": "2024-06-07T01:57:34.466Z"
   },
   {
    "duration": 36,
    "start_time": "2024-06-07T01:57:35.791Z"
   },
   {
    "duration": 35,
    "start_time": "2024-06-07T01:57:35.832Z"
   },
   {
    "duration": 29,
    "start_time": "2024-06-07T01:57:35.870Z"
   },
   {
    "duration": 31,
    "start_time": "2024-06-07T01:57:35.902Z"
   },
   {
    "duration": 11,
    "start_time": "2024-06-07T01:57:35.939Z"
   },
   {
    "duration": 7,
    "start_time": "2024-06-07T01:57:35.953Z"
   },
   {
    "duration": 13,
    "start_time": "2024-06-07T01:57:35.963Z"
   },
   {
    "duration": 7,
    "start_time": "2024-06-07T01:57:35.979Z"
   },
   {
    "duration": 3,
    "start_time": "2024-06-07T01:57:35.993Z"
   },
   {
    "duration": 37,
    "start_time": "2024-06-07T01:57:35.999Z"
   },
   {
    "duration": 11,
    "start_time": "2024-06-07T01:57:36.039Z"
   },
   {
    "duration": 9,
    "start_time": "2024-06-07T01:57:36.053Z"
   },
   {
    "duration": 7,
    "start_time": "2024-06-07T01:57:36.064Z"
   },
   {
    "duration": 9,
    "start_time": "2024-06-07T01:57:36.078Z"
   },
   {
    "duration": 9,
    "start_time": "2024-06-07T01:57:36.094Z"
   },
   {
    "duration": 12,
    "start_time": "2024-06-07T01:57:36.132Z"
   },
   {
    "duration": 19,
    "start_time": "2024-06-07T01:57:36.146Z"
   },
   {
    "duration": 21,
    "start_time": "2024-06-07T01:57:36.170Z"
   },
   {
    "duration": 12,
    "start_time": "2024-06-07T01:57:36.195Z"
   },
   {
    "duration": 614,
    "start_time": "2024-06-07T01:57:36.231Z"
   },
   {
    "duration": 23,
    "start_time": "2024-06-07T01:57:36.851Z"
   },
   {
    "duration": 590,
    "start_time": "2024-06-07T01:57:36.878Z"
   },
   {
    "duration": 209,
    "start_time": "2024-06-07T01:57:37.471Z"
   },
   {
    "duration": 8,
    "start_time": "2024-06-07T01:57:37.682Z"
   },
   {
    "duration": 9,
    "start_time": "2024-06-07T01:57:37.693Z"
   },
   {
    "duration": 31,
    "start_time": "2024-06-07T01:57:37.706Z"
   },
   {
    "duration": 277,
    "start_time": "2024-06-07T01:57:37.754Z"
   },
   {
    "duration": 22,
    "start_time": "2024-06-07T01:57:38.037Z"
   },
   {
    "duration": 196,
    "start_time": "2024-06-07T01:57:38.062Z"
   },
   {
    "duration": 10,
    "start_time": "2024-06-07T01:57:38.261Z"
   },
   {
    "duration": 14,
    "start_time": "2024-06-07T01:57:38.274Z"
   },
   {
    "duration": 10,
    "start_time": "2024-06-07T01:57:38.292Z"
   },
   {
    "duration": 218,
    "start_time": "2024-06-07T01:57:38.307Z"
   },
   {
    "duration": 15,
    "start_time": "2024-06-07T01:57:38.535Z"
   },
   {
    "duration": 17,
    "start_time": "2024-06-07T01:57:38.557Z"
   },
   {
    "duration": 12,
    "start_time": "2024-06-07T01:57:38.579Z"
   },
   {
    "duration": 12,
    "start_time": "2024-06-07T01:57:38.594Z"
   },
   {
    "duration": 26,
    "start_time": "2024-06-07T01:57:38.611Z"
   },
   {
    "duration": 25,
    "start_time": "2024-06-07T01:57:38.640Z"
   },
   {
    "duration": 12,
    "start_time": "2024-06-07T01:57:38.669Z"
   },
   {
    "duration": 15,
    "start_time": "2024-06-07T01:57:38.685Z"
   },
   {
    "duration": 5213,
    "start_time": "2024-06-07T03:01:05.805Z"
   },
   {
    "duration": 31,
    "start_time": "2024-06-07T03:01:11.022Z"
   },
   {
    "duration": 34,
    "start_time": "2024-06-07T03:01:11.055Z"
   },
   {
    "duration": 26,
    "start_time": "2024-06-07T03:01:11.100Z"
   },
   {
    "duration": 19,
    "start_time": "2024-06-07T03:01:11.129Z"
   },
   {
    "duration": 8,
    "start_time": "2024-06-07T03:01:11.154Z"
   },
   {
    "duration": 39,
    "start_time": "2024-06-07T03:01:11.165Z"
   },
   {
    "duration": 9,
    "start_time": "2024-06-07T03:01:11.208Z"
   },
   {
    "duration": 8,
    "start_time": "2024-06-07T03:01:11.221Z"
   },
   {
    "duration": 5,
    "start_time": "2024-06-07T03:01:11.236Z"
   },
   {
    "duration": 59,
    "start_time": "2024-06-07T03:01:11.244Z"
   },
   {
    "duration": 11,
    "start_time": "2024-06-07T03:01:11.307Z"
   },
   {
    "duration": 7,
    "start_time": "2024-06-07T03:01:11.322Z"
   },
   {
    "duration": 7,
    "start_time": "2024-06-07T03:01:11.332Z"
   },
   {
    "duration": 9,
    "start_time": "2024-06-07T03:01:11.343Z"
   },
   {
    "duration": 56,
    "start_time": "2024-06-07T03:01:11.355Z"
   },
   {
    "duration": 11,
    "start_time": "2024-06-07T03:01:11.414Z"
   },
   {
    "duration": 12,
    "start_time": "2024-06-07T03:01:11.428Z"
   },
   {
    "duration": 61,
    "start_time": "2024-06-07T03:01:11.443Z"
   },
   {
    "duration": 14,
    "start_time": "2024-06-07T03:01:11.507Z"
   },
   {
    "duration": 604,
    "start_time": "2024-06-07T03:01:11.524Z"
   },
   {
    "duration": 16,
    "start_time": "2024-06-07T03:01:12.130Z"
   },
   {
    "duration": 612,
    "start_time": "2024-06-07T03:01:12.151Z"
   },
   {
    "duration": 234,
    "start_time": "2024-06-07T03:01:12.766Z"
   },
   {
    "duration": 11,
    "start_time": "2024-06-07T03:01:13.003Z"
   },
   {
    "duration": 13,
    "start_time": "2024-06-07T03:01:13.020Z"
   },
   {
    "duration": 6,
    "start_time": "2024-06-07T03:01:13.035Z"
   },
   {
    "duration": 305,
    "start_time": "2024-06-07T03:01:13.049Z"
   },
   {
    "duration": 19,
    "start_time": "2024-06-07T03:01:13.361Z"
   },
   {
    "duration": 208,
    "start_time": "2024-06-07T03:01:13.383Z"
   },
   {
    "duration": 10,
    "start_time": "2024-06-07T03:01:13.598Z"
   },
   {
    "duration": 12,
    "start_time": "2024-06-07T03:01:13.616Z"
   },
   {
    "duration": 9,
    "start_time": "2024-06-07T03:01:13.633Z"
   },
   {
    "duration": 226,
    "start_time": "2024-06-07T03:01:13.646Z"
   },
   {
    "duration": 8,
    "start_time": "2024-06-07T03:01:13.877Z"
   },
   {
    "duration": 23,
    "start_time": "2024-06-07T03:01:13.888Z"
   },
   {
    "duration": 12,
    "start_time": "2024-06-07T03:01:13.915Z"
   },
   {
    "duration": 14,
    "start_time": "2024-06-07T03:01:13.931Z"
   },
   {
    "duration": 52,
    "start_time": "2024-06-07T03:01:13.949Z"
   },
   {
    "duration": 15,
    "start_time": "2024-06-07T03:01:14.005Z"
   },
   {
    "duration": 11,
    "start_time": "2024-06-07T03:01:14.024Z"
   },
   {
    "duration": 111,
    "start_time": "2024-06-07T03:01:14.037Z"
   },
   {
    "duration": 19,
    "start_time": "2024-06-07T03:01:51.884Z"
   },
   {
    "duration": 1304,
    "start_time": "2024-06-07T03:01:56.519Z"
   },
   {
    "duration": 21,
    "start_time": "2024-06-07T03:02:01.730Z"
   },
   {
    "duration": 139,
    "start_time": "2024-06-07T03:02:29.477Z"
   },
   {
    "duration": 17,
    "start_time": "2024-06-07T03:02:38.314Z"
   },
   {
    "duration": 164,
    "start_time": "2024-06-07T03:02:43.359Z"
   },
   {
    "duration": 158,
    "start_time": "2024-06-07T03:02:45.654Z"
   },
   {
    "duration": 11,
    "start_time": "2024-06-07T03:02:54.050Z"
   },
   {
    "duration": 10,
    "start_time": "2024-06-07T03:03:26.777Z"
   },
   {
    "duration": 6,
    "start_time": "2024-06-07T03:03:41.986Z"
   },
   {
    "duration": 11,
    "start_time": "2024-06-07T03:03:45.571Z"
   },
   {
    "duration": 72,
    "start_time": "2024-06-07T03:03:57.563Z"
   },
   {
    "duration": 11,
    "start_time": "2024-06-07T03:04:04.152Z"
   },
   {
    "duration": 11,
    "start_time": "2024-06-07T03:05:04.223Z"
   },
   {
    "duration": 10,
    "start_time": "2024-06-07T03:05:11.544Z"
   },
   {
    "duration": 1143,
    "start_time": "2024-06-07T03:05:17.659Z"
   },
   {
    "duration": 12,
    "start_time": "2024-06-07T03:05:29.251Z"
   },
   {
    "duration": 10,
    "start_time": "2024-06-07T03:05:33.986Z"
   },
   {
    "duration": 9,
    "start_time": "2024-06-07T03:05:38.600Z"
   },
   {
    "duration": 9,
    "start_time": "2024-06-07T03:05:54.520Z"
   },
   {
    "duration": 207,
    "start_time": "2024-06-07T03:05:59.608Z"
   },
   {
    "duration": 8,
    "start_time": "2024-06-07T03:08:32.781Z"
   },
   {
    "duration": 20,
    "start_time": "2024-06-07T03:29:49.512Z"
   },
   {
    "duration": 17,
    "start_time": "2024-06-07T03:29:53.449Z"
   },
   {
    "duration": 9,
    "start_time": "2024-06-07T03:30:10.118Z"
   },
   {
    "duration": 189,
    "start_time": "2024-06-07T03:31:38.731Z"
   },
   {
    "duration": 25,
    "start_time": "2024-06-07T03:31:49.167Z"
   },
   {
    "duration": 207,
    "start_time": "2024-06-07T03:31:52.298Z"
   },
   {
    "duration": 316,
    "start_time": "2024-06-08T15:18:45.087Z"
   },
   {
    "duration": 4940,
    "start_time": "2024-06-08T15:18:52.050Z"
   },
   {
    "duration": 31,
    "start_time": "2024-06-08T15:18:56.993Z"
   },
   {
    "duration": 32,
    "start_time": "2024-06-08T15:18:57.026Z"
   },
   {
    "duration": 41,
    "start_time": "2024-06-08T15:18:57.062Z"
   },
   {
    "duration": 15,
    "start_time": "2024-06-08T15:18:57.107Z"
   },
   {
    "duration": 7,
    "start_time": "2024-06-08T15:18:57.125Z"
   },
   {
    "duration": 4,
    "start_time": "2024-06-08T15:18:57.136Z"
   },
   {
    "duration": 8,
    "start_time": "2024-06-08T15:18:57.143Z"
   },
   {
    "duration": 49,
    "start_time": "2024-06-08T15:18:57.155Z"
   },
   {
    "duration": 3,
    "start_time": "2024-06-08T15:18:57.211Z"
   },
   {
    "duration": 11,
    "start_time": "2024-06-08T15:18:57.217Z"
   },
   {
    "duration": 14,
    "start_time": "2024-06-08T15:18:57.231Z"
   },
   {
    "duration": 53,
    "start_time": "2024-06-08T15:18:57.248Z"
   },
   {
    "duration": 7,
    "start_time": "2024-06-08T15:18:57.304Z"
   },
   {
    "duration": 7,
    "start_time": "2024-06-08T15:18:57.315Z"
   },
   {
    "duration": 9,
    "start_time": "2024-06-08T15:18:57.325Z"
   },
   {
    "duration": 14,
    "start_time": "2024-06-08T15:18:57.337Z"
   },
   {
    "duration": 11,
    "start_time": "2024-06-08T15:18:57.401Z"
   },
   {
    "duration": 19,
    "start_time": "2024-06-08T15:18:57.415Z"
   },
   {
    "duration": 14,
    "start_time": "2024-06-08T15:18:57.437Z"
   },
   {
    "duration": 607,
    "start_time": "2024-06-08T15:18:57.454Z"
   },
   {
    "duration": 15,
    "start_time": "2024-06-08T15:18:58.065Z"
   },
   {
    "duration": 580,
    "start_time": "2024-06-08T15:18:58.082Z"
   },
   {
    "duration": 223,
    "start_time": "2024-06-08T15:18:58.666Z"
   },
   {
    "duration": 14,
    "start_time": "2024-06-08T15:18:58.893Z"
   },
   {
    "duration": 9,
    "start_time": "2024-06-08T15:18:58.910Z"
   },
   {
    "duration": 6,
    "start_time": "2024-06-08T15:18:58.922Z"
   },
   {
    "duration": 294,
    "start_time": "2024-06-08T15:18:58.936Z"
   },
   {
    "duration": 11,
    "start_time": "2024-06-08T15:18:59.233Z"
   },
   {
    "duration": 701,
    "start_time": "2024-06-08T15:18:59.247Z"
   },
   {
    "duration": 0,
    "start_time": "2024-06-08T15:18:59.952Z"
   },
   {
    "duration": 0,
    "start_time": "2024-06-08T15:18:59.954Z"
   },
   {
    "duration": 0,
    "start_time": "2024-06-08T15:18:59.958Z"
   },
   {
    "duration": 0,
    "start_time": "2024-06-08T15:18:59.960Z"
   },
   {
    "duration": 0,
    "start_time": "2024-06-08T15:18:59.962Z"
   },
   {
    "duration": 0,
    "start_time": "2024-06-08T15:18:59.965Z"
   },
   {
    "duration": 0,
    "start_time": "2024-06-08T15:18:59.969Z"
   },
   {
    "duration": 0,
    "start_time": "2024-06-08T15:19:00.000Z"
   },
   {
    "duration": 0,
    "start_time": "2024-06-08T15:19:00.004Z"
   },
   {
    "duration": 0,
    "start_time": "2024-06-08T15:19:00.005Z"
   },
   {
    "duration": 0,
    "start_time": "2024-06-08T15:19:00.007Z"
   },
   {
    "duration": 0,
    "start_time": "2024-06-08T15:19:00.009Z"
   },
   {
    "duration": 30,
    "start_time": "2024-06-08T15:20:46.740Z"
   },
   {
    "duration": 195,
    "start_time": "2024-06-08T15:21:02.315Z"
   },
   {
    "duration": 10,
    "start_time": "2024-06-08T15:21:18.638Z"
   },
   {
    "duration": 164,
    "start_time": "2024-06-08T15:21:20.556Z"
   },
   {
    "duration": 154,
    "start_time": "2024-06-08T15:21:41.336Z"
   },
   {
    "duration": 181,
    "start_time": "2024-06-08T15:21:46.822Z"
   },
   {
    "duration": 164,
    "start_time": "2024-06-08T15:21:53.041Z"
   },
   {
    "duration": 195,
    "start_time": "2024-06-08T15:24:44.525Z"
   },
   {
    "duration": 158,
    "start_time": "2024-06-08T15:25:00.924Z"
   },
   {
    "duration": 169,
    "start_time": "2024-06-08T15:25:08.616Z"
   },
   {
    "duration": 170,
    "start_time": "2024-06-08T15:25:20.530Z"
   },
   {
    "duration": 209,
    "start_time": "2024-06-08T15:25:29.380Z"
   },
   {
    "duration": 182,
    "start_time": "2024-06-08T15:25:46.049Z"
   },
   {
    "duration": 192,
    "start_time": "2024-06-08T15:25:55.953Z"
   },
   {
    "duration": 188,
    "start_time": "2024-06-08T15:26:05.199Z"
   },
   {
    "duration": 290,
    "start_time": "2024-06-08T15:26:14.071Z"
   },
   {
    "duration": 188,
    "start_time": "2024-06-08T15:26:23.290Z"
   },
   {
    "duration": 189,
    "start_time": "2024-06-08T15:26:30.185Z"
   },
   {
    "duration": 166,
    "start_time": "2024-06-08T15:27:24.921Z"
   },
   {
    "duration": 1351,
    "start_time": "2024-06-08T15:28:25.306Z"
   },
   {
    "duration": 17,
    "start_time": "2024-06-08T15:28:26.660Z"
   },
   {
    "duration": 45,
    "start_time": "2024-06-08T15:28:26.681Z"
   },
   {
    "duration": 25,
    "start_time": "2024-06-08T15:28:26.730Z"
   },
   {
    "duration": 48,
    "start_time": "2024-06-08T15:28:26.758Z"
   },
   {
    "duration": 8,
    "start_time": "2024-06-08T15:28:26.812Z"
   },
   {
    "duration": 5,
    "start_time": "2024-06-08T15:28:26.823Z"
   },
   {
    "duration": 7,
    "start_time": "2024-06-08T15:28:26.832Z"
   },
   {
    "duration": 8,
    "start_time": "2024-06-08T15:28:26.842Z"
   },
   {
    "duration": 7,
    "start_time": "2024-06-08T15:28:26.901Z"
   },
   {
    "duration": 11,
    "start_time": "2024-06-08T15:28:26.911Z"
   },
   {
    "duration": 11,
    "start_time": "2024-06-08T15:28:26.925Z"
   },
   {
    "duration": 12,
    "start_time": "2024-06-08T15:28:26.939Z"
   },
   {
    "duration": 7,
    "start_time": "2024-06-08T15:28:26.954Z"
   },
   {
    "duration": 8,
    "start_time": "2024-06-08T15:28:27.004Z"
   },
   {
    "duration": 10,
    "start_time": "2024-06-08T15:28:27.016Z"
   },
   {
    "duration": 12,
    "start_time": "2024-06-08T15:28:27.029Z"
   },
   {
    "duration": 11,
    "start_time": "2024-06-08T15:28:27.044Z"
   },
   {
    "duration": 22,
    "start_time": "2024-06-08T15:28:27.103Z"
   },
   {
    "duration": 16,
    "start_time": "2024-06-08T15:28:27.128Z"
   },
   {
    "duration": 591,
    "start_time": "2024-06-08T15:28:27.147Z"
   },
   {
    "duration": 16,
    "start_time": "2024-06-08T15:28:27.741Z"
   },
   {
    "duration": 648,
    "start_time": "2024-06-08T15:28:27.761Z"
   },
   {
    "duration": 220,
    "start_time": "2024-06-08T15:28:28.412Z"
   },
   {
    "duration": 10,
    "start_time": "2024-06-08T15:28:28.635Z"
   },
   {
    "duration": 9,
    "start_time": "2024-06-08T15:28:28.649Z"
   },
   {
    "duration": 6,
    "start_time": "2024-06-08T15:28:28.661Z"
   },
   {
    "duration": 280,
    "start_time": "2024-06-08T15:28:28.706Z"
   },
   {
    "duration": 10,
    "start_time": "2024-06-08T15:28:28.990Z"
   },
   {
    "duration": 184,
    "start_time": "2024-06-08T15:28:29.004Z"
   },
   {
    "duration": 12,
    "start_time": "2024-06-08T15:28:29.191Z"
   },
   {
    "duration": 9,
    "start_time": "2024-06-08T15:28:29.206Z"
   },
   {
    "duration": 207,
    "start_time": "2024-06-08T15:28:29.219Z"
   },
   {
    "duration": 7,
    "start_time": "2024-06-08T15:28:29.430Z"
   },
   {
    "duration": 9,
    "start_time": "2024-06-08T15:28:29.440Z"
   },
   {
    "duration": 12,
    "start_time": "2024-06-08T15:28:29.452Z"
   },
   {
    "duration": 45,
    "start_time": "2024-06-08T15:28:29.467Z"
   },
   {
    "duration": 9,
    "start_time": "2024-06-08T15:28:29.516Z"
   },
   {
    "duration": 14,
    "start_time": "2024-06-08T15:28:29.528Z"
   },
   {
    "duration": 57,
    "start_time": "2024-06-08T15:28:29.545Z"
   },
   {
    "duration": 15,
    "start_time": "2024-06-08T15:28:29.605Z"
   }
  ],
  "kernelspec": {
   "display_name": "Python 3 (ipykernel)",
   "language": "python",
   "name": "python3"
  },
  "language_info": {
   "codemirror_mode": {
    "name": "ipython",
    "version": 3
   },
   "file_extension": ".py",
   "mimetype": "text/x-python",
   "name": "python",
   "nbconvert_exporter": "python",
   "pygments_lexer": "ipython3",
   "version": "3.9.19"
  },
  "toc": {
   "base_numbering": 1,
   "nav_menu": {},
   "number_sections": true,
   "sideBar": true,
   "skip_h1_title": false,
   "title_cell": "Table of Contents",
   "title_sidebar": "Contents",
   "toc_cell": true,
   "toc_position": {
    "height": "calc(100% - 180px)",
    "left": "10px",
    "top": "150px",
    "width": "323px"
   },
   "toc_section_display": true,
   "toc_window_display": true
  }
 },
 "nbformat": 4,
 "nbformat_minor": 2
}
