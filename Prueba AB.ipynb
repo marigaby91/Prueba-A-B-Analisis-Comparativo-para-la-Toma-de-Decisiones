{
 "cells": [
  {
   "cell_type": "markdown",
   "metadata": {
    "toc": true
   },
   "source": [
    "<h1>Table of Contents<span class=\"tocSkip\"></span></h1>\n",
    "<div class=\"toc\"><ul class=\"toc-item\"><li><span><a href=\"#Introduccion\" data-toc-modified-id=\"Introduccion-1\"><span class=\"toc-item-num\">1&nbsp;&nbsp;</span>Introduccion</a></span></li><li><span><a href=\"#Analisis-de-datos\" data-toc-modified-id=\"Analisis-de-datos-2\"><span class=\"toc-item-num\">2&nbsp;&nbsp;</span>Analisis de datos</a></span><ul class=\"toc-item\"><li><span><a href=\"#Carga-de-datasets-e-importacion-de-libreriras\" data-toc-modified-id=\"Carga-de-datasets-e-importacion-de-libreriras-2.1\"><span class=\"toc-item-num\">2.1&nbsp;&nbsp;</span>Carga de datasets e importacion de libreriras</a></span></li><li><span><a href=\"#Estudio-de-datos\" data-toc-modified-id=\"Estudio-de-datos-2.2\"><span class=\"toc-item-num\">2.2&nbsp;&nbsp;</span>Estudio de datos</a></span><ul class=\"toc-item\"><li><span><a href=\"#Marketing-Events-datos\" data-toc-modified-id=\"Marketing-Events-datos-2.2.1\"><span class=\"toc-item-num\">2.2.1&nbsp;&nbsp;</span>Marketing Events datos</a></span></li><li><span><a href=\"#new_users-datos\" data-toc-modified-id=\"new_users-datos-2.2.2\"><span class=\"toc-item-num\">2.2.2&nbsp;&nbsp;</span>new_users datos</a></span></li><li><span><a href=\"#events-datos\" data-toc-modified-id=\"events-datos-2.2.3\"><span class=\"toc-item-num\">2.2.3&nbsp;&nbsp;</span>events datos</a></span></li><li><span><a href=\"#participants-datos\" data-toc-modified-id=\"participants-datos-2.2.4\"><span class=\"toc-item-num\">2.2.4&nbsp;&nbsp;</span>participants datos</a></span></li></ul></li></ul></li><li><span><a href=\"#Analisis-Exploratorio\" data-toc-modified-id=\"Analisis-Exploratorio-3\"><span class=\"toc-item-num\">3&nbsp;&nbsp;</span>Analisis Exploratorio</a></span><ul class=\"toc-item\"><li><span><a href=\"#Conversión-en-las-diferentes-etapas-del-embudo.\" data-toc-modified-id=\"Conversión-en-las-diferentes-etapas-del-embudo.-3.1\"><span class=\"toc-item-num\">3.1&nbsp;&nbsp;</span>Conversión en las diferentes etapas del embudo.</a></span></li><li><span><a href=\"#¿El-número-de-eventos-por-usuario-está-distribuido-equitativamente-entre-las-muestras?\" data-toc-modified-id=\"¿El-número-de-eventos-por-usuario-está-distribuido-equitativamente-entre-las-muestras?-3.2\"><span class=\"toc-item-num\">3.2&nbsp;&nbsp;</span>¿El número de eventos por usuario está distribuido equitativamente entre las muestras?</a></span></li><li><span><a href=\"#¿Hay-usuarios-que-están-presentes-en-ambas-muestras?\" data-toc-modified-id=\"¿Hay-usuarios-que-están-presentes-en-ambas-muestras?-3.3\"><span class=\"toc-item-num\">3.3&nbsp;&nbsp;</span>¿Hay usuarios que están presentes en ambas muestras?</a></span></li><li><span><a href=\"#¿Cómo-se-distribuye-el-número-de-eventos-entre-los-días?\" data-toc-modified-id=\"¿Cómo-se-distribuye-el-número-de-eventos-entre-los-días?-3.4\"><span class=\"toc-item-num\">3.4&nbsp;&nbsp;</span>¿Cómo se distribuye el número de eventos entre los días?</a></span></li><li><span><a href=\"#¿Hay-alguna-peculiaridad-en-los-datos-que-hay-que-tener-en-cuenta-antes-de-iniciar-la-prueba-A/B?\" data-toc-modified-id=\"¿Hay-alguna-peculiaridad-en-los-datos-que-hay-que-tener-en-cuenta-antes-de-iniciar-la-prueba-A/B?-3.5\"><span class=\"toc-item-num\">3.5&nbsp;&nbsp;</span>¿Hay alguna peculiaridad en los datos que hay que tener en cuenta antes de iniciar la prueba A/B?</a></span></li></ul></li><li><span><a href=\"#Resultados-de-la-prueba-A/B\" data-toc-modified-id=\"Resultados-de-la-prueba-A/B-4\"><span class=\"toc-item-num\">4&nbsp;&nbsp;</span>Resultados de la prueba A/B</a></span><ul class=\"toc-item\"><li><span><a href=\"#¿Qué-puedes-decir-sobre-los-resultados-de-la-prueba-A/B?\" data-toc-modified-id=\"¿Qué-puedes-decir-sobre-los-resultados-de-la-prueba-A/B?-4.1\"><span class=\"toc-item-num\">4.1&nbsp;&nbsp;</span>¿Qué puedes decir sobre los resultados de la prueba A/B?</a></span></li><li><span><a href=\"#Prueba-Z\" data-toc-modified-id=\"Prueba-Z-4.2\"><span class=\"toc-item-num\">4.2&nbsp;&nbsp;</span>Prueba Z</a></span></li></ul></li><li><span><a href=\"#Conslusiones\" data-toc-modified-id=\"Conslusiones-5\"><span class=\"toc-item-num\">5&nbsp;&nbsp;</span>Conslusiones</a></span></li></ul></div>"
   ]
  },
  {
   "cell_type": "markdown",
   "metadata": {},
   "source": [
    "# Introduccion "
   ]
  },
  {
   "cell_type": "markdown",
   "metadata": {},
   "source": [
    "En el siguiente proyecto se busca realizar una prueba A/B para determinar si es viable tener una granja de sandias en Brasil en una tienda internacional. "
   ]
  },
  {
   "cell_type": "markdown",
   "metadata": {},
   "source": [
    "# Analisis de datos"
   ]
  },
  {
   "cell_type": "markdown",
   "metadata": {},
   "source": [
    "## Carga de datasets e importacion de libreriras"
   ]
  },
  {
   "cell_type": "code",
   "execution_count": 1,
   "metadata": {},
   "outputs": [],
   "source": [
    "import pandas as pd\n",
    "import numpy as np\n",
    "from scipy import stats as st\n",
    "from matplotlib import pyplot as plt\n",
    "import plotly.express as px\n",
    "import seaborn as sns\n",
    "import datetime\n",
    "from scipy.stats import ttest_ind\n",
    "from statsmodels.stats.proportion import proportions_ztest"
   ]
  },
  {
   "cell_type": "code",
   "execution_count": 2,
   "metadata": {},
   "outputs": [],
   "source": [
    "marketing_events = pd.read_csv('/datasets/ab_project_marketing_events_us.csv')\n",
    "new_users = pd.read_csv('/datasets/final_ab_new_users_upd_us.csv')\n",
    "events = pd.read_csv('/datasets/final_ab_events_upd_us.csv')\n",
    "participants_test = pd.read_csv('/datasets/final_ab_participants_upd_us.csv')"
   ]
  },
  {
   "cell_type": "markdown",
   "metadata": {},
   "source": [
    "## Estudio de datos"
   ]
  },
  {
   "cell_type": "markdown",
   "metadata": {},
   "source": [
    "### Marketing Events datos"
   ]
  },
  {
   "cell_type": "code",
   "execution_count": 3,
   "metadata": {},
   "outputs": [
    {
     "data": {
      "text/html": [
       "<div>\n",
       "<style scoped>\n",
       "    .dataframe tbody tr th:only-of-type {\n",
       "        vertical-align: middle;\n",
       "    }\n",
       "\n",
       "    .dataframe tbody tr th {\n",
       "        vertical-align: top;\n",
       "    }\n",
       "\n",
       "    .dataframe thead th {\n",
       "        text-align: right;\n",
       "    }\n",
       "</style>\n",
       "<table border=\"1\" class=\"dataframe\">\n",
       "  <thead>\n",
       "    <tr style=\"text-align: right;\">\n",
       "      <th></th>\n",
       "      <th>name</th>\n",
       "      <th>regions</th>\n",
       "      <th>start_dt</th>\n",
       "      <th>finish_dt</th>\n",
       "    </tr>\n",
       "  </thead>\n",
       "  <tbody>\n",
       "    <tr>\n",
       "      <th>0</th>\n",
       "      <td>Christmas&amp;New Year Promo</td>\n",
       "      <td>EU, N.America</td>\n",
       "      <td>2020-12-25</td>\n",
       "      <td>2021-01-03</td>\n",
       "    </tr>\n",
       "    <tr>\n",
       "      <th>1</th>\n",
       "      <td>St. Valentine's Day Giveaway</td>\n",
       "      <td>EU, CIS, APAC, N.America</td>\n",
       "      <td>2020-02-14</td>\n",
       "      <td>2020-02-16</td>\n",
       "    </tr>\n",
       "    <tr>\n",
       "      <th>2</th>\n",
       "      <td>St. Patric's Day Promo</td>\n",
       "      <td>EU, N.America</td>\n",
       "      <td>2020-03-17</td>\n",
       "      <td>2020-03-19</td>\n",
       "    </tr>\n",
       "    <tr>\n",
       "      <th>3</th>\n",
       "      <td>Easter Promo</td>\n",
       "      <td>EU, CIS, APAC, N.America</td>\n",
       "      <td>2020-04-12</td>\n",
       "      <td>2020-04-19</td>\n",
       "    </tr>\n",
       "    <tr>\n",
       "      <th>4</th>\n",
       "      <td>4th of July Promo</td>\n",
       "      <td>N.America</td>\n",
       "      <td>2020-07-04</td>\n",
       "      <td>2020-07-11</td>\n",
       "    </tr>\n",
       "  </tbody>\n",
       "</table>\n",
       "</div>"
      ],
      "text/plain": [
       "                           name                   regions    start_dt  \\\n",
       "0      Christmas&New Year Promo             EU, N.America  2020-12-25   \n",
       "1  St. Valentine's Day Giveaway  EU, CIS, APAC, N.America  2020-02-14   \n",
       "2        St. Patric's Day Promo             EU, N.America  2020-03-17   \n",
       "3                  Easter Promo  EU, CIS, APAC, N.America  2020-04-12   \n",
       "4             4th of July Promo                 N.America  2020-07-04   \n",
       "\n",
       "    finish_dt  \n",
       "0  2021-01-03  \n",
       "1  2020-02-16  \n",
       "2  2020-03-19  \n",
       "3  2020-04-19  \n",
       "4  2020-07-11  "
      ]
     },
     "execution_count": 3,
     "metadata": {},
     "output_type": "execute_result"
    }
   ],
   "source": [
    "marketing_events.head()"
   ]
  },
  {
   "cell_type": "code",
   "execution_count": 4,
   "metadata": {},
   "outputs": [
    {
     "data": {
      "text/html": [
       "<div>\n",
       "<style scoped>\n",
       "    .dataframe tbody tr th:only-of-type {\n",
       "        vertical-align: middle;\n",
       "    }\n",
       "\n",
       "    .dataframe tbody tr th {\n",
       "        vertical-align: top;\n",
       "    }\n",
       "\n",
       "    .dataframe thead th {\n",
       "        text-align: right;\n",
       "    }\n",
       "</style>\n",
       "<table border=\"1\" class=\"dataframe\">\n",
       "  <thead>\n",
       "    <tr style=\"text-align: right;\">\n",
       "      <th></th>\n",
       "      <th>name</th>\n",
       "      <th>regions</th>\n",
       "      <th>start_dt</th>\n",
       "      <th>finish_dt</th>\n",
       "    </tr>\n",
       "  </thead>\n",
       "  <tbody>\n",
       "    <tr>\n",
       "      <th>count</th>\n",
       "      <td>14</td>\n",
       "      <td>14</td>\n",
       "      <td>14</td>\n",
       "      <td>14</td>\n",
       "    </tr>\n",
       "    <tr>\n",
       "      <th>unique</th>\n",
       "      <td>14</td>\n",
       "      <td>6</td>\n",
       "      <td>14</td>\n",
       "      <td>14</td>\n",
       "    </tr>\n",
       "    <tr>\n",
       "      <th>top</th>\n",
       "      <td>Victory Day CIS (May 9th) Event</td>\n",
       "      <td>APAC</td>\n",
       "      <td>2020-11-26</td>\n",
       "      <td>2020-07-11</td>\n",
       "    </tr>\n",
       "    <tr>\n",
       "      <th>freq</th>\n",
       "      <td>1</td>\n",
       "      <td>4</td>\n",
       "      <td>1</td>\n",
       "      <td>1</td>\n",
       "    </tr>\n",
       "  </tbody>\n",
       "</table>\n",
       "</div>"
      ],
      "text/plain": [
       "                                   name regions    start_dt   finish_dt\n",
       "count                                14      14          14          14\n",
       "unique                               14       6          14          14\n",
       "top     Victory Day CIS (May 9th) Event    APAC  2020-11-26  2020-07-11\n",
       "freq                                  1       4           1           1"
      ]
     },
     "execution_count": 4,
     "metadata": {},
     "output_type": "execute_result"
    }
   ],
   "source": [
    "marketing_events.describe()"
   ]
  },
  {
   "cell_type": "code",
   "execution_count": 5,
   "metadata": {},
   "outputs": [
    {
     "data": {
      "text/plain": [
       "name         object\n",
       "regions      object\n",
       "start_dt     object\n",
       "finish_dt    object\n",
       "dtype: object"
      ]
     },
     "execution_count": 5,
     "metadata": {},
     "output_type": "execute_result"
    }
   ],
   "source": [
    "marketing_events.dtypes"
   ]
  },
  {
   "cell_type": "code",
   "execution_count": 6,
   "metadata": {},
   "outputs": [],
   "source": [
    "marketing_events['start_dt'] = pd.to_datetime(marketing_events['start_dt'])\n",
    "marketing_events['finish_dt'] = pd.to_datetime(marketing_events['finish_dt'])"
   ]
  },
  {
   "cell_type": "code",
   "execution_count": 7,
   "metadata": {},
   "outputs": [
    {
     "data": {
      "text/plain": [
       "0"
      ]
     },
     "execution_count": 7,
     "metadata": {},
     "output_type": "execute_result"
    }
   ],
   "source": [
    "marketing_events.duplicated().sum()"
   ]
  },
  {
   "cell_type": "code",
   "execution_count": 8,
   "metadata": {},
   "outputs": [
    {
     "data": {
      "text/plain": [
       "name         0\n",
       "regions      0\n",
       "start_dt     0\n",
       "finish_dt    0\n",
       "dtype: int64"
      ]
     },
     "execution_count": 8,
     "metadata": {},
     "output_type": "execute_result"
    }
   ],
   "source": [
    "marketing_events.isna().sum()"
   ]
  },
  {
   "cell_type": "markdown",
   "metadata": {},
   "source": [
    "### new_users datos"
   ]
  },
  {
   "cell_type": "code",
   "execution_count": 9,
   "metadata": {},
   "outputs": [
    {
     "data": {
      "text/html": [
       "<div>\n",
       "<style scoped>\n",
       "    .dataframe tbody tr th:only-of-type {\n",
       "        vertical-align: middle;\n",
       "    }\n",
       "\n",
       "    .dataframe tbody tr th {\n",
       "        vertical-align: top;\n",
       "    }\n",
       "\n",
       "    .dataframe thead th {\n",
       "        text-align: right;\n",
       "    }\n",
       "</style>\n",
       "<table border=\"1\" class=\"dataframe\">\n",
       "  <thead>\n",
       "    <tr style=\"text-align: right;\">\n",
       "      <th></th>\n",
       "      <th>user_id</th>\n",
       "      <th>first_date</th>\n",
       "      <th>region</th>\n",
       "      <th>device</th>\n",
       "    </tr>\n",
       "  </thead>\n",
       "  <tbody>\n",
       "    <tr>\n",
       "      <th>0</th>\n",
       "      <td>D72A72121175D8BE</td>\n",
       "      <td>2020-12-07</td>\n",
       "      <td>EU</td>\n",
       "      <td>PC</td>\n",
       "    </tr>\n",
       "    <tr>\n",
       "      <th>1</th>\n",
       "      <td>F1C668619DFE6E65</td>\n",
       "      <td>2020-12-07</td>\n",
       "      <td>N.America</td>\n",
       "      <td>Android</td>\n",
       "    </tr>\n",
       "    <tr>\n",
       "      <th>2</th>\n",
       "      <td>2E1BF1D4C37EA01F</td>\n",
       "      <td>2020-12-07</td>\n",
       "      <td>EU</td>\n",
       "      <td>PC</td>\n",
       "    </tr>\n",
       "    <tr>\n",
       "      <th>3</th>\n",
       "      <td>50734A22C0C63768</td>\n",
       "      <td>2020-12-07</td>\n",
       "      <td>EU</td>\n",
       "      <td>iPhone</td>\n",
       "    </tr>\n",
       "    <tr>\n",
       "      <th>4</th>\n",
       "      <td>E1BDDCE0DAFA2679</td>\n",
       "      <td>2020-12-07</td>\n",
       "      <td>N.America</td>\n",
       "      <td>iPhone</td>\n",
       "    </tr>\n",
       "  </tbody>\n",
       "</table>\n",
       "</div>"
      ],
      "text/plain": [
       "            user_id  first_date     region   device\n",
       "0  D72A72121175D8BE  2020-12-07         EU       PC\n",
       "1  F1C668619DFE6E65  2020-12-07  N.America  Android\n",
       "2  2E1BF1D4C37EA01F  2020-12-07         EU       PC\n",
       "3  50734A22C0C63768  2020-12-07         EU   iPhone\n",
       "4  E1BDDCE0DAFA2679  2020-12-07  N.America   iPhone"
      ]
     },
     "execution_count": 9,
     "metadata": {},
     "output_type": "execute_result"
    }
   ],
   "source": [
    "new_users.head()"
   ]
  },
  {
   "cell_type": "code",
   "execution_count": 10,
   "metadata": {},
   "outputs": [
    {
     "data": {
      "text/html": [
       "<div>\n",
       "<style scoped>\n",
       "    .dataframe tbody tr th:only-of-type {\n",
       "        vertical-align: middle;\n",
       "    }\n",
       "\n",
       "    .dataframe tbody tr th {\n",
       "        vertical-align: top;\n",
       "    }\n",
       "\n",
       "    .dataframe thead th {\n",
       "        text-align: right;\n",
       "    }\n",
       "</style>\n",
       "<table border=\"1\" class=\"dataframe\">\n",
       "  <thead>\n",
       "    <tr style=\"text-align: right;\">\n",
       "      <th></th>\n",
       "      <th>user_id</th>\n",
       "      <th>first_date</th>\n",
       "      <th>region</th>\n",
       "      <th>device</th>\n",
       "    </tr>\n",
       "  </thead>\n",
       "  <tbody>\n",
       "    <tr>\n",
       "      <th>count</th>\n",
       "      <td>58703</td>\n",
       "      <td>58703</td>\n",
       "      <td>58703</td>\n",
       "      <td>58703</td>\n",
       "    </tr>\n",
       "    <tr>\n",
       "      <th>unique</th>\n",
       "      <td>58703</td>\n",
       "      <td>17</td>\n",
       "      <td>4</td>\n",
       "      <td>4</td>\n",
       "    </tr>\n",
       "    <tr>\n",
       "      <th>top</th>\n",
       "      <td>210A776790BA4237</td>\n",
       "      <td>2020-12-21</td>\n",
       "      <td>EU</td>\n",
       "      <td>Android</td>\n",
       "    </tr>\n",
       "    <tr>\n",
       "      <th>freq</th>\n",
       "      <td>1</td>\n",
       "      <td>6077</td>\n",
       "      <td>43396</td>\n",
       "      <td>26159</td>\n",
       "    </tr>\n",
       "  </tbody>\n",
       "</table>\n",
       "</div>"
      ],
      "text/plain": [
       "                 user_id  first_date region   device\n",
       "count              58703       58703  58703    58703\n",
       "unique             58703          17      4        4\n",
       "top     210A776790BA4237  2020-12-21     EU  Android\n",
       "freq                   1        6077  43396    26159"
      ]
     },
     "execution_count": 10,
     "metadata": {},
     "output_type": "execute_result"
    }
   ],
   "source": [
    "new_users.describe()"
   ]
  },
  {
   "cell_type": "code",
   "execution_count": 11,
   "metadata": {},
   "outputs": [
    {
     "data": {
      "text/plain": [
       "user_id       object\n",
       "first_date    object\n",
       "region        object\n",
       "device        object\n",
       "dtype: object"
      ]
     },
     "execution_count": 11,
     "metadata": {},
     "output_type": "execute_result"
    }
   ],
   "source": [
    "new_users.dtypes"
   ]
  },
  {
   "cell_type": "code",
   "execution_count": 12,
   "metadata": {},
   "outputs": [],
   "source": [
    "new_users['first_date'] = pd.to_datetime(new_users['first_date'])"
   ]
  },
  {
   "cell_type": "code",
   "execution_count": 13,
   "metadata": {},
   "outputs": [
    {
     "data": {
      "text/plain": [
       "0"
      ]
     },
     "execution_count": 13,
     "metadata": {},
     "output_type": "execute_result"
    }
   ],
   "source": [
    "new_users.duplicated().sum()"
   ]
  },
  {
   "cell_type": "code",
   "execution_count": 14,
   "metadata": {},
   "outputs": [
    {
     "data": {
      "text/plain": [
       "user_id       0\n",
       "first_date    0\n",
       "region        0\n",
       "device        0\n",
       "dtype: int64"
      ]
     },
     "execution_count": 14,
     "metadata": {},
     "output_type": "execute_result"
    }
   ],
   "source": [
    "new_users.isna().sum()"
   ]
  },
  {
   "cell_type": "markdown",
   "metadata": {},
   "source": [
    "### events datos"
   ]
  },
  {
   "cell_type": "code",
   "execution_count": 15,
   "metadata": {},
   "outputs": [
    {
     "data": {
      "text/html": [
       "<div>\n",
       "<style scoped>\n",
       "    .dataframe tbody tr th:only-of-type {\n",
       "        vertical-align: middle;\n",
       "    }\n",
       "\n",
       "    .dataframe tbody tr th {\n",
       "        vertical-align: top;\n",
       "    }\n",
       "\n",
       "    .dataframe thead th {\n",
       "        text-align: right;\n",
       "    }\n",
       "</style>\n",
       "<table border=\"1\" class=\"dataframe\">\n",
       "  <thead>\n",
       "    <tr style=\"text-align: right;\">\n",
       "      <th></th>\n",
       "      <th>user_id</th>\n",
       "      <th>event_dt</th>\n",
       "      <th>event_name</th>\n",
       "      <th>details</th>\n",
       "    </tr>\n",
       "  </thead>\n",
       "  <tbody>\n",
       "    <tr>\n",
       "      <th>0</th>\n",
       "      <td>E1BDDCE0DAFA2679</td>\n",
       "      <td>2020-12-07 20:22:03</td>\n",
       "      <td>purchase</td>\n",
       "      <td>99.99</td>\n",
       "    </tr>\n",
       "    <tr>\n",
       "      <th>1</th>\n",
       "      <td>7B6452F081F49504</td>\n",
       "      <td>2020-12-07 09:22:53</td>\n",
       "      <td>purchase</td>\n",
       "      <td>9.99</td>\n",
       "    </tr>\n",
       "    <tr>\n",
       "      <th>2</th>\n",
       "      <td>9CD9F34546DF254C</td>\n",
       "      <td>2020-12-07 12:59:29</td>\n",
       "      <td>purchase</td>\n",
       "      <td>4.99</td>\n",
       "    </tr>\n",
       "    <tr>\n",
       "      <th>3</th>\n",
       "      <td>96F27A054B191457</td>\n",
       "      <td>2020-12-07 04:02:40</td>\n",
       "      <td>purchase</td>\n",
       "      <td>4.99</td>\n",
       "    </tr>\n",
       "    <tr>\n",
       "      <th>4</th>\n",
       "      <td>1FD7660FDF94CA1F</td>\n",
       "      <td>2020-12-07 10:15:09</td>\n",
       "      <td>purchase</td>\n",
       "      <td>4.99</td>\n",
       "    </tr>\n",
       "  </tbody>\n",
       "</table>\n",
       "</div>"
      ],
      "text/plain": [
       "            user_id             event_dt event_name  details\n",
       "0  E1BDDCE0DAFA2679  2020-12-07 20:22:03   purchase    99.99\n",
       "1  7B6452F081F49504  2020-12-07 09:22:53   purchase     9.99\n",
       "2  9CD9F34546DF254C  2020-12-07 12:59:29   purchase     4.99\n",
       "3  96F27A054B191457  2020-12-07 04:02:40   purchase     4.99\n",
       "4  1FD7660FDF94CA1F  2020-12-07 10:15:09   purchase     4.99"
      ]
     },
     "execution_count": 15,
     "metadata": {},
     "output_type": "execute_result"
    }
   ],
   "source": [
    "events.head()"
   ]
  },
  {
   "cell_type": "code",
   "execution_count": 16,
   "metadata": {},
   "outputs": [
    {
     "data": {
      "text/html": [
       "<div>\n",
       "<style scoped>\n",
       "    .dataframe tbody tr th:only-of-type {\n",
       "        vertical-align: middle;\n",
       "    }\n",
       "\n",
       "    .dataframe tbody tr th {\n",
       "        vertical-align: top;\n",
       "    }\n",
       "\n",
       "    .dataframe thead th {\n",
       "        text-align: right;\n",
       "    }\n",
       "</style>\n",
       "<table border=\"1\" class=\"dataframe\">\n",
       "  <thead>\n",
       "    <tr style=\"text-align: right;\">\n",
       "      <th></th>\n",
       "      <th>details</th>\n",
       "    </tr>\n",
       "  </thead>\n",
       "  <tbody>\n",
       "    <tr>\n",
       "      <th>count</th>\n",
       "      <td>60314.000000</td>\n",
       "    </tr>\n",
       "    <tr>\n",
       "      <th>mean</th>\n",
       "      <td>23.881219</td>\n",
       "    </tr>\n",
       "    <tr>\n",
       "      <th>std</th>\n",
       "      <td>72.228884</td>\n",
       "    </tr>\n",
       "    <tr>\n",
       "      <th>min</th>\n",
       "      <td>4.990000</td>\n",
       "    </tr>\n",
       "    <tr>\n",
       "      <th>25%</th>\n",
       "      <td>4.990000</td>\n",
       "    </tr>\n",
       "    <tr>\n",
       "      <th>50%</th>\n",
       "      <td>4.990000</td>\n",
       "    </tr>\n",
       "    <tr>\n",
       "      <th>75%</th>\n",
       "      <td>9.990000</td>\n",
       "    </tr>\n",
       "    <tr>\n",
       "      <th>max</th>\n",
       "      <td>499.990000</td>\n",
       "    </tr>\n",
       "  </tbody>\n",
       "</table>\n",
       "</div>"
      ],
      "text/plain": [
       "            details\n",
       "count  60314.000000\n",
       "mean      23.881219\n",
       "std       72.228884\n",
       "min        4.990000\n",
       "25%        4.990000\n",
       "50%        4.990000\n",
       "75%        9.990000\n",
       "max      499.990000"
      ]
     },
     "execution_count": 16,
     "metadata": {},
     "output_type": "execute_result"
    }
   ],
   "source": [
    "events.describe()"
   ]
  },
  {
   "cell_type": "code",
   "execution_count": 17,
   "metadata": {},
   "outputs": [
    {
     "data": {
      "text/plain": [
       "user_id        object\n",
       "event_dt       object\n",
       "event_name     object\n",
       "details       float64\n",
       "dtype: object"
      ]
     },
     "execution_count": 17,
     "metadata": {},
     "output_type": "execute_result"
    }
   ],
   "source": [
    "events.dtypes"
   ]
  },
  {
   "cell_type": "code",
   "execution_count": 18,
   "metadata": {},
   "outputs": [],
   "source": [
    "events['event_dt'] = pd.to_datetime(events['event_dt'])"
   ]
  },
  {
   "cell_type": "code",
   "execution_count": 19,
   "metadata": {},
   "outputs": [
    {
     "data": {
      "text/plain": [
       "0"
      ]
     },
     "execution_count": 19,
     "metadata": {},
     "output_type": "execute_result"
    }
   ],
   "source": [
    "events.duplicated().sum()"
   ]
  },
  {
   "cell_type": "code",
   "execution_count": 20,
   "metadata": {},
   "outputs": [
    {
     "data": {
      "text/plain": [
       "user_id            0\n",
       "event_dt           0\n",
       "event_name         0\n",
       "details       363447\n",
       "dtype: int64"
      ]
     },
     "execution_count": 20,
     "metadata": {},
     "output_type": "execute_result"
    }
   ],
   "source": [
    "events.isna().sum()"
   ]
  },
  {
   "cell_type": "markdown",
   "metadata": {},
   "source": [
    "Nota: No se van a remover los valos nulos ya que detail no guarda datos que sean de gran importancia. "
   ]
  },
  {
   "cell_type": "markdown",
   "metadata": {},
   "source": [
    "### participants datos"
   ]
  },
  {
   "cell_type": "code",
   "execution_count": 21,
   "metadata": {},
   "outputs": [
    {
     "data": {
      "text/html": [
       "<div>\n",
       "<style scoped>\n",
       "    .dataframe tbody tr th:only-of-type {\n",
       "        vertical-align: middle;\n",
       "    }\n",
       "\n",
       "    .dataframe tbody tr th {\n",
       "        vertical-align: top;\n",
       "    }\n",
       "\n",
       "    .dataframe thead th {\n",
       "        text-align: right;\n",
       "    }\n",
       "</style>\n",
       "<table border=\"1\" class=\"dataframe\">\n",
       "  <thead>\n",
       "    <tr style=\"text-align: right;\">\n",
       "      <th></th>\n",
       "      <th>user_id</th>\n",
       "      <th>group</th>\n",
       "      <th>ab_test</th>\n",
       "    </tr>\n",
       "  </thead>\n",
       "  <tbody>\n",
       "    <tr>\n",
       "      <th>0</th>\n",
       "      <td>D1ABA3E2887B6A73</td>\n",
       "      <td>A</td>\n",
       "      <td>recommender_system_test</td>\n",
       "    </tr>\n",
       "    <tr>\n",
       "      <th>1</th>\n",
       "      <td>A7A3664BD6242119</td>\n",
       "      <td>A</td>\n",
       "      <td>recommender_system_test</td>\n",
       "    </tr>\n",
       "    <tr>\n",
       "      <th>2</th>\n",
       "      <td>DABC14FDDFADD29E</td>\n",
       "      <td>A</td>\n",
       "      <td>recommender_system_test</td>\n",
       "    </tr>\n",
       "    <tr>\n",
       "      <th>3</th>\n",
       "      <td>04988C5DF189632E</td>\n",
       "      <td>A</td>\n",
       "      <td>recommender_system_test</td>\n",
       "    </tr>\n",
       "    <tr>\n",
       "      <th>4</th>\n",
       "      <td>4FF2998A348C484F</td>\n",
       "      <td>A</td>\n",
       "      <td>recommender_system_test</td>\n",
       "    </tr>\n",
       "  </tbody>\n",
       "</table>\n",
       "</div>"
      ],
      "text/plain": [
       "            user_id group                  ab_test\n",
       "0  D1ABA3E2887B6A73     A  recommender_system_test\n",
       "1  A7A3664BD6242119     A  recommender_system_test\n",
       "2  DABC14FDDFADD29E     A  recommender_system_test\n",
       "3  04988C5DF189632E     A  recommender_system_test\n",
       "4  4FF2998A348C484F     A  recommender_system_test"
      ]
     },
     "execution_count": 21,
     "metadata": {},
     "output_type": "execute_result"
    }
   ],
   "source": [
    "participants_test.head()"
   ]
  },
  {
   "cell_type": "code",
   "execution_count": 22,
   "metadata": {},
   "outputs": [
    {
     "data": {
      "text/html": [
       "<div>\n",
       "<style scoped>\n",
       "    .dataframe tbody tr th:only-of-type {\n",
       "        vertical-align: middle;\n",
       "    }\n",
       "\n",
       "    .dataframe tbody tr th {\n",
       "        vertical-align: top;\n",
       "    }\n",
       "\n",
       "    .dataframe thead th {\n",
       "        text-align: right;\n",
       "    }\n",
       "</style>\n",
       "<table border=\"1\" class=\"dataframe\">\n",
       "  <thead>\n",
       "    <tr style=\"text-align: right;\">\n",
       "      <th></th>\n",
       "      <th>user_id</th>\n",
       "      <th>group</th>\n",
       "      <th>ab_test</th>\n",
       "    </tr>\n",
       "  </thead>\n",
       "  <tbody>\n",
       "    <tr>\n",
       "      <th>count</th>\n",
       "      <td>14525</td>\n",
       "      <td>14525</td>\n",
       "      <td>14525</td>\n",
       "    </tr>\n",
       "    <tr>\n",
       "      <th>unique</th>\n",
       "      <td>13638</td>\n",
       "      <td>2</td>\n",
       "      <td>2</td>\n",
       "    </tr>\n",
       "    <tr>\n",
       "      <th>top</th>\n",
       "      <td>75654D851F8C8F59</td>\n",
       "      <td>A</td>\n",
       "      <td>interface_eu_test</td>\n",
       "    </tr>\n",
       "    <tr>\n",
       "      <th>freq</th>\n",
       "      <td>2</td>\n",
       "      <td>8214</td>\n",
       "      <td>10850</td>\n",
       "    </tr>\n",
       "  </tbody>\n",
       "</table>\n",
       "</div>"
      ],
      "text/plain": [
       "                 user_id  group            ab_test\n",
       "count              14525  14525              14525\n",
       "unique             13638      2                  2\n",
       "top     75654D851F8C8F59      A  interface_eu_test\n",
       "freq                   2   8214              10850"
      ]
     },
     "execution_count": 22,
     "metadata": {},
     "output_type": "execute_result"
    }
   ],
   "source": [
    "participants_test.describe()"
   ]
  },
  {
   "cell_type": "code",
   "execution_count": 23,
   "metadata": {},
   "outputs": [
    {
     "data": {
      "text/plain": [
       "user_id    object\n",
       "group      object\n",
       "ab_test    object\n",
       "dtype: object"
      ]
     },
     "execution_count": 23,
     "metadata": {},
     "output_type": "execute_result"
    }
   ],
   "source": [
    "participants_test.dtypes"
   ]
  },
  {
   "cell_type": "code",
   "execution_count": 24,
   "metadata": {},
   "outputs": [
    {
     "data": {
      "text/plain": [
       "0"
      ]
     },
     "execution_count": 24,
     "metadata": {},
     "output_type": "execute_result"
    }
   ],
   "source": [
    "participants_test.duplicated().sum()"
   ]
  },
  {
   "cell_type": "code",
   "execution_count": 25,
   "metadata": {},
   "outputs": [
    {
     "data": {
      "text/plain": [
       "user_id    0\n",
       "group      0\n",
       "ab_test    0\n",
       "dtype: int64"
      ]
     },
     "execution_count": 25,
     "metadata": {},
     "output_type": "execute_result"
    }
   ],
   "source": [
    "participants_test.isna().sum()"
   ]
  },
  {
   "cell_type": "markdown",
   "metadata": {},
   "source": [
    "# Analisis Exploratorio"
   ]
  },
  {
   "cell_type": "markdown",
   "metadata": {},
   "source": [
    "## Conversión en las diferentes etapas del embudo."
   ]
  },
  {
   "cell_type": "code",
   "execution_count": 26,
   "metadata": {},
   "outputs": [],
   "source": [
    "event_test= participants_test.merge(events, on='user_id')"
   ]
  },
  {
   "cell_type": "code",
   "execution_count": 27,
   "metadata": {},
   "outputs": [],
   "source": [
    "first_product_page_events = (\n",
    "    event_test\n",
    "    .query('event_name == \"product_page\"')\n",
    "    .sort_values(by='event_dt')\n",
    "    .rename(columns={\n",
    "        'event_dt': 'product_page_dt'\n",
    "    })\n",
    "    .groupby('user_id')\n",
    "    .head(1)\n",
    ")\n",
    "\n",
    "product_cart_events = (\n",
    "    event_test\n",
    "    .query('event_name == \"product_cart\"')\n",
    "    .rename(columns={\n",
    "        'event_dt': 'product_cart_dt'\n",
    "    })[['user_id', 'product_cart_dt']]\n",
    ")\n",
    "\n",
    "\n",
    "conversion_add_to_cart = pd.merge(\n",
    "    first_product_page_events,\n",
    "    product_cart_events,\n",
    "    on='user_id',\n",
    "    how='left'\n",
    ")\n",
    "\n",
    "conversion_add_to_cart['product_cart_dt'] = np.where(\n",
    "    conversion_add_to_cart['product_page_dt'] < conversion_add_to_cart['product_cart_dt'],\n",
    "    conversion_add_to_cart['product_cart_dt'],\n",
    "    np.datetime64(\"NaT\")\n",
    ")\n",
    "\n",
    "conversion_add_to_cart_filtered = conversion_add_to_cart[\n",
    "    conversion_add_to_cart['product_cart_dt'].isna()\n",
    "    | (conversion_add_to_cart['product_page_dt'] < conversion_add_to_cart['product_cart_dt'])\n",
    "]\n",
    "\n",
    "first_conversion_add_to_cart = (\n",
    "    conversion_add_to_cart_filtered\n",
    "    .sort_values(by='product_cart_dt')\n",
    "    .groupby('user_id')\n",
    "    .head(1)\n",
    ")\n",
    "\n",
    "first_conversion_add_to_cart['product_cart_cr'] = np.where(\n",
    "    ((first_conversion_add_to_cart['product_cart_dt'] - first_conversion_add_to_cart['product_page_dt']).dt.days > 14)\n",
    "    | first_conversion_add_to_cart['product_cart_dt'].isna(),\n",
    "    0,\n",
    "    1\n",
    ")"
   ]
  },
  {
   "cell_type": "code",
   "execution_count": 28,
   "metadata": {},
   "outputs": [
    {
     "data": {
      "text/html": [
       "<div>\n",
       "<style scoped>\n",
       "    .dataframe tbody tr th:only-of-type {\n",
       "        vertical-align: middle;\n",
       "    }\n",
       "\n",
       "    .dataframe tbody tr th {\n",
       "        vertical-align: top;\n",
       "    }\n",
       "\n",
       "    .dataframe thead th {\n",
       "        text-align: right;\n",
       "    }\n",
       "</style>\n",
       "<table border=\"1\" class=\"dataframe\">\n",
       "  <thead>\n",
       "    <tr style=\"text-align: right;\">\n",
       "      <th></th>\n",
       "      <th>user_id</th>\n",
       "      <th>group</th>\n",
       "      <th>ab_test</th>\n",
       "      <th>product_page_dt</th>\n",
       "      <th>event_name</th>\n",
       "      <th>details</th>\n",
       "      <th>product_cart_dt</th>\n",
       "      <th>product_cart_cr</th>\n",
       "    </tr>\n",
       "  </thead>\n",
       "  <tbody>\n",
       "    <tr>\n",
       "      <th>3</th>\n",
       "      <td>8FC9D1BB3017BE66</td>\n",
       "      <td>B</td>\n",
       "      <td>recommender_system_test</td>\n",
       "      <td>2020-12-07 00:07:48</td>\n",
       "      <td>product_page</td>\n",
       "      <td>NaN</td>\n",
       "      <td>2020-12-07 00:07:49</td>\n",
       "      <td>1</td>\n",
       "    </tr>\n",
       "    <tr>\n",
       "      <th>15</th>\n",
       "      <td>115EBC1CA027854A</td>\n",
       "      <td>B</td>\n",
       "      <td>recommender_system_test</td>\n",
       "      <td>2020-12-07 00:25:02</td>\n",
       "      <td>product_page</td>\n",
       "      <td>NaN</td>\n",
       "      <td>2020-12-07 00:25:04</td>\n",
       "      <td>1</td>\n",
       "    </tr>\n",
       "    <tr>\n",
       "      <th>45</th>\n",
       "      <td>AAF83E489AE98FA9</td>\n",
       "      <td>A</td>\n",
       "      <td>recommender_system_test</td>\n",
       "      <td>2020-12-07 00:39:14</td>\n",
       "      <td>product_page</td>\n",
       "      <td>NaN</td>\n",
       "      <td>2020-12-07 00:39:18</td>\n",
       "      <td>1</td>\n",
       "    </tr>\n",
       "    <tr>\n",
       "      <th>73</th>\n",
       "      <td>3DDB1D825E95B95D</td>\n",
       "      <td>A</td>\n",
       "      <td>interface_eu_test</td>\n",
       "      <td>2020-12-07 01:05:45</td>\n",
       "      <td>product_page</td>\n",
       "      <td>NaN</td>\n",
       "      <td>2020-12-07 01:05:46</td>\n",
       "      <td>1</td>\n",
       "    </tr>\n",
       "    <tr>\n",
       "      <th>87</th>\n",
       "      <td>79FE3925D374219B</td>\n",
       "      <td>A</td>\n",
       "      <td>interface_eu_test</td>\n",
       "      <td>2020-12-07 01:19:01</td>\n",
       "      <td>product_page</td>\n",
       "      <td>NaN</td>\n",
       "      <td>2020-12-07 01:19:02</td>\n",
       "      <td>1</td>\n",
       "    </tr>\n",
       "    <tr>\n",
       "      <th>...</th>\n",
       "      <td>...</td>\n",
       "      <td>...</td>\n",
       "      <td>...</td>\n",
       "      <td>...</td>\n",
       "      <td>...</td>\n",
       "      <td>...</td>\n",
       "      <td>...</td>\n",
       "      <td>...</td>\n",
       "    </tr>\n",
       "    <tr>\n",
       "      <th>15346</th>\n",
       "      <td>7B61EC1BB33D80A3</td>\n",
       "      <td>A</td>\n",
       "      <td>interface_eu_test</td>\n",
       "      <td>2020-12-23 23:36:27</td>\n",
       "      <td>product_page</td>\n",
       "      <td>NaN</td>\n",
       "      <td>NaT</td>\n",
       "      <td>0</td>\n",
       "    </tr>\n",
       "    <tr>\n",
       "      <th>15347</th>\n",
       "      <td>0E56FC327DD4DA1F</td>\n",
       "      <td>B</td>\n",
       "      <td>interface_eu_test</td>\n",
       "      <td>2020-12-23 23:39:27</td>\n",
       "      <td>product_page</td>\n",
       "      <td>NaN</td>\n",
       "      <td>NaT</td>\n",
       "      <td>0</td>\n",
       "    </tr>\n",
       "    <tr>\n",
       "      <th>15348</th>\n",
       "      <td>85ECB8DE3B7740FA</td>\n",
       "      <td>B</td>\n",
       "      <td>interface_eu_test</td>\n",
       "      <td>2020-12-23 23:41:23</td>\n",
       "      <td>product_page</td>\n",
       "      <td>NaN</td>\n",
       "      <td>NaT</td>\n",
       "      <td>0</td>\n",
       "    </tr>\n",
       "    <tr>\n",
       "      <th>15351</th>\n",
       "      <td>B1D88FBD4BA58E1B</td>\n",
       "      <td>A</td>\n",
       "      <td>interface_eu_test</td>\n",
       "      <td>2020-12-23 23:50:46</td>\n",
       "      <td>product_page</td>\n",
       "      <td>NaN</td>\n",
       "      <td>NaT</td>\n",
       "      <td>0</td>\n",
       "    </tr>\n",
       "    <tr>\n",
       "      <th>15352</th>\n",
       "      <td>2DDC948BD76ABC57</td>\n",
       "      <td>A</td>\n",
       "      <td>interface_eu_test</td>\n",
       "      <td>2020-12-24 21:57:12</td>\n",
       "      <td>product_page</td>\n",
       "      <td>NaN</td>\n",
       "      <td>NaT</td>\n",
       "      <td>0</td>\n",
       "    </tr>\n",
       "  </tbody>\n",
       "</table>\n",
       "<p>8923 rows × 8 columns</p>\n",
       "</div>"
      ],
      "text/plain": [
       "                user_id group                  ab_test     product_page_dt  \\\n",
       "3      8FC9D1BB3017BE66     B  recommender_system_test 2020-12-07 00:07:48   \n",
       "15     115EBC1CA027854A     B  recommender_system_test 2020-12-07 00:25:02   \n",
       "45     AAF83E489AE98FA9     A  recommender_system_test 2020-12-07 00:39:14   \n",
       "73     3DDB1D825E95B95D     A        interface_eu_test 2020-12-07 01:05:45   \n",
       "87     79FE3925D374219B     A        interface_eu_test 2020-12-07 01:19:01   \n",
       "...                 ...   ...                      ...                 ...   \n",
       "15346  7B61EC1BB33D80A3     A        interface_eu_test 2020-12-23 23:36:27   \n",
       "15347  0E56FC327DD4DA1F     B        interface_eu_test 2020-12-23 23:39:27   \n",
       "15348  85ECB8DE3B7740FA     B        interface_eu_test 2020-12-23 23:41:23   \n",
       "15351  B1D88FBD4BA58E1B     A        interface_eu_test 2020-12-23 23:50:46   \n",
       "15352  2DDC948BD76ABC57     A        interface_eu_test 2020-12-24 21:57:12   \n",
       "\n",
       "         event_name  details     product_cart_dt  product_cart_cr  \n",
       "3      product_page      NaN 2020-12-07 00:07:49                1  \n",
       "15     product_page      NaN 2020-12-07 00:25:04                1  \n",
       "45     product_page      NaN 2020-12-07 00:39:18                1  \n",
       "73     product_page      NaN 2020-12-07 01:05:46                1  \n",
       "87     product_page      NaN 2020-12-07 01:19:02                1  \n",
       "...             ...      ...                 ...              ...  \n",
       "15346  product_page      NaN                 NaT                0  \n",
       "15347  product_page      NaN                 NaT                0  \n",
       "15348  product_page      NaN                 NaT                0  \n",
       "15351  product_page      NaN                 NaT                0  \n",
       "15352  product_page      NaN                 NaT                0  \n",
       "\n",
       "[8923 rows x 8 columns]"
      ]
     },
     "execution_count": 28,
     "metadata": {},
     "output_type": "execute_result"
    }
   ],
   "source": [
    "first_conversion_add_to_cart"
   ]
  },
  {
   "cell_type": "code",
   "execution_count": 29,
   "metadata": {},
   "outputs": [
    {
     "name": "stdout",
     "output_type": "stream",
     "text": [
      "Conversion add to cart per group: group\n",
      "A    0.292077\n",
      "B    0.303975\n",
      "Name: product_cart_cr, dtype: float64\n"
     ]
    }
   ],
   "source": [
    "print('Conversion add to cart per group:',first_conversion_add_to_cart.groupby('group')['product_cart_cr'].mean())"
   ]
  },
  {
   "cell_type": "code",
   "execution_count": 30,
   "metadata": {},
   "outputs": [],
   "source": [
    "purchase_events = (\n",
    "     event_test\n",
    "    .query('event_name == \"purchase\"')\n",
    "    .sort_values(by='event_dt')\n",
    "    .rename(columns={\n",
    "        'event_dt': 'purchase_dt'\n",
    "    })\n",
    "    .groupby('user_id')\n",
    "    .head(1)\n",
    ")\n",
    "\n",
    "\n",
    "\n",
    "conversion_purchase = pd.merge(\n",
    "    product_cart_events,\n",
    "    purchase_events,\n",
    "    on='user_id',\n",
    "    how='left'\n",
    ")\n",
    "\n",
    "conversion_purchase['purchase_dt'] = np.where(\n",
    "    conversion_purchase['product_cart_dt'] < conversion_purchase['purchase_dt'],\n",
    "    conversion_purchase['purchase_dt'],\n",
    "    np.datetime64(\"NaT\")\n",
    ")\n",
    "\n",
    "conversion_purchase_filtered = conversion_purchase[\n",
    "    conversion_purchase['purchase_dt'].isna()\n",
    "    | (conversion_purchase['product_cart_dt'] < conversion_purchase['purchase_dt'])\n",
    "]\n",
    "\n",
    "second_conversion_purchase = (\n",
    "    conversion_purchase_filtered\n",
    "    .sort_values(by='purchase_dt')\n",
    "    .groupby('user_id')\n",
    "    .head(1)\n",
    ")\n",
    "\n",
    "second_conversion_purchase['purchase_cr'] = np.where(\n",
    "    ((second_conversion_purchase['purchase_dt'] - second_conversion_purchase['product_cart_dt']).dt.days > 14)\n",
    "    | second_conversion_purchase['purchase_dt'].isna(),\n",
    "    0,\n",
    "    1\n",
    ")"
   ]
  },
  {
   "cell_type": "code",
   "execution_count": 31,
   "metadata": {},
   "outputs": [
    {
     "data": {
      "text/html": [
       "<div>\n",
       "<style scoped>\n",
       "    .dataframe tbody tr th:only-of-type {\n",
       "        vertical-align: middle;\n",
       "    }\n",
       "\n",
       "    .dataframe tbody tr th {\n",
       "        vertical-align: top;\n",
       "    }\n",
       "\n",
       "    .dataframe thead th {\n",
       "        text-align: right;\n",
       "    }\n",
       "</style>\n",
       "<table border=\"1\" class=\"dataframe\">\n",
       "  <thead>\n",
       "    <tr style=\"text-align: right;\">\n",
       "      <th></th>\n",
       "      <th>user_id</th>\n",
       "      <th>product_cart_dt</th>\n",
       "      <th>group</th>\n",
       "      <th>ab_test</th>\n",
       "      <th>purchase_dt</th>\n",
       "      <th>event_name</th>\n",
       "      <th>details</th>\n",
       "      <th>purchase_cr</th>\n",
       "    </tr>\n",
       "  </thead>\n",
       "  <tbody>\n",
       "    <tr>\n",
       "      <th>697</th>\n",
       "      <td>A3B863B926C50A29</td>\n",
       "      <td>2020-12-07 11:09:07</td>\n",
       "      <td>A</td>\n",
       "      <td>recommender_system_test</td>\n",
       "      <td>2020-12-08 03:53:38</td>\n",
       "      <td>purchase</td>\n",
       "      <td>4.99</td>\n",
       "      <td>1</td>\n",
       "    </tr>\n",
       "    <tr>\n",
       "      <th>7315</th>\n",
       "      <td>39D2E10B515B8E45</td>\n",
       "      <td>2020-12-07 17:24:36</td>\n",
       "      <td>A</td>\n",
       "      <td>interface_eu_test</td>\n",
       "      <td>2020-12-08 04:07:53</td>\n",
       "      <td>purchase</td>\n",
       "      <td>4.99</td>\n",
       "      <td>1</td>\n",
       "    </tr>\n",
       "    <tr>\n",
       "      <th>10655</th>\n",
       "      <td>E0B7A422391DE708</td>\n",
       "      <td>2020-12-07 14:30:13</td>\n",
       "      <td>A</td>\n",
       "      <td>interface_eu_test</td>\n",
       "      <td>2020-12-08 08:47:36</td>\n",
       "      <td>purchase</td>\n",
       "      <td>4.99</td>\n",
       "      <td>1</td>\n",
       "    </tr>\n",
       "    <tr>\n",
       "      <th>704</th>\n",
       "      <td>22AD7C5B0BF83D87</td>\n",
       "      <td>2020-12-08 22:23:36</td>\n",
       "      <td>A</td>\n",
       "      <td>recommender_system_test</td>\n",
       "      <td>2020-12-09 09:20:20</td>\n",
       "      <td>purchase</td>\n",
       "      <td>99.99</td>\n",
       "      <td>1</td>\n",
       "    </tr>\n",
       "    <tr>\n",
       "      <th>11816</th>\n",
       "      <td>8B4D43DE899F9056</td>\n",
       "      <td>2020-12-08 18:50:49</td>\n",
       "      <td>B</td>\n",
       "      <td>interface_eu_test</td>\n",
       "      <td>2020-12-09 10:59:58</td>\n",
       "      <td>purchase</td>\n",
       "      <td>4.99</td>\n",
       "      <td>1</td>\n",
       "    </tr>\n",
       "    <tr>\n",
       "      <th>...</th>\n",
       "      <td>...</td>\n",
       "      <td>...</td>\n",
       "      <td>...</td>\n",
       "      <td>...</td>\n",
       "      <td>...</td>\n",
       "      <td>...</td>\n",
       "      <td>...</td>\n",
       "      <td>...</td>\n",
       "    </tr>\n",
       "    <tr>\n",
       "      <th>14301</th>\n",
       "      <td>9197EFF2D0FB18C9</td>\n",
       "      <td>2020-12-08 22:48:49</td>\n",
       "      <td>NaN</td>\n",
       "      <td>NaN</td>\n",
       "      <td>NaT</td>\n",
       "      <td>NaN</td>\n",
       "      <td>NaN</td>\n",
       "      <td>0</td>\n",
       "    </tr>\n",
       "    <tr>\n",
       "      <th>14306</th>\n",
       "      <td>06CB5B54FDFEA69F</td>\n",
       "      <td>2020-12-14 23:26:06</td>\n",
       "      <td>B</td>\n",
       "      <td>interface_eu_test</td>\n",
       "      <td>NaT</td>\n",
       "      <td>purchase</td>\n",
       "      <td>9.99</td>\n",
       "      <td>0</td>\n",
       "    </tr>\n",
       "    <tr>\n",
       "      <th>14308</th>\n",
       "      <td>FFE600EEC4BA7685</td>\n",
       "      <td>2020-12-13 21:43:01</td>\n",
       "      <td>NaN</td>\n",
       "      <td>NaN</td>\n",
       "      <td>NaT</td>\n",
       "      <td>NaN</td>\n",
       "      <td>NaN</td>\n",
       "      <td>0</td>\n",
       "    </tr>\n",
       "    <tr>\n",
       "      <th>14310</th>\n",
       "      <td>96304D5B53694096</td>\n",
       "      <td>2020-12-10 00:42:44</td>\n",
       "      <td>NaN</td>\n",
       "      <td>NaN</td>\n",
       "      <td>NaT</td>\n",
       "      <td>NaN</td>\n",
       "      <td>NaN</td>\n",
       "      <td>0</td>\n",
       "    </tr>\n",
       "    <tr>\n",
       "      <th>14313</th>\n",
       "      <td>A1281767A2983E4D</td>\n",
       "      <td>2020-12-21 23:40:00</td>\n",
       "      <td>NaN</td>\n",
       "      <td>NaN</td>\n",
       "      <td>NaT</td>\n",
       "      <td>NaN</td>\n",
       "      <td>NaN</td>\n",
       "      <td>0</td>\n",
       "    </tr>\n",
       "  </tbody>\n",
       "</table>\n",
       "<p>4394 rows × 8 columns</p>\n",
       "</div>"
      ],
      "text/plain": [
       "                user_id     product_cart_dt group                  ab_test  \\\n",
       "697    A3B863B926C50A29 2020-12-07 11:09:07     A  recommender_system_test   \n",
       "7315   39D2E10B515B8E45 2020-12-07 17:24:36     A        interface_eu_test   \n",
       "10655  E0B7A422391DE708 2020-12-07 14:30:13     A        interface_eu_test   \n",
       "704    22AD7C5B0BF83D87 2020-12-08 22:23:36     A  recommender_system_test   \n",
       "11816  8B4D43DE899F9056 2020-12-08 18:50:49     B        interface_eu_test   \n",
       "...                 ...                 ...   ...                      ...   \n",
       "14301  9197EFF2D0FB18C9 2020-12-08 22:48:49   NaN                      NaN   \n",
       "14306  06CB5B54FDFEA69F 2020-12-14 23:26:06     B        interface_eu_test   \n",
       "14308  FFE600EEC4BA7685 2020-12-13 21:43:01   NaN                      NaN   \n",
       "14310  96304D5B53694096 2020-12-10 00:42:44   NaN                      NaN   \n",
       "14313  A1281767A2983E4D 2020-12-21 23:40:00   NaN                      NaN   \n",
       "\n",
       "              purchase_dt event_name  details  purchase_cr  \n",
       "697   2020-12-08 03:53:38   purchase     4.99            1  \n",
       "7315  2020-12-08 04:07:53   purchase     4.99            1  \n",
       "10655 2020-12-08 08:47:36   purchase     4.99            1  \n",
       "704   2020-12-09 09:20:20   purchase    99.99            1  \n",
       "11816 2020-12-09 10:59:58   purchase     4.99            1  \n",
       "...                   ...        ...      ...          ...  \n",
       "14301                 NaT        NaN      NaN            0  \n",
       "14306                 NaT   purchase     9.99            0  \n",
       "14308                 NaT        NaN      NaN            0  \n",
       "14310                 NaT        NaN      NaN            0  \n",
       "14313                 NaT        NaN      NaN            0  \n",
       "\n",
       "[4394 rows x 8 columns]"
      ]
     },
     "execution_count": 31,
     "metadata": {},
     "output_type": "execute_result"
    }
   ],
   "source": [
    "second_conversion_purchase"
   ]
  },
  {
   "cell_type": "code",
   "execution_count": 32,
   "metadata": {},
   "outputs": [
    {
     "name": "stdout",
     "output_type": "stream",
     "text": [
      "Conversion purchase per group: group\n",
      "A    0.007371\n",
      "B    0.007752\n",
      "Name: purchase_cr, dtype: float64\n"
     ]
    }
   ],
   "source": [
    "print('Conversion purchase per group:',second_conversion_purchase.groupby('group')['purchase_cr'].mean())"
   ]
  },
  {
   "cell_type": "markdown",
   "metadata": {},
   "source": [
    "Teniendo en cuenta las 3 estapas del embudo, se puede ver que el grupo B convierte mas que el grupo A, estos usuarios llegan mas a la pagina de compra. "
   ]
  },
  {
   "cell_type": "markdown",
   "metadata": {},
   "source": [
    "## ¿El número de eventos por usuario está distribuido equitativamente entre las muestras?"
   ]
  },
  {
   "cell_type": "code",
   "execution_count": 33,
   "metadata": {},
   "outputs": [
    {
     "data": {
      "text/html": [
       "<div>\n",
       "<style scoped>\n",
       "    .dataframe tbody tr th:only-of-type {\n",
       "        vertical-align: middle;\n",
       "    }\n",
       "\n",
       "    .dataframe tbody tr th {\n",
       "        vertical-align: top;\n",
       "    }\n",
       "\n",
       "    .dataframe thead th {\n",
       "        text-align: right;\n",
       "    }\n",
       "</style>\n",
       "<table border=\"1\" class=\"dataframe\">\n",
       "  <thead>\n",
       "    <tr style=\"text-align: right;\">\n",
       "      <th></th>\n",
       "      <th>group</th>\n",
       "      <th>event_name</th>\n",
       "      <th>total_event</th>\n",
       "    </tr>\n",
       "  </thead>\n",
       "  <tbody>\n",
       "    <tr>\n",
       "      <th>0</th>\n",
       "      <td>A</td>\n",
       "      <td>login</td>\n",
       "      <td>25394</td>\n",
       "    </tr>\n",
       "    <tr>\n",
       "      <th>1</th>\n",
       "      <td>A</td>\n",
       "      <td>product_cart</td>\n",
       "      <td>8023</td>\n",
       "    </tr>\n",
       "    <tr>\n",
       "      <th>2</th>\n",
       "      <td>A</td>\n",
       "      <td>product_page</td>\n",
       "      <td>16669</td>\n",
       "    </tr>\n",
       "    <tr>\n",
       "      <th>3</th>\n",
       "      <td>A</td>\n",
       "      <td>purchase</td>\n",
       "      <td>8619</td>\n",
       "    </tr>\n",
       "    <tr>\n",
       "      <th>4</th>\n",
       "      <td>B</td>\n",
       "      <td>login</td>\n",
       "      <td>19311</td>\n",
       "    </tr>\n",
       "    <tr>\n",
       "      <th>5</th>\n",
       "      <td>B</td>\n",
       "      <td>product_cart</td>\n",
       "      <td>6295</td>\n",
       "    </tr>\n",
       "    <tr>\n",
       "      <th>6</th>\n",
       "      <td>B</td>\n",
       "      <td>product_page</td>\n",
       "      <td>12292</td>\n",
       "    </tr>\n",
       "    <tr>\n",
       "      <th>7</th>\n",
       "      <td>B</td>\n",
       "      <td>purchase</td>\n",
       "      <td>6235</td>\n",
       "    </tr>\n",
       "  </tbody>\n",
       "</table>\n",
       "</div>"
      ],
      "text/plain": [
       "  group    event_name  total_event\n",
       "0     A         login        25394\n",
       "1     A  product_cart         8023\n",
       "2     A  product_page        16669\n",
       "3     A      purchase         8619\n",
       "4     B         login        19311\n",
       "5     B  product_cart         6295\n",
       "6     B  product_page        12292\n",
       "7     B      purchase         6235"
      ]
     },
     "execution_count": 33,
     "metadata": {},
     "output_type": "execute_result"
    }
   ],
   "source": [
    "event_test.groupby(['group','event_name'])['user_id'].agg([\n",
    "    ('total_event','count')\n",
    "]).reset_index()"
   ]
  },
  {
   "cell_type": "markdown",
   "metadata": {},
   "source": [
    "Se puede notar que hay una mayor cantidad de usuarios en el grupo A, pero el grupo B convierte mas usuarios al final. "
   ]
  },
  {
   "cell_type": "markdown",
   "metadata": {},
   "source": [
    "## ¿Hay usuarios que están presentes en ambas muestras?"
   ]
  },
  {
   "cell_type": "code",
   "execution_count": 34,
   "metadata": {},
   "outputs": [
    {
     "data": {
      "text/plain": [
       "102662"
      ]
     },
     "execution_count": 34,
     "metadata": {},
     "output_type": "execute_result"
    }
   ],
   "source": [
    "repetitive_users = event_test[event_test.duplicated('user_id', keep=False)]\n",
    "repetitive_users['user_id'].count()"
   ]
  },
  {
   "cell_type": "markdown",
   "metadata": {},
   "source": [
    "## ¿Cómo se distribuye el número de eventos entre los días?"
   ]
  },
  {
   "cell_type": "code",
   "execution_count": 35,
   "metadata": {},
   "outputs": [
    {
     "data": {
      "text/plain": [
       "<AxesSubplot:xlabel='event_dt'>"
      ]
     },
     "execution_count": 35,
     "metadata": {},
     "output_type": "execute_result"
    },
    {
     "data": {
      "image/png": "[encoded data removed]",
      "text/plain": [
       "<Figure size 640x480 with 1 Axes>"
      ]
     },
     "metadata": {},
     "output_type": "display_data"
    }
   ],
   "source": [
    "daily_events = events.groupby([events['event_dt'].dt.date, 'event_name']).size().unstack()\n",
    "daily_events.plot(kind='line')"
   ]
  },
  {
   "cell_type": "markdown",
   "metadata": {},
   "source": [
    "## ¿Hay alguna peculiaridad en los datos que hay que tener en cuenta antes de iniciar la prueba A/B?"
   ]
  },
  {
   "cell_type": "markdown",
   "metadata": {},
   "source": [
    "Tenemos varios usuarios que son parte de ambos grupos que podrian ser eliminados, tambien varios usuarios no siguen los pasos del embudo.  "
   ]
  },
  {
   "cell_type": "markdown",
   "metadata": {},
   "source": [
    "#  Resultados de la prueba A/B"
   ]
  },
  {
   "cell_type": "markdown",
   "metadata": {},
   "source": [
    "## ¿Qué puedes decir sobre los resultados de la prueba A/B?"
   ]
  },
  {
   "cell_type": "code",
   "execution_count": 36,
   "metadata": {
    "scrolled": true
   },
   "outputs": [
    {
     "data": {
      "text/plain": [
       "Ttest_indResult(statistic=-1.2178775608015158, pvalue=0.2233027148461131)"
      ]
     },
     "execution_count": 36,
     "metadata": {},
     "output_type": "execute_result"
    }
   ],
   "source": [
    "ttest_ind(\n",
    "    first_conversion_add_to_cart.query(\"group =='A'\")['product_cart_cr'],\n",
    "    first_conversion_add_to_cart.query(\"group =='B'\")['product_cart_cr']\n",
    ")"
   ]
  },
  {
   "cell_type": "markdown",
   "metadata": {},
   "source": [
    "Conclusion: El pvalue es muy pequeño por lo cual no hay una diferencia en las conversiones. "
   ]
  },
  {
   "cell_type": "code",
   "execution_count": 37,
   "metadata": {},
   "outputs": [
    {
     "data": {
      "text/plain": [
       "Ttest_indResult(statistic=-0.08348109307188349, pvalue=0.9334804780915272)"
      ]
     },
     "execution_count": 37,
     "metadata": {},
     "output_type": "execute_result"
    }
   ],
   "source": [
    "ttest_ind(\n",
    "    second_conversion_purchase.query(\"group =='A'\")['purchase_cr'],\n",
    "    second_conversion_purchase.query(\"group =='B'\")['purchase_cr']\n",
    ")"
   ]
  },
  {
   "cell_type": "markdown",
   "metadata": {},
   "source": [
    "Conclusion: El pvalue es casi 1 por lo que se tiene una diferencia significativa en ambos grupos. Teniendo en cuenta los resultados anteriores el grupo B realiza mas compras"
   ]
  },
  {
   "cell_type": "markdown",
   "metadata": {},
   "source": [
    "## Prueba Z"
   ]
  },
  {
   "cell_type": "code",
   "execution_count": 38,
   "metadata": {},
   "outputs": [
    {
     "data": {
      "text/plain": [
       "0.001124000819899128"
      ]
     },
     "execution_count": 38,
     "metadata": {},
     "output_type": "execute_result"
    }
   ],
   "source": [
    "conversion_from= 'product_page'\n",
    "conversion_to= 'product_cart'\n",
    "group_col= 'group'\n",
    "group_1= 'A'\n",
    "group_2='B'\n",
    "\n",
    "counts=np.array([\n",
    "    event_test.query(f'({group_col} == @group_1) and (event_name == \"{conversion_to}\")')['user_id'].nunique(),\n",
    "    event_test.query(f'({group_col} == @group_2) and (event_name == \"{conversion_to}\")')['user_id'].nunique()\n",
    "])\n",
    "\n",
    "nobs=np.array([\n",
    "    event_test.query(f'({group_col} == @group_1) and (event_name == \"{conversion_from}\")')['user_id'].nunique(),\n",
    "    event_test.query(f'({group_col} == @group_2) and (event_name == \"{conversion_from}\")')['user_id'].nunique()\n",
    "])\n",
    "\n",
    "stats,pvalue= proportions_ztest(counts,nobs)\n",
    "\n",
    "pvalue"
   ]
  },
  {
   "cell_type": "markdown",
   "metadata": {},
   "source": [
    "# Conslusiones"
   ]
  },
  {
   "cell_type": "markdown",
   "metadata": {},
   "source": [
    "- Teniendo en cuenta los resultados anteriores el grupo B, genera mayor conversion, llegando hasta la pagina de compra.ç\n",
    "- No se tuvo la participacion desada de 6000 participantes.\n",
    "- Considero que se deberia continuar con el estudio para lograr la cantidad de participacion deseada, ya que la conversion del carrito a compra es bastante pequeña."
   ]
  }
 ],
 "metadata": {
  "ExecuteTimeLog": [
   {
    "duration": 5,
    "start_time": "2024-07-29T23:10:09.323Z"
   },
   {
    "duration": 5350,
    "start_time": "2024-07-29T23:13:30.947Z"
   },
   {
    "duration": 784,
    "start_time": "2024-07-29T23:15:19.923Z"
   },
   {
    "duration": 16,
    "start_time": "2024-07-29T23:16:40.464Z"
   },
   {
    "duration": 12,
    "start_time": "2024-07-29T23:17:18.287Z"
   },
   {
    "duration": 12,
    "start_time": "2024-07-29T23:17:51.659Z"
   },
   {
    "duration": 19,
    "start_time": "2024-07-29T23:18:04.638Z"
   },
   {
    "duration": 35,
    "start_time": "2024-07-29T23:22:24.181Z"
   },
   {
    "duration": 228,
    "start_time": "2024-07-29T23:23:02.802Z"
   },
   {
    "duration": 8,
    "start_time": "2024-07-29T23:23:16.686Z"
   },
   {
    "duration": 400,
    "start_time": "2024-07-29T23:26:06.774Z"
   },
   {
    "duration": 628,
    "start_time": "2024-07-29T23:27:03.575Z"
   },
   {
    "duration": 10,
    "start_time": "2024-07-29T23:30:20.635Z"
   },
   {
    "duration": 8,
    "start_time": "2024-07-29T23:30:34.186Z"
   },
   {
    "duration": 3,
    "start_time": "2024-07-29T23:31:09.081Z"
   },
   {
    "duration": 99,
    "start_time": "2024-07-29T23:34:33.569Z"
   },
   {
    "duration": 23,
    "start_time": "2024-07-29T23:35:39.139Z"
   },
   {
    "duration": 7,
    "start_time": "2024-07-29T23:35:52.957Z"
   },
   {
    "duration": 21,
    "start_time": "2024-07-29T23:37:12.549Z"
   },
   {
    "duration": 56,
    "start_time": "2024-07-29T23:37:45.323Z"
   },
   {
    "duration": 17,
    "start_time": "2024-07-29T23:38:01.630Z"
   },
   {
    "duration": 33,
    "start_time": "2024-07-29T23:38:47.565Z"
   },
   {
    "duration": 20,
    "start_time": "2024-07-29T23:40:07.780Z"
   },
   {
    "duration": 8,
    "start_time": "2024-07-29T23:40:25.847Z"
   },
   {
    "duration": 11,
    "start_time": "2024-07-29T23:41:01.014Z"
   },
   {
    "duration": 19,
    "start_time": "2024-07-29T23:41:23.526Z"
   },
   {
    "duration": 15,
    "start_time": "2024-07-29T23:41:46.148Z"
   },
   {
    "duration": 311,
    "start_time": "2024-07-29T23:42:02.739Z"
   },
   {
    "duration": 70,
    "start_time": "2024-07-29T23:42:13.692Z"
   },
   {
    "duration": 7,
    "start_time": "2024-07-29T23:43:55.652Z"
   },
   {
    "duration": 12,
    "start_time": "2024-07-29T23:45:20.390Z"
   },
   {
    "duration": 47,
    "start_time": "2024-07-29T23:45:33.825Z"
   },
   {
    "duration": 6,
    "start_time": "2024-07-29T23:45:47.790Z"
   },
   {
    "duration": 13,
    "start_time": "2024-07-29T23:46:02.847Z"
   },
   {
    "duration": 10,
    "start_time": "2024-07-29T23:46:15.006Z"
   },
   {
    "duration": 113,
    "start_time": "2024-07-30T00:04:57.213Z"
   },
   {
    "duration": 14,
    "start_time": "2024-07-30T00:06:00.588Z"
   },
   {
    "duration": 4,
    "start_time": "2024-07-30T00:07:24.521Z"
   },
   {
    "duration": 6,
    "start_time": "2024-07-30T00:08:01.837Z"
   },
   {
    "duration": 1242,
    "start_time": "2024-07-30T00:08:11.091Z"
   },
   {
    "duration": 620,
    "start_time": "2024-07-30T00:08:12.337Z"
   },
   {
    "duration": 17,
    "start_time": "2024-07-30T00:08:12.960Z"
   },
   {
    "duration": 43,
    "start_time": "2024-07-30T00:08:12.981Z"
   },
   {
    "duration": 7,
    "start_time": "2024-07-30T00:08:13.027Z"
   },
   {
    "duration": 6,
    "start_time": "2024-07-30T00:08:13.037Z"
   },
   {
    "duration": 8,
    "start_time": "2024-07-30T00:08:13.047Z"
   },
   {
    "duration": 9,
    "start_time": "2024-07-30T00:08:13.058Z"
   },
   {
    "duration": 63,
    "start_time": "2024-07-30T00:08:13.070Z"
   },
   {
    "duration": 94,
    "start_time": "2024-07-30T00:08:13.138Z"
   },
   {
    "duration": 8,
    "start_time": "2024-07-30T00:08:13.235Z"
   },
   {
    "duration": 15,
    "start_time": "2024-07-30T00:08:13.246Z"
   },
   {
    "duration": 69,
    "start_time": "2024-07-30T00:08:13.264Z"
   },
   {
    "duration": 16,
    "start_time": "2024-07-30T00:08:13.336Z"
   },
   {
    "duration": 13,
    "start_time": "2024-07-30T00:08:13.355Z"
   },
   {
    "duration": 64,
    "start_time": "2024-07-30T00:08:13.371Z"
   },
   {
    "duration": 6,
    "start_time": "2024-07-30T00:08:13.438Z"
   },
   {
    "duration": 128,
    "start_time": "2024-07-30T00:08:13.447Z"
   },
   {
    "duration": 230,
    "start_time": "2024-07-30T00:08:13.577Z"
   },
   {
    "duration": 43,
    "start_time": "2024-07-30T00:08:13.822Z"
   },
   {
    "duration": 11,
    "start_time": "2024-07-30T00:08:13.867Z"
   },
   {
    "duration": 50,
    "start_time": "2024-07-30T00:08:13.881Z"
   },
   {
    "duration": 8,
    "start_time": "2024-07-30T00:08:13.935Z"
   },
   {
    "duration": 14,
    "start_time": "2024-07-30T00:08:13.946Z"
   },
   {
    "duration": 10,
    "start_time": "2024-07-30T00:08:13.963Z"
   },
   {
    "duration": 1255,
    "start_time": "2024-07-30T00:43:44.473Z"
   },
   {
    "duration": 598,
    "start_time": "2024-07-30T00:43:45.732Z"
   },
   {
    "duration": 14,
    "start_time": "2024-07-30T00:43:46.333Z"
   },
   {
    "duration": 22,
    "start_time": "2024-07-30T00:43:46.352Z"
   },
   {
    "duration": 6,
    "start_time": "2024-07-30T00:43:46.378Z"
   },
   {
    "duration": 39,
    "start_time": "2024-07-30T00:43:46.388Z"
   },
   {
    "duration": 9,
    "start_time": "2024-07-30T00:43:46.429Z"
   },
   {
    "duration": 8,
    "start_time": "2024-07-30T00:43:46.441Z"
   },
   {
    "duration": 12,
    "start_time": "2024-07-30T00:43:46.452Z"
   },
   {
    "duration": 144,
    "start_time": "2024-07-30T00:43:46.469Z"
   },
   {
    "duration": 12,
    "start_time": "2024-07-30T00:43:46.622Z"
   },
   {
    "duration": 17,
    "start_time": "2024-07-30T00:43:46.638Z"
   },
   {
    "duration": 68,
    "start_time": "2024-07-30T00:43:46.658Z"
   },
   {
    "duration": 16,
    "start_time": "2024-07-30T00:43:46.729Z"
   },
   {
    "duration": 12,
    "start_time": "2024-07-30T00:43:46.749Z"
   },
   {
    "duration": 64,
    "start_time": "2024-07-30T00:43:46.764Z"
   },
   {
    "duration": 8,
    "start_time": "2024-07-30T00:43:46.831Z"
   },
   {
    "duration": 122,
    "start_time": "2024-07-30T00:43:46.841Z"
   },
   {
    "duration": 222,
    "start_time": "2024-07-30T00:43:46.965Z"
   },
   {
    "duration": 49,
    "start_time": "2024-07-30T00:43:47.190Z"
   },
   {
    "duration": 11,
    "start_time": "2024-07-30T00:43:47.242Z"
   },
   {
    "duration": 67,
    "start_time": "2024-07-30T00:43:47.256Z"
   },
   {
    "duration": 8,
    "start_time": "2024-07-30T00:43:47.326Z"
   },
   {
    "duration": 14,
    "start_time": "2024-07-30T00:43:47.338Z"
   },
   {
    "duration": 10,
    "start_time": "2024-07-30T00:43:47.355Z"
   },
   {
    "duration": 447,
    "start_time": "2024-07-30T00:58:32.256Z"
   },
   {
    "duration": 25,
    "start_time": "2024-07-30T00:58:37.480Z"
   },
   {
    "duration": 1306,
    "start_time": "2024-07-30T00:58:46.246Z"
   },
   {
    "duration": 627,
    "start_time": "2024-07-30T00:58:47.555Z"
   },
   {
    "duration": 16,
    "start_time": "2024-07-30T00:58:48.184Z"
   },
   {
    "duration": 36,
    "start_time": "2024-07-30T00:58:48.204Z"
   },
   {
    "duration": 7,
    "start_time": "2024-07-30T00:58:48.243Z"
   },
   {
    "duration": 9,
    "start_time": "2024-07-30T00:58:48.254Z"
   },
   {
    "duration": 8,
    "start_time": "2024-07-30T00:58:48.265Z"
   },
   {
    "duration": 49,
    "start_time": "2024-07-30T00:58:48.276Z"
   },
   {
    "duration": 11,
    "start_time": "2024-07-30T00:58:48.329Z"
   },
   {
    "duration": 111,
    "start_time": "2024-07-30T00:58:48.348Z"
   },
   {
    "duration": 7,
    "start_time": "2024-07-30T00:58:48.462Z"
   },
   {
    "duration": 16,
    "start_time": "2024-07-30T00:58:48.473Z"
   },
   {
    "duration": 63,
    "start_time": "2024-07-30T00:58:48.491Z"
   },
   {
    "duration": 15,
    "start_time": "2024-07-30T00:58:48.557Z"
   },
   {
    "duration": 48,
    "start_time": "2024-07-30T00:58:48.575Z"
   },
   {
    "duration": 34,
    "start_time": "2024-07-30T00:58:48.625Z"
   },
   {
    "duration": 9,
    "start_time": "2024-07-30T00:58:48.664Z"
   },
   {
    "duration": 147,
    "start_time": "2024-07-30T00:58:48.676Z"
   },
   {
    "duration": 207,
    "start_time": "2024-07-30T00:58:48.826Z"
   },
   {
    "duration": 45,
    "start_time": "2024-07-30T00:58:49.037Z"
   },
   {
    "duration": 38,
    "start_time": "2024-07-30T00:58:49.085Z"
   },
   {
    "duration": 467,
    "start_time": "2024-07-30T00:58:49.127Z"
   },
   {
    "duration": 0,
    "start_time": "2024-07-30T00:58:49.597Z"
   },
   {
    "duration": 0,
    "start_time": "2024-07-30T00:58:49.598Z"
   },
   {
    "duration": 0,
    "start_time": "2024-07-30T00:58:49.601Z"
   },
   {
    "duration": 30,
    "start_time": "2024-07-30T00:58:59.129Z"
   },
   {
    "duration": 7,
    "start_time": "2024-07-30T00:59:05.671Z"
   },
   {
    "duration": 13,
    "start_time": "2024-07-30T00:59:13.459Z"
   },
   {
    "duration": 10,
    "start_time": "2024-07-30T00:59:18.212Z"
   },
   {
    "duration": 3,
    "start_time": "2024-07-30T01:12:53.114Z"
   },
   {
    "duration": 3,
    "start_time": "2024-07-30T01:13:22.639Z"
   },
   {
    "duration": 24,
    "start_time": "2024-07-30T01:22:49.148Z"
   },
   {
    "duration": 63,
    "start_time": "2024-07-30T01:23:06.005Z"
   },
   {
    "duration": 275,
    "start_time": "2024-07-30T01:24:26.318Z"
   },
   {
    "duration": 13,
    "start_time": "2024-07-30T01:24:47.664Z"
   },
   {
    "duration": 6,
    "start_time": "2024-07-30T01:43:50.733Z"
   },
   {
    "duration": 28,
    "start_time": "2024-07-30T01:44:43.025Z"
   },
   {
    "duration": 30,
    "start_time": "2024-07-30T01:45:03.664Z"
   },
   {
    "duration": 209,
    "start_time": "2024-07-30T01:45:12.470Z"
   },
   {
    "duration": 418,
    "start_time": "2024-07-30T01:46:10.839Z"
   },
   {
    "duration": 6,
    "start_time": "2024-07-30T01:46:26.006Z"
   },
   {
    "duration": 290,
    "start_time": "2024-07-30T01:47:47.737Z"
   },
   {
    "duration": 34,
    "start_time": "2024-07-30T01:49:22.447Z"
   },
   {
    "duration": 40,
    "start_time": "2024-07-30T01:49:34.098Z"
   },
   {
    "duration": 37,
    "start_time": "2024-07-30T01:49:47.329Z"
   },
   {
    "duration": 13,
    "start_time": "2024-07-30T01:50:20.152Z"
   },
   {
    "duration": 1139,
    "start_time": "2024-07-30T01:50:26.851Z"
   },
   {
    "duration": 1,
    "start_time": "2024-07-30T01:50:27.993Z"
   },
   {
    "duration": 47,
    "start_time": "2024-07-30T01:50:55.554Z"
   },
   {
    "duration": 163,
    "start_time": "2024-07-30T01:51:26.570Z"
   },
   {
    "duration": 85,
    "start_time": "2024-07-30T01:51:32.563Z"
   },
   {
    "duration": 15,
    "start_time": "2024-07-30T01:51:34.943Z"
   },
   {
    "duration": 9,
    "start_time": "2024-07-30T01:56:06.036Z"
   },
   {
    "duration": 166,
    "start_time": "2024-07-30T02:03:53.327Z"
   },
   {
    "duration": 41,
    "start_time": "2024-07-30T02:05:37.502Z"
   },
   {
    "duration": 35,
    "start_time": "2024-07-30T02:07:34.322Z"
   },
   {
    "duration": 42,
    "start_time": "2024-07-30T02:07:42.943Z"
   },
   {
    "duration": 334,
    "start_time": "2024-07-30T02:09:18.100Z"
   },
   {
    "duration": 36,
    "start_time": "2024-07-30T02:09:31.377Z"
   },
   {
    "duration": 31,
    "start_time": "2024-07-30T02:10:04.068Z"
   },
   {
    "duration": 42,
    "start_time": "2024-07-30T02:10:14.945Z"
   },
   {
    "duration": 56,
    "start_time": "2024-07-30T02:12:46.616Z"
   },
   {
    "duration": 43,
    "start_time": "2024-07-30T02:13:14.315Z"
   },
   {
    "duration": 45,
    "start_time": "2024-07-30T02:15:40.748Z"
   },
   {
    "duration": 42,
    "start_time": "2024-07-30T02:18:03.209Z"
   },
   {
    "duration": 12,
    "start_time": "2024-07-30T02:18:17.209Z"
   },
   {
    "duration": 56,
    "start_time": "2024-07-30T02:18:54.903Z"
   },
   {
    "duration": 13,
    "start_time": "2024-07-30T02:19:04.346Z"
   },
   {
    "duration": 41,
    "start_time": "2024-07-30T02:19:40.908Z"
   },
   {
    "duration": 12,
    "start_time": "2024-07-30T02:20:12.359Z"
   },
   {
    "duration": 25,
    "start_time": "2024-07-30T02:22:04.363Z"
   },
   {
    "duration": 1384,
    "start_time": "2024-07-30T02:22:40.799Z"
   },
   {
    "duration": 614,
    "start_time": "2024-07-30T02:22:42.187Z"
   },
   {
    "duration": 20,
    "start_time": "2024-07-30T02:22:42.804Z"
   },
   {
    "duration": 25,
    "start_time": "2024-07-30T02:22:42.829Z"
   },
   {
    "duration": 7,
    "start_time": "2024-07-30T02:22:42.858Z"
   },
   {
    "duration": 8,
    "start_time": "2024-07-30T02:22:42.868Z"
   },
   {
    "duration": 49,
    "start_time": "2024-07-30T02:22:42.878Z"
   },
   {
    "duration": 9,
    "start_time": "2024-07-30T02:22:42.930Z"
   },
   {
    "duration": 12,
    "start_time": "2024-07-30T02:22:42.942Z"
   },
   {
    "duration": 119,
    "start_time": "2024-07-30T02:22:42.961Z"
   },
   {
    "duration": 6,
    "start_time": "2024-07-30T02:22:43.083Z"
   },
   {
    "duration": 35,
    "start_time": "2024-07-30T02:22:43.093Z"
   },
   {
    "duration": 47,
    "start_time": "2024-07-30T02:22:43.131Z"
   },
   {
    "duration": 15,
    "start_time": "2024-07-30T02:22:43.181Z"
   },
   {
    "duration": 32,
    "start_time": "2024-07-30T02:22:43.199Z"
   },
   {
    "duration": 32,
    "start_time": "2024-07-30T02:22:43.234Z"
   },
   {
    "duration": 7,
    "start_time": "2024-07-30T02:22:43.269Z"
   },
   {
    "duration": 147,
    "start_time": "2024-07-30T02:22:43.280Z"
   },
   {
    "duration": 224,
    "start_time": "2024-07-30T02:22:43.430Z"
   },
   {
    "duration": 43,
    "start_time": "2024-07-30T02:22:43.657Z"
   },
   {
    "duration": 27,
    "start_time": "2024-07-30T02:22:43.703Z"
   },
   {
    "duration": 33,
    "start_time": "2024-07-30T02:22:43.734Z"
   },
   {
    "duration": 7,
    "start_time": "2024-07-30T02:22:43.769Z"
   },
   {
    "duration": 46,
    "start_time": "2024-07-30T02:22:43.780Z"
   },
   {
    "duration": 10,
    "start_time": "2024-07-30T02:22:43.829Z"
   },
   {
    "duration": 196,
    "start_time": "2024-07-30T02:22:43.841Z"
   },
   {
    "duration": 50,
    "start_time": "2024-07-30T02:22:44.040Z"
   },
   {
    "duration": 29,
    "start_time": "2024-07-30T02:22:44.097Z"
   },
   {
    "duration": 549,
    "start_time": "2024-07-30T02:22:44.129Z"
   },
   {
    "duration": 14,
    "start_time": "2024-07-30T02:26:24.607Z"
   },
   {
    "duration": 154,
    "start_time": "2024-07-30T02:26:30.770Z"
   },
   {
    "duration": 62,
    "start_time": "2024-07-30T02:27:22.881Z"
   },
   {
    "duration": 13,
    "start_time": "2024-07-30T02:27:43.419Z"
   },
   {
    "duration": 339,
    "start_time": "2024-07-30T02:28:16.249Z"
   },
   {
    "duration": 13,
    "start_time": "2024-07-30T02:28:16.840Z"
   },
   {
    "duration": 16,
    "start_time": "2024-07-30T02:28:20.583Z"
   },
   {
    "duration": 78,
    "start_time": "2024-07-30T02:28:36.259Z"
   },
   {
    "duration": 23,
    "start_time": "2024-07-30T02:28:36.998Z"
   },
   {
    "duration": 15,
    "start_time": "2024-07-30T02:30:05.595Z"
   },
   {
    "duration": 9,
    "start_time": "2024-07-30T02:30:22.828Z"
   },
   {
    "duration": 284,
    "start_time": "2024-07-30T02:31:58.849Z"
   },
   {
    "duration": 84,
    "start_time": "2024-07-30T02:32:14.025Z"
   },
   {
    "duration": 89,
    "start_time": "2024-07-30T02:32:39.769Z"
   },
   {
    "duration": 77,
    "start_time": "2024-07-30T02:34:00.042Z"
   },
   {
    "duration": 12,
    "start_time": "2024-07-30T02:35:36.051Z"
   },
   {
    "duration": 10,
    "start_time": "2024-07-30T02:46:42.422Z"
   },
   {
    "duration": 1454,
    "start_time": "2024-07-30T02:47:05.212Z"
   },
   {
    "duration": 607,
    "start_time": "2024-07-30T02:47:06.669Z"
   },
   {
    "duration": 19,
    "start_time": "2024-07-30T02:47:07.279Z"
   },
   {
    "duration": 40,
    "start_time": "2024-07-30T02:47:07.302Z"
   },
   {
    "duration": 10,
    "start_time": "2024-07-30T02:47:07.346Z"
   },
   {
    "duration": 7,
    "start_time": "2024-07-30T02:47:07.358Z"
   },
   {
    "duration": 10,
    "start_time": "2024-07-30T02:47:07.368Z"
   },
   {
    "duration": 47,
    "start_time": "2024-07-30T02:47:07.381Z"
   },
   {
    "duration": 12,
    "start_time": "2024-07-30T02:47:07.430Z"
   },
   {
    "duration": 110,
    "start_time": "2024-07-30T02:47:07.449Z"
   },
   {
    "duration": 7,
    "start_time": "2024-07-30T02:47:07.561Z"
   },
   {
    "duration": 15,
    "start_time": "2024-07-30T02:47:07.571Z"
   },
   {
    "duration": 63,
    "start_time": "2024-07-30T02:47:07.589Z"
   },
   {
    "duration": 16,
    "start_time": "2024-07-30T02:47:07.654Z"
   },
   {
    "duration": 11,
    "start_time": "2024-07-30T02:47:07.673Z"
   },
   {
    "duration": 67,
    "start_time": "2024-07-30T02:47:07.688Z"
   },
   {
    "duration": 7,
    "start_time": "2024-07-30T02:47:07.759Z"
   },
   {
    "duration": 136,
    "start_time": "2024-07-30T02:47:07.769Z"
   },
   {
    "duration": 220,
    "start_time": "2024-07-30T02:47:07.907Z"
   },
   {
    "duration": 45,
    "start_time": "2024-07-30T02:47:08.130Z"
   },
   {
    "duration": 11,
    "start_time": "2024-07-30T02:47:08.177Z"
   },
   {
    "duration": 57,
    "start_time": "2024-07-30T02:47:08.191Z"
   },
   {
    "duration": 7,
    "start_time": "2024-07-30T02:47:08.251Z"
   },
   {
    "duration": 14,
    "start_time": "2024-07-30T02:47:08.262Z"
   },
   {
    "duration": 46,
    "start_time": "2024-07-30T02:47:08.278Z"
   },
   {
    "duration": 178,
    "start_time": "2024-07-30T02:47:08.328Z"
   },
   {
    "duration": 95,
    "start_time": "2024-07-30T02:47:08.509Z"
   },
   {
    "duration": 31,
    "start_time": "2024-07-30T02:47:08.610Z"
   },
   {
    "duration": 10,
    "start_time": "2024-07-30T02:47:08.644Z"
   },
   {
    "duration": 10,
    "start_time": "2024-07-30T02:47:08.657Z"
   },
   {
    "duration": 10,
    "start_time": "2024-07-30T02:48:15.557Z"
   },
   {
    "duration": 40,
    "start_time": "2024-07-30T02:48:30.458Z"
   },
   {
    "duration": 1145,
    "start_time": "2024-07-30T02:49:01.902Z"
   },
   {
    "duration": 16,
    "start_time": "2024-07-30T02:49:16.404Z"
   },
   {
    "duration": 572,
    "start_time": "2024-07-30T02:49:46.080Z"
   },
   {
    "duration": 49,
    "start_time": "2024-07-30T02:50:04.907Z"
   },
   {
    "duration": 23,
    "start_time": "2024-07-30T02:50:06.160Z"
   },
   {
    "duration": 10,
    "start_time": "2024-07-30T02:50:47.404Z"
   },
   {
    "duration": 24,
    "start_time": "2024-07-30T02:51:19.445Z"
   },
   {
    "duration": 52,
    "start_time": "2024-07-30T02:52:07.316Z"
   },
   {
    "duration": 22,
    "start_time": "2024-07-30T02:52:08.176Z"
   },
   {
    "duration": 22,
    "start_time": "2024-07-30T02:52:49.902Z"
   },
   {
    "duration": 25,
    "start_time": "2024-07-30T02:52:56.294Z"
   },
   {
    "duration": 9,
    "start_time": "2024-07-30T02:52:57.293Z"
   },
   {
    "duration": 15,
    "start_time": "2024-07-30T02:54:55.287Z"
   },
   {
    "duration": 8,
    "start_time": "2024-07-30T02:55:11.896Z"
   },
   {
    "duration": 8,
    "start_time": "2024-07-30T02:55:28.742Z"
   },
   {
    "duration": 10,
    "start_time": "2024-07-30T02:55:48.263Z"
   },
   {
    "duration": 24,
    "start_time": "2024-07-30T02:56:17.462Z"
   },
   {
    "duration": 8,
    "start_time": "2024-07-30T02:56:27.954Z"
   },
   {
    "duration": 5,
    "start_time": "2024-07-30T02:58:30.815Z"
   },
   {
    "duration": 43,
    "start_time": "2024-07-30T02:58:43.110Z"
   },
   {
    "duration": 35,
    "start_time": "2024-07-30T03:03:58.892Z"
   },
   {
    "duration": 69,
    "start_time": "2024-07-30T03:06:09.812Z"
   },
   {
    "duration": 22,
    "start_time": "2024-07-30T03:10:53.140Z"
   },
   {
    "duration": 41,
    "start_time": "2024-07-30T03:11:08.514Z"
   },
   {
    "duration": 45,
    "start_time": "2024-07-30T03:11:22.032Z"
   },
   {
    "duration": 37,
    "start_time": "2024-07-30T03:11:57.742Z"
   },
   {
    "duration": 248,
    "start_time": "2024-07-30T03:13:19.256Z"
   },
   {
    "duration": 269,
    "start_time": "2024-07-30T03:13:30.313Z"
   },
   {
    "duration": 806,
    "start_time": "2024-07-30T03:14:20.778Z"
   },
   {
    "duration": 551,
    "start_time": "2024-07-30T03:14:36.828Z"
   },
   {
    "duration": 17,
    "start_time": "2024-07-30T03:21:45.233Z"
   },
   {
    "duration": 13,
    "start_time": "2024-07-30T03:22:56.928Z"
   },
   {
    "duration": 14,
    "start_time": "2024-07-30T03:24:31.828Z"
   },
   {
    "duration": 53,
    "start_time": "2024-07-30T03:41:55.687Z"
   },
   {
    "duration": 52,
    "start_time": "2024-07-30T03:42:26.124Z"
   },
   {
    "duration": 1409,
    "start_time": "2024-07-30T03:43:41.955Z"
   },
   {
    "duration": 615,
    "start_time": "2024-07-30T03:43:43.368Z"
   },
   {
    "duration": 16,
    "start_time": "2024-07-30T03:43:43.985Z"
   },
   {
    "duration": 35,
    "start_time": "2024-07-30T03:43:44.005Z"
   },
   {
    "duration": 7,
    "start_time": "2024-07-30T03:43:44.043Z"
   },
   {
    "duration": 11,
    "start_time": "2024-07-30T03:43:44.054Z"
   },
   {
    "duration": 9,
    "start_time": "2024-07-30T03:43:44.069Z"
   },
   {
    "duration": 47,
    "start_time": "2024-07-30T03:43:44.081Z"
   },
   {
    "duration": 12,
    "start_time": "2024-07-30T03:43:44.130Z"
   },
   {
    "duration": 113,
    "start_time": "2024-07-30T03:43:44.149Z"
   },
   {
    "duration": 8,
    "start_time": "2024-07-30T03:43:44.265Z"
   },
   {
    "duration": 15,
    "start_time": "2024-07-30T03:43:44.276Z"
   },
   {
    "duration": 66,
    "start_time": "2024-07-30T03:43:44.294Z"
   },
   {
    "duration": 15,
    "start_time": "2024-07-30T03:43:44.363Z"
   },
   {
    "duration": 43,
    "start_time": "2024-07-30T03:43:44.381Z"
   },
   {
    "duration": 34,
    "start_time": "2024-07-30T03:43:44.427Z"
   },
   {
    "duration": 7,
    "start_time": "2024-07-30T03:43:44.464Z"
   },
   {
    "duration": 153,
    "start_time": "2024-07-30T03:43:44.474Z"
   },
   {
    "duration": 210,
    "start_time": "2024-07-30T03:43:44.630Z"
   },
   {
    "duration": 45,
    "start_time": "2024-07-30T03:43:44.843Z"
   },
   {
    "duration": 32,
    "start_time": "2024-07-30T03:43:44.891Z"
   },
   {
    "duration": 31,
    "start_time": "2024-07-30T03:43:44.925Z"
   },
   {
    "duration": 8,
    "start_time": "2024-07-30T03:43:44.958Z"
   },
   {
    "duration": 14,
    "start_time": "2024-07-30T03:43:44.969Z"
   },
   {
    "duration": 10,
    "start_time": "2024-07-30T03:43:45.023Z"
   },
   {
    "duration": 173,
    "start_time": "2024-07-30T03:43:45.036Z"
   },
   {
    "duration": 92,
    "start_time": "2024-07-30T03:43:45.212Z"
   },
   {
    "duration": 32,
    "start_time": "2024-07-30T03:43:45.310Z"
   },
   {
    "duration": 8,
    "start_time": "2024-07-30T03:43:45.345Z"
   },
   {
    "duration": 77,
    "start_time": "2024-07-30T03:43:45.357Z"
   },
   {
    "duration": 24,
    "start_time": "2024-07-30T03:43:45.437Z"
   },
   {
    "duration": 8,
    "start_time": "2024-07-30T03:43:45.464Z"
   },
   {
    "duration": 74,
    "start_time": "2024-07-30T03:43:45.475Z"
   },
   {
    "duration": 33,
    "start_time": "2024-07-30T03:43:45.552Z"
   },
   {
    "duration": 594,
    "start_time": "2024-07-30T03:43:45.589Z"
   },
   {
    "duration": 15,
    "start_time": "2024-07-30T03:43:46.186Z"
   },
   {
    "duration": 23,
    "start_time": "2024-07-30T03:43:46.204Z"
   },
   {
    "duration": 133,
    "start_time": "2024-07-30T03:43:46.229Z"
   }
  ],
  "kernelspec": {
   "display_name": "Python 3 (ipykernel)",
   "language": "python",
   "name": "python3"
  },
  "language_info": {
   "codemirror_mode": {
    "name": "ipython",
    "version": 3
   },
   "file_extension": ".py",
   "mimetype": "text/x-python",
   "name": "python",
   "nbconvert_exporter": "python",
   "pygments_lexer": "ipython3",
   "version": "3.9.19"
  },
  "toc": {
   "base_numbering": 1,
   "nav_menu": {},
   "number_sections": true,
   "sideBar": true,
   "skip_h1_title": false,
   "title_cell": "Table of Contents",
   "title_sidebar": "Contents",
   "toc_cell": true,
   "toc_position": {
    "height": "calc(100% - 180px)",
    "left": "10px",
    "top": "150px",
    "width": "290.712px"
   },
   "toc_section_display": true,
   "toc_window_display": false
  }
 },
 "nbformat": 4,
 "nbformat_minor": 2
}
